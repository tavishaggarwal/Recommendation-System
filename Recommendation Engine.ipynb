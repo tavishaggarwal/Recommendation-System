{
 "cells": [
  {
   "cell_type": "code",
   "execution_count": 1,
   "metadata": {},
   "outputs": [],
   "source": [
    "import warnings\n",
    "warnings.filterwarnings('ignore')"
   ]
  },
  {
   "cell_type": "code",
   "execution_count": 2,
   "metadata": {},
   "outputs": [],
   "source": [
    "# !pip install --user implicit\n",
    "import implicit"
   ]
  },
  {
   "cell_type": "code",
   "execution_count": 3,
   "metadata": {},
   "outputs": [],
   "source": [
    "import numpy as np\n",
    "import pandas as pd\n",
    "import seaborn as sns\n",
    "import matplotlib.pyplot as plt\n",
    "from sklearn.model_selection import train_test_split\n",
    "from sklearn import preprocessing\n",
    "from sklearn.metrics.pairwise import pairwise_distances\n",
    "from tqdm import tqdm"
   ]
  },
  {
   "cell_type": "code",
   "execution_count": 4,
   "metadata": {},
   "outputs": [],
   "source": [
    "item = pd.read_csv('data/platform_content.csv')\n",
    "consumer_interactions = pd.read_csv('data/consumer_transanctions.csv')"
   ]
  },
  {
   "cell_type": "code",
   "execution_count": 5,
   "metadata": {},
   "outputs": [
    {
     "data": {
      "text/plain": [
       "-2990485643677949494    3\n",
       "-1312850681127865433    2\n",
       " 1433951803438448289    2\n",
       " 8416004328454490172    2\n",
       "-2377881752614744441    2\n",
       "                       ..\n",
       " 8857442213860272383    1\n",
       " 7434270606888620096    1\n",
       " 8095004770374551394    1\n",
       " 6658257247913756761    1\n",
       "-9166778629773133902    1\n",
       "Name: item_id, Length: 3057, dtype: int64"
      ]
     },
     "execution_count": 5,
     "metadata": {},
     "output_type": "execute_result"
    }
   ],
   "source": [
    "# One item has multiple rows\n",
    "item['item_id'].value_counts()"
   ]
  },
  {
   "cell_type": "code",
   "execution_count": 6,
   "metadata": {},
   "outputs": [
    {
     "data": {
      "text/html": [
       "<div>\n",
       "<style scoped>\n",
       "    .dataframe tbody tr th:only-of-type {\n",
       "        vertical-align: middle;\n",
       "    }\n",
       "\n",
       "    .dataframe tbody tr th {\n",
       "        vertical-align: top;\n",
       "    }\n",
       "\n",
       "    .dataframe thead th {\n",
       "        text-align: right;\n",
       "    }\n",
       "</style>\n",
       "<table border=\"1\" class=\"dataframe\">\n",
       "  <thead>\n",
       "    <tr style=\"text-align: right;\">\n",
       "      <th></th>\n",
       "      <th>event_timestamp</th>\n",
       "      <th>interaction_type</th>\n",
       "      <th>item_id</th>\n",
       "      <th>producer_id</th>\n",
       "      <th>producer_session_id</th>\n",
       "      <th>producer_device_info</th>\n",
       "      <th>producer_location</th>\n",
       "      <th>producer_country</th>\n",
       "      <th>item_type</th>\n",
       "      <th>item_url</th>\n",
       "      <th>title</th>\n",
       "      <th>text_description</th>\n",
       "      <th>language</th>\n",
       "    </tr>\n",
       "  </thead>\n",
       "  <tbody>\n",
       "    <tr>\n",
       "      <th>0</th>\n",
       "      <td>1459192779</td>\n",
       "      <td>content_pulled_out</td>\n",
       "      <td>-6451309518266745024</td>\n",
       "      <td>4340306774493623681</td>\n",
       "      <td>8940341205206233829</td>\n",
       "      <td>NaN</td>\n",
       "      <td>NaN</td>\n",
       "      <td>NaN</td>\n",
       "      <td>HTML</td>\n",
       "      <td>http://www.nytimes.com/2016/03/28/business/dea...</td>\n",
       "      <td>Ethereum, a Virtual Currency, Enables Transact...</td>\n",
       "      <td>All of this work is still very early. The firs...</td>\n",
       "      <td>en</td>\n",
       "    </tr>\n",
       "    <tr>\n",
       "      <th>1</th>\n",
       "      <td>1459193988</td>\n",
       "      <td>content_present</td>\n",
       "      <td>-4110354420726924665</td>\n",
       "      <td>4340306774493623681</td>\n",
       "      <td>8940341205206233829</td>\n",
       "      <td>NaN</td>\n",
       "      <td>NaN</td>\n",
       "      <td>NaN</td>\n",
       "      <td>HTML</td>\n",
       "      <td>http://www.nytimes.com/2016/03/28/business/dea...</td>\n",
       "      <td>Ethereum, a Virtual Currency, Enables Transact...</td>\n",
       "      <td>All of this work is still very early. The firs...</td>\n",
       "      <td>en</td>\n",
       "    </tr>\n",
       "    <tr>\n",
       "      <th>2</th>\n",
       "      <td>1459194146</td>\n",
       "      <td>content_present</td>\n",
       "      <td>-7292285110016212249</td>\n",
       "      <td>4340306774493623681</td>\n",
       "      <td>8940341205206233829</td>\n",
       "      <td>NaN</td>\n",
       "      <td>NaN</td>\n",
       "      <td>NaN</td>\n",
       "      <td>HTML</td>\n",
       "      <td>http://cointelegraph.com/news/bitcoin-future-w...</td>\n",
       "      <td>Bitcoin Future: When GBPcoin of Branson Wins O...</td>\n",
       "      <td>The alarm clock wakes me at 8:00 with stream o...</td>\n",
       "      <td>en</td>\n",
       "    </tr>\n",
       "    <tr>\n",
       "      <th>3</th>\n",
       "      <td>1459194474</td>\n",
       "      <td>content_present</td>\n",
       "      <td>-6151852268067518688</td>\n",
       "      <td>3891637997717104548</td>\n",
       "      <td>-1457532940883382585</td>\n",
       "      <td>NaN</td>\n",
       "      <td>NaN</td>\n",
       "      <td>NaN</td>\n",
       "      <td>HTML</td>\n",
       "      <td>https://cloudplatform.googleblog.com/2016/03/G...</td>\n",
       "      <td>Google Data Center 360° Tour</td>\n",
       "      <td>We're excited to share the Google Data Center ...</td>\n",
       "      <td>en</td>\n",
       "    </tr>\n",
       "    <tr>\n",
       "      <th>4</th>\n",
       "      <td>1459194497</td>\n",
       "      <td>content_present</td>\n",
       "      <td>2448026894306402386</td>\n",
       "      <td>4340306774493623681</td>\n",
       "      <td>8940341205206233829</td>\n",
       "      <td>NaN</td>\n",
       "      <td>NaN</td>\n",
       "      <td>NaN</td>\n",
       "      <td>HTML</td>\n",
       "      <td>https://bitcoinmagazine.com/articles/ibm-wants...</td>\n",
       "      <td>IBM Wants to \"Evolve the Internet\" With Blockc...</td>\n",
       "      <td>The Aite Group projects the blockchain market ...</td>\n",
       "      <td>en</td>\n",
       "    </tr>\n",
       "  </tbody>\n",
       "</table>\n",
       "</div>"
      ],
      "text/plain": [
       "   event_timestamp    interaction_type              item_id  \\\n",
       "0       1459192779  content_pulled_out -6451309518266745024   \n",
       "1       1459193988     content_present -4110354420726924665   \n",
       "2       1459194146     content_present -7292285110016212249   \n",
       "3       1459194474     content_present -6151852268067518688   \n",
       "4       1459194497     content_present  2448026894306402386   \n",
       "\n",
       "           producer_id  producer_session_id producer_device_info  \\\n",
       "0  4340306774493623681  8940341205206233829                  NaN   \n",
       "1  4340306774493623681  8940341205206233829                  NaN   \n",
       "2  4340306774493623681  8940341205206233829                  NaN   \n",
       "3  3891637997717104548 -1457532940883382585                  NaN   \n",
       "4  4340306774493623681  8940341205206233829                  NaN   \n",
       "\n",
       "  producer_location producer_country item_type  \\\n",
       "0               NaN              NaN      HTML   \n",
       "1               NaN              NaN      HTML   \n",
       "2               NaN              NaN      HTML   \n",
       "3               NaN              NaN      HTML   \n",
       "4               NaN              NaN      HTML   \n",
       "\n",
       "                                            item_url  \\\n",
       "0  http://www.nytimes.com/2016/03/28/business/dea...   \n",
       "1  http://www.nytimes.com/2016/03/28/business/dea...   \n",
       "2  http://cointelegraph.com/news/bitcoin-future-w...   \n",
       "3  https://cloudplatform.googleblog.com/2016/03/G...   \n",
       "4  https://bitcoinmagazine.com/articles/ibm-wants...   \n",
       "\n",
       "                                               title  \\\n",
       "0  Ethereum, a Virtual Currency, Enables Transact...   \n",
       "1  Ethereum, a Virtual Currency, Enables Transact...   \n",
       "2  Bitcoin Future: When GBPcoin of Branson Wins O...   \n",
       "3                       Google Data Center 360° Tour   \n",
       "4  IBM Wants to \"Evolve the Internet\" With Blockc...   \n",
       "\n",
       "                                    text_description language  \n",
       "0  All of this work is still very early. The firs...       en  \n",
       "1  All of this work is still very early. The firs...       en  \n",
       "2  The alarm clock wakes me at 8:00 with stream o...       en  \n",
       "3  We're excited to share the Google Data Center ...       en  \n",
       "4  The Aite Group projects the blockchain market ...       en  "
      ]
     },
     "execution_count": 6,
     "metadata": {},
     "output_type": "execute_result"
    }
   ],
   "source": [
    "item.head()"
   ]
  },
  {
   "cell_type": "code",
   "execution_count": 7,
   "metadata": {},
   "outputs": [
    {
     "data": {
      "text/html": [
       "<div>\n",
       "<style scoped>\n",
       "    .dataframe tbody tr th:only-of-type {\n",
       "        vertical-align: middle;\n",
       "    }\n",
       "\n",
       "    .dataframe tbody tr th {\n",
       "        vertical-align: top;\n",
       "    }\n",
       "\n",
       "    .dataframe thead th {\n",
       "        text-align: right;\n",
       "    }\n",
       "</style>\n",
       "<table border=\"1\" class=\"dataframe\">\n",
       "  <thead>\n",
       "    <tr style=\"text-align: right;\">\n",
       "      <th></th>\n",
       "      <th>event_timestamp</th>\n",
       "      <th>interaction_type</th>\n",
       "      <th>item_id</th>\n",
       "      <th>consumer_id</th>\n",
       "      <th>consumer_session_id</th>\n",
       "      <th>consumer_device_info</th>\n",
       "      <th>consumer_location</th>\n",
       "      <th>country</th>\n",
       "    </tr>\n",
       "  </thead>\n",
       "  <tbody>\n",
       "    <tr>\n",
       "      <th>0</th>\n",
       "      <td>1465413032</td>\n",
       "      <td>content_watched</td>\n",
       "      <td>-3499919498720038879</td>\n",
       "      <td>-8845298781299428018</td>\n",
       "      <td>1264196770339959068</td>\n",
       "      <td>NaN</td>\n",
       "      <td>NaN</td>\n",
       "      <td>NaN</td>\n",
       "    </tr>\n",
       "    <tr>\n",
       "      <th>1</th>\n",
       "      <td>1465412560</td>\n",
       "      <td>content_watched</td>\n",
       "      <td>8890720798209849691</td>\n",
       "      <td>-1032019229384696495</td>\n",
       "      <td>3621737643587579081</td>\n",
       "      <td>Mozilla/5.0 (Macintosh; Intel Mac OS X 10_11_2...</td>\n",
       "      <td>NY</td>\n",
       "      <td>US</td>\n",
       "    </tr>\n",
       "    <tr>\n",
       "      <th>2</th>\n",
       "      <td>1465416190</td>\n",
       "      <td>content_watched</td>\n",
       "      <td>310515487419366995</td>\n",
       "      <td>-1130272294246983140</td>\n",
       "      <td>2631864456530402479</td>\n",
       "      <td>NaN</td>\n",
       "      <td>NaN</td>\n",
       "      <td>NaN</td>\n",
       "    </tr>\n",
       "    <tr>\n",
       "      <th>3</th>\n",
       "      <td>1465413895</td>\n",
       "      <td>content_followed</td>\n",
       "      <td>310515487419366995</td>\n",
       "      <td>344280948527967603</td>\n",
       "      <td>-3167637573980064150</td>\n",
       "      <td>NaN</td>\n",
       "      <td>NaN</td>\n",
       "      <td>NaN</td>\n",
       "    </tr>\n",
       "    <tr>\n",
       "      <th>4</th>\n",
       "      <td>1465412290</td>\n",
       "      <td>content_watched</td>\n",
       "      <td>-7820640624231356730</td>\n",
       "      <td>-445337111692715325</td>\n",
       "      <td>561148 1178424124714</td>\n",
       "      <td>NaN</td>\n",
       "      <td>NaN</td>\n",
       "      <td>NaN</td>\n",
       "    </tr>\n",
       "  </tbody>\n",
       "</table>\n",
       "</div>"
      ],
      "text/plain": [
       "   event_timestamp  interaction_type              item_id  \\\n",
       "0       1465413032   content_watched -3499919498720038879   \n",
       "1       1465412560   content_watched  8890720798209849691   \n",
       "2       1465416190   content_watched   310515487419366995   \n",
       "3       1465413895  content_followed   310515487419366995   \n",
       "4       1465412290   content_watched -7820640624231356730   \n",
       "\n",
       "           consumer_id   consumer_session_id  \\\n",
       "0 -8845298781299428018   1264196770339959068   \n",
       "1 -1032019229384696495   3621737643587579081   \n",
       "2 -1130272294246983140   2631864456530402479   \n",
       "3   344280948527967603  -3167637573980064150   \n",
       "4  -445337111692715325  561148 1178424124714   \n",
       "\n",
       "                                consumer_device_info consumer_location country  \n",
       "0                                                NaN               NaN     NaN  \n",
       "1  Mozilla/5.0 (Macintosh; Intel Mac OS X 10_11_2...                NY      US  \n",
       "2                                                NaN               NaN     NaN  \n",
       "3                                                NaN               NaN     NaN  \n",
       "4                                                NaN               NaN     NaN  "
      ]
     },
     "execution_count": 7,
     "metadata": {},
     "output_type": "execute_result"
    }
   ],
   "source": [
    "consumer_interactions.head()"
   ]
  },
  {
   "cell_type": "code",
   "execution_count": 8,
   "metadata": {},
   "outputs": [
    {
     "data": {
      "text/plain": [
       "0"
      ]
     },
     "execution_count": 8,
     "metadata": {},
     "output_type": "execute_result"
    }
   ],
   "source": [
    "consumer_interactions[~consumer_interactions['item_id'].isin(item['item_id'])]['item_id'].nunique()"
   ]
  },
  {
   "cell_type": "markdown",
   "metadata": {},
   "source": [
    "**Inference**: There are 0 items which are available in customers interaction data but are not available in item dataset."
   ]
  },
  {
   "cell_type": "markdown",
   "metadata": {},
   "source": [
    "## Data pre-processing\n",
    "rating: Generate Rating values based on the feature 'interaction type' with the highest weightage to content_followed, followed by content_commented_on, content saved, content liked and content_watched."
   ]
  },
  {
   "cell_type": "code",
   "execution_count": 9,
   "metadata": {},
   "outputs": [
    {
     "data": {
      "text/plain": [
       "en    2264\n",
       "pt     850\n",
       "la       4\n",
       "es       2\n",
       "ja       2\n",
       "Name: language, dtype: int64"
      ]
     },
     "execution_count": 9,
     "metadata": {},
     "output_type": "execute_result"
    }
   ],
   "source": [
    "item['language'].value_counts()"
   ]
  },
  {
   "cell_type": "code",
   "execution_count": 10,
   "metadata": {},
   "outputs": [],
   "source": [
    "# Filtering content to only english language\n",
    "item = item[item['language'] == 'en']"
   ]
  },
  {
   "cell_type": "code",
   "execution_count": 11,
   "metadata": {},
   "outputs": [
    {
     "data": {
      "text/plain": [
       "833"
      ]
     },
     "execution_count": 11,
     "metadata": {},
     "output_type": "execute_result"
    }
   ],
   "source": [
    "# There are 833 cunsumer interactions which are related to non english content.\n",
    "consumer_interactions[~consumer_interactions['item_id'].isin(item['item_id'])]['item_id'].nunique()"
   ]
  },
  {
   "cell_type": "code",
   "execution_count": 12,
   "metadata": {},
   "outputs": [],
   "source": [
    "consumer_interactions = consumer_interactions[consumer_interactions['item_id'].isin(item['item_id'])]"
   ]
  },
  {
   "cell_type": "code",
   "execution_count": 13,
   "metadata": {},
   "outputs": [
    {
     "data": {
      "image/png": "[encoded data removed]",
      "text/plain": [
       "<Figure size 432x288 with 1 Axes>"
      ]
     },
     "metadata": {},
     "output_type": "display_data"
    }
   ],
   "source": [
    "# Data Verification\n",
    "sns.countplot(x= 'language', data=item)\n",
    "plt.title('Distribution of language in which content is produced')\n",
    "plt.xticks(rotation=90)\n",
    "plt.show()"
   ]
  },
  {
   "cell_type": "code",
   "execution_count": 14,
   "metadata": {},
   "outputs": [
    {
     "data": {
      "text/plain": [
       "content_watched         39848\n",
       "content_liked            3431\n",
       "content_saved            1847\n",
       "content_commented_on     1038\n",
       "content_followed          902\n",
       "Name: interaction_type, dtype: int64"
      ]
     },
     "execution_count": 14,
     "metadata": {},
     "output_type": "execute_result"
    }
   ],
   "source": [
    "consumer_interactions['interaction_type'].value_counts()"
   ]
  },
  {
   "cell_type": "markdown",
   "metadata": {},
   "source": [
    "### Generating rating feature"
   ]
  },
  {
   "cell_type": "code",
   "execution_count": 15,
   "metadata": {},
   "outputs": [],
   "source": [
    "def generateRating(val):\n",
    "    if val == 'content_followed':\n",
    "        return 5\n",
    "    elif val == 'content_commented_on':\n",
    "        return 4\n",
    "    elif val == 'content_saved':\n",
    "        return 3\n",
    "    elif val == 'content_liked':\n",
    "        return 2\n",
    "    elif val == 'content_watched':\n",
    "        return 1"
   ]
  },
  {
   "cell_type": "code",
   "execution_count": 16,
   "metadata": {},
   "outputs": [],
   "source": [
    "consumer_interactions['rating'] = consumer_interactions['interaction_type'].apply(generateRating)"
   ]
  },
  {
   "cell_type": "code",
   "execution_count": 17,
   "metadata": {},
   "outputs": [
    {
     "data": {
      "text/html": [
       "<div>\n",
       "<style scoped>\n",
       "    .dataframe tbody tr th:only-of-type {\n",
       "        vertical-align: middle;\n",
       "    }\n",
       "\n",
       "    .dataframe tbody tr th {\n",
       "        vertical-align: top;\n",
       "    }\n",
       "\n",
       "    .dataframe thead th {\n",
       "        text-align: right;\n",
       "    }\n",
       "</style>\n",
       "<table border=\"1\" class=\"dataframe\">\n",
       "  <thead>\n",
       "    <tr style=\"text-align: right;\">\n",
       "      <th></th>\n",
       "      <th>event_timestamp</th>\n",
       "      <th>interaction_type</th>\n",
       "      <th>item_id</th>\n",
       "      <th>consumer_id</th>\n",
       "      <th>consumer_session_id</th>\n",
       "      <th>consumer_device_info</th>\n",
       "      <th>consumer_location</th>\n",
       "      <th>country</th>\n",
       "      <th>rating</th>\n",
       "    </tr>\n",
       "  </thead>\n",
       "  <tbody>\n",
       "    <tr>\n",
       "      <th>0</th>\n",
       "      <td>1465413032</td>\n",
       "      <td>content_watched</td>\n",
       "      <td>-3499919498720038879</td>\n",
       "      <td>-8845298781299428018</td>\n",
       "      <td>1264196770339959068</td>\n",
       "      <td>NaN</td>\n",
       "      <td>NaN</td>\n",
       "      <td>NaN</td>\n",
       "      <td>1</td>\n",
       "    </tr>\n",
       "    <tr>\n",
       "      <th>1</th>\n",
       "      <td>1465412560</td>\n",
       "      <td>content_watched</td>\n",
       "      <td>8890720798209849691</td>\n",
       "      <td>-1032019229384696495</td>\n",
       "      <td>3621737643587579081</td>\n",
       "      <td>Mozilla/5.0 (Macintosh; Intel Mac OS X 10_11_2...</td>\n",
       "      <td>NY</td>\n",
       "      <td>US</td>\n",
       "      <td>1</td>\n",
       "    </tr>\n",
       "    <tr>\n",
       "      <th>4</th>\n",
       "      <td>1465412290</td>\n",
       "      <td>content_watched</td>\n",
       "      <td>-7820640624231356730</td>\n",
       "      <td>-445337111692715325</td>\n",
       "      <td>561148 1178424124714</td>\n",
       "      <td>NaN</td>\n",
       "      <td>NaN</td>\n",
       "      <td>NaN</td>\n",
       "      <td>1</td>\n",
       "    </tr>\n",
       "    <tr>\n",
       "      <th>7</th>\n",
       "      <td>1465415066</td>\n",
       "      <td>content_watched</td>\n",
       "      <td>-1492913151930215984</td>\n",
       "      <td>4254153380739593270</td>\n",
       "      <td>8743229464706506141</td>\n",
       "      <td>Mozilla/5.0 (X11; Linux x86_64) AppleWebKit/53...</td>\n",
       "      <td>SP</td>\n",
       "      <td>BR</td>\n",
       "      <td>1</td>\n",
       "    </tr>\n",
       "    <tr>\n",
       "      <th>9</th>\n",
       "      <td>1465413771</td>\n",
       "      <td>content_watched</td>\n",
       "      <td>3064370296170038610</td>\n",
       "      <td>3609194402293569455</td>\n",
       "      <td>1143207167886864524</td>\n",
       "      <td>NaN</td>\n",
       "      <td>NaN</td>\n",
       "      <td>NaN</td>\n",
       "      <td>1</td>\n",
       "    </tr>\n",
       "  </tbody>\n",
       "</table>\n",
       "</div>"
      ],
      "text/plain": [
       "   event_timestamp interaction_type              item_id          consumer_id  \\\n",
       "0       1465413032  content_watched -3499919498720038879 -8845298781299428018   \n",
       "1       1465412560  content_watched  8890720798209849691 -1032019229384696495   \n",
       "4       1465412290  content_watched -7820640624231356730  -445337111692715325   \n",
       "7       1465415066  content_watched -1492913151930215984  4254153380739593270   \n",
       "9       1465413771  content_watched  3064370296170038610  3609194402293569455   \n",
       "\n",
       "    consumer_session_id                               consumer_device_info  \\\n",
       "0   1264196770339959068                                                NaN   \n",
       "1   3621737643587579081  Mozilla/5.0 (Macintosh; Intel Mac OS X 10_11_2...   \n",
       "4  561148 1178424124714                                                NaN   \n",
       "7   8743229464706506141  Mozilla/5.0 (X11; Linux x86_64) AppleWebKit/53...   \n",
       "9   1143207167886864524                                                NaN   \n",
       "\n",
       "  consumer_location country  rating  \n",
       "0               NaN     NaN       1  \n",
       "1                NY      US       1  \n",
       "4               NaN     NaN       1  \n",
       "7                SP      BR       1  \n",
       "9               NaN     NaN       1  "
      ]
     },
     "execution_count": 17,
     "metadata": {},
     "output_type": "execute_result"
    }
   ],
   "source": [
    "consumer_interactions.head()"
   ]
  },
  {
   "cell_type": "code",
   "execution_count": 18,
   "metadata": {},
   "outputs": [
    {
     "name": "stdout",
     "output_type": "stream",
     "text": [
      "(47066, 9)\n"
     ]
    },
    {
     "data": {
      "text/plain": [
       "event_timestamp          0.000000\n",
       "interaction_type         0.000000\n",
       "item_id                  0.000000\n",
       "consumer_id              0.000000\n",
       "consumer_session_id      0.000000\n",
       "consumer_device_info    21.629202\n",
       "consumer_location       21.648324\n",
       "country                 21.629202\n",
       "rating                   0.000000\n",
       "dtype: float64"
      ]
     },
     "execution_count": 18,
     "metadata": {},
     "output_type": "execute_result"
    }
   ],
   "source": [
    "print(consumer_interactions.shape)\n",
    "consumer_interactions.isnull().sum() / len(consumer_interactions) * 100"
   ]
  },
  {
   "cell_type": "code",
   "execution_count": 19,
   "metadata": {},
   "outputs": [
    {
     "name": "stdout",
     "output_type": "stream",
     "text": [
      "(2264, 13)\n"
     ]
    },
    {
     "data": {
      "text/plain": [
       "event_timestamp          0.000000\n",
       "interaction_type         0.000000\n",
       "item_id                  0.000000\n",
       "producer_id              0.000000\n",
       "producer_session_id      0.000000\n",
       "producer_device_info    79.107774\n",
       "producer_location       79.107774\n",
       "producer_country        79.107774\n",
       "item_type                0.000000\n",
       "item_url                 0.000000\n",
       "title                    0.000000\n",
       "text_description         0.000000\n",
       "language                 0.000000\n",
       "dtype: float64"
      ]
     },
     "execution_count": 19,
     "metadata": {},
     "output_type": "execute_result"
    }
   ],
   "source": [
    "print(item.shape)\n",
    "item.isnull().sum() / len(item) * 100"
   ]
  },
  {
   "cell_type": "markdown",
   "metadata": {},
   "source": [
    "## Exploratory data analysis\n",
    "- Explore the various features present in the data set for their distribution and any meaningful inferences.\n",
    "- Check the distribution of interaction type, consumer location/country, producer country/location, item type and so on.\n",
    "- Check the most common language and most popular country that consumes the articles on the platform."
   ]
  },
  {
   "cell_type": "code",
   "execution_count": 20,
   "metadata": {},
   "outputs": [
    {
     "data": {
      "image/png": "[encoded data removed]",
      "text/plain": [
       "<Figure size 1080x360 with 2 Axes>"
      ]
     },
     "metadata": {},
     "output_type": "display_data"
    }
   ],
   "source": [
    "plt.figure(figsize=(15, 5))\n",
    "\n",
    "plt.subplot(1, 2, 1)\n",
    "sns.countplot(x= 'interaction_type', data=consumer_interactions)\n",
    "plt.title('Distribution of interaction type by \\n content consumed by audience')\n",
    "plt.xticks(rotation=90)\n",
    "\n",
    "plt.subplot(1, 2, 2)\n",
    "sns.countplot(x= 'interaction_type', data=item)\n",
    "plt.title('Distribution of interaction type by \\n content produced')\n",
    "plt.xticks(rotation=90)\n",
    "\n",
    "plt.show()"
   ]
  },
  {
   "cell_type": "code",
   "execution_count": 21,
   "metadata": {},
   "outputs": [
    {
     "data": {
      "image/png": "[encoded data removed]",
      "text/plain": [
       "<Figure size 1080x1080 with 2 Axes>"
      ]
     },
     "metadata": {},
     "output_type": "display_data"
    }
   ],
   "source": [
    "plt.figure(figsize=(15, 15))\n",
    "\n",
    "plt.subplot(2, 1, 1)\n",
    "sns.countplot(x= 'consumer_location', data=consumer_interactions)\n",
    "plt.title('Distribution of consumer location')\n",
    "plt.xticks(rotation=90)\n",
    "\n",
    "plt.subplot(2, 1, 2)\n",
    "sns.countplot(x= 'country', data=consumer_interactions)\n",
    "plt.title('Distribution of consumer country')\n",
    "plt.xticks(rotation=90)\n",
    "plt.show()"
   ]
  },
  {
   "cell_type": "code",
   "execution_count": 22,
   "metadata": {},
   "outputs": [
    {
     "data": {
      "image/png": "[encoded data removed]",
      "text/plain": [
       "<Figure size 1080x1080 with 2 Axes>"
      ]
     },
     "metadata": {},
     "output_type": "display_data"
    }
   ],
   "source": [
    "plt.figure(figsize=(15, 15))\n",
    "\n",
    "plt.subplot(2, 1, 1)\n",
    "sns.countplot(x= 'producer_location', data=item)\n",
    "plt.title('Distribution of producer location')\n",
    "plt.xticks(rotation=90)\n",
    "\n",
    "plt.subplot(2, 1, 2)\n",
    "sns.countplot(x= 'producer_country', data=item)\n",
    "plt.title('Distribution of producer country')\n",
    "plt.xticks(rotation=90)\n",
    "\n",
    "plt.show()"
   ]
  },
  {
   "cell_type": "code",
   "execution_count": 23,
   "metadata": {},
   "outputs": [
    {
     "data": {
      "image/png": "[encoded data removed]",
      "text/plain": [
       "<Figure size 432x288 with 1 Axes>"
      ]
     },
     "metadata": {},
     "output_type": "display_data"
    }
   ],
   "source": [
    "sns.distplot(consumer_interactions['rating'])\n",
    "plt.show()"
   ]
  },
  {
   "cell_type": "markdown",
   "metadata": {},
   "source": [
    "**Inference:** Most of users have watched the content but have not engaged with the content."
   ]
  },
  {
   "cell_type": "code",
   "execution_count": 24,
   "metadata": {},
   "outputs": [
    {
     "data": {
      "image/png": "[encoded data removed]",
      "text/plain": [
       "<Figure size 432x288 with 1 Axes>"
      ]
     },
     "metadata": {},
     "output_type": "display_data"
    }
   ],
   "source": [
    "sns.countplot(x= 'item_type', data=item)\n",
    "plt.title('Distribution of item type produced')\n",
    "plt.xticks(rotation=90)\n",
    "plt.show()"
   ]
  },
  {
   "cell_type": "code",
   "execution_count": 25,
   "metadata": {},
   "outputs": [],
   "source": [
    "consumer_interactions['consumer_device_type'] = consumer_interactions['consumer_device_info'].str.split(' ', n=1, expand=True)[0]"
   ]
  },
  {
   "cell_type": "code",
   "execution_count": 26,
   "metadata": {},
   "outputs": [
    {
     "data": {
      "text/plain": [
       "21.62920154676412"
      ]
     },
     "execution_count": 26,
     "metadata": {},
     "output_type": "execute_result"
    }
   ],
   "source": [
    "# Verification that the percentage of missing value is same as that of 'consumer_device_info' column missing percentage\n",
    "consumer_interactions['consumer_device_type'].isnull().sum() / len(consumer_interactions) * 100"
   ]
  },
  {
   "cell_type": "code",
   "execution_count": 27,
   "metadata": {},
   "outputs": [
    {
     "data": {
      "image/png": "[encoded data removed]",
      "text/plain": [
       "<Figure size 432x288 with 1 Axes>"
      ]
     },
     "metadata": {},
     "output_type": "display_data"
    }
   ],
   "source": [
    "sns.countplot(x= 'consumer_device_type', data=consumer_interactions)\n",
    "plt.title('Distribution of item type produced')\n",
    "plt.xticks(rotation=90)\n",
    "plt.show()"
   ]
  },
  {
   "cell_type": "markdown",
   "metadata": {},
   "source": [
    "## Recommendation techniques\n",
    "- Use the consumer_interaction data set for building the ALS, user-based and item-based collaborative filtering models\n",
    "- Use platform_content data to build a content-based recommendation model"
   ]
  },
  {
   "cell_type": "code",
   "execution_count": 28,
   "metadata": {},
   "outputs": [
    {
     "data": {
      "text/html": [
       "<div>\n",
       "<style scoped>\n",
       "    .dataframe tbody tr th:only-of-type {\n",
       "        vertical-align: middle;\n",
       "    }\n",
       "\n",
       "    .dataframe tbody tr th {\n",
       "        vertical-align: top;\n",
       "    }\n",
       "\n",
       "    .dataframe thead th {\n",
       "        text-align: right;\n",
       "    }\n",
       "</style>\n",
       "<table border=\"1\" class=\"dataframe\">\n",
       "  <thead>\n",
       "    <tr style=\"text-align: right;\">\n",
       "      <th></th>\n",
       "      <th>event_timestamp</th>\n",
       "      <th>interaction_type</th>\n",
       "      <th>item_id</th>\n",
       "      <th>producer_id</th>\n",
       "      <th>producer_session_id</th>\n",
       "      <th>producer_device_info</th>\n",
       "      <th>producer_location</th>\n",
       "      <th>producer_country</th>\n",
       "      <th>item_type</th>\n",
       "      <th>item_url</th>\n",
       "      <th>title</th>\n",
       "      <th>text_description</th>\n",
       "      <th>language</th>\n",
       "    </tr>\n",
       "  </thead>\n",
       "  <tbody>\n",
       "    <tr>\n",
       "      <th>0</th>\n",
       "      <td>1459192779</td>\n",
       "      <td>content_pulled_out</td>\n",
       "      <td>-6451309518266745024</td>\n",
       "      <td>4340306774493623681</td>\n",
       "      <td>8940341205206233829</td>\n",
       "      <td>NaN</td>\n",
       "      <td>NaN</td>\n",
       "      <td>NaN</td>\n",
       "      <td>HTML</td>\n",
       "      <td>http://www.nytimes.com/2016/03/28/business/dea...</td>\n",
       "      <td>Ethereum, a Virtual Currency, Enables Transact...</td>\n",
       "      <td>All of this work is still very early. The firs...</td>\n",
       "      <td>en</td>\n",
       "    </tr>\n",
       "    <tr>\n",
       "      <th>1</th>\n",
       "      <td>1459193988</td>\n",
       "      <td>content_present</td>\n",
       "      <td>-4110354420726924665</td>\n",
       "      <td>4340306774493623681</td>\n",
       "      <td>8940341205206233829</td>\n",
       "      <td>NaN</td>\n",
       "      <td>NaN</td>\n",
       "      <td>NaN</td>\n",
       "      <td>HTML</td>\n",
       "      <td>http://www.nytimes.com/2016/03/28/business/dea...</td>\n",
       "      <td>Ethereum, a Virtual Currency, Enables Transact...</td>\n",
       "      <td>All of this work is still very early. The firs...</td>\n",
       "      <td>en</td>\n",
       "    </tr>\n",
       "    <tr>\n",
       "      <th>2</th>\n",
       "      <td>1459194146</td>\n",
       "      <td>content_present</td>\n",
       "      <td>-7292285110016212249</td>\n",
       "      <td>4340306774493623681</td>\n",
       "      <td>8940341205206233829</td>\n",
       "      <td>NaN</td>\n",
       "      <td>NaN</td>\n",
       "      <td>NaN</td>\n",
       "      <td>HTML</td>\n",
       "      <td>http://cointelegraph.com/news/bitcoin-future-w...</td>\n",
       "      <td>Bitcoin Future: When GBPcoin of Branson Wins O...</td>\n",
       "      <td>The alarm clock wakes me at 8:00 with stream o...</td>\n",
       "      <td>en</td>\n",
       "    </tr>\n",
       "    <tr>\n",
       "      <th>3</th>\n",
       "      <td>1459194474</td>\n",
       "      <td>content_present</td>\n",
       "      <td>-6151852268067518688</td>\n",
       "      <td>3891637997717104548</td>\n",
       "      <td>-1457532940883382585</td>\n",
       "      <td>NaN</td>\n",
       "      <td>NaN</td>\n",
       "      <td>NaN</td>\n",
       "      <td>HTML</td>\n",
       "      <td>https://cloudplatform.googleblog.com/2016/03/G...</td>\n",
       "      <td>Google Data Center 360° Tour</td>\n",
       "      <td>We're excited to share the Google Data Center ...</td>\n",
       "      <td>en</td>\n",
       "    </tr>\n",
       "    <tr>\n",
       "      <th>4</th>\n",
       "      <td>1459194497</td>\n",
       "      <td>content_present</td>\n",
       "      <td>2448026894306402386</td>\n",
       "      <td>4340306774493623681</td>\n",
       "      <td>8940341205206233829</td>\n",
       "      <td>NaN</td>\n",
       "      <td>NaN</td>\n",
       "      <td>NaN</td>\n",
       "      <td>HTML</td>\n",
       "      <td>https://bitcoinmagazine.com/articles/ibm-wants...</td>\n",
       "      <td>IBM Wants to \"Evolve the Internet\" With Blockc...</td>\n",
       "      <td>The Aite Group projects the blockchain market ...</td>\n",
       "      <td>en</td>\n",
       "    </tr>\n",
       "  </tbody>\n",
       "</table>\n",
       "</div>"
      ],
      "text/plain": [
       "   event_timestamp    interaction_type              item_id  \\\n",
       "0       1459192779  content_pulled_out -6451309518266745024   \n",
       "1       1459193988     content_present -4110354420726924665   \n",
       "2       1459194146     content_present -7292285110016212249   \n",
       "3       1459194474     content_present -6151852268067518688   \n",
       "4       1459194497     content_present  2448026894306402386   \n",
       "\n",
       "           producer_id  producer_session_id producer_device_info  \\\n",
       "0  4340306774493623681  8940341205206233829                  NaN   \n",
       "1  4340306774493623681  8940341205206233829                  NaN   \n",
       "2  4340306774493623681  8940341205206233829                  NaN   \n",
       "3  3891637997717104548 -1457532940883382585                  NaN   \n",
       "4  4340306774493623681  8940341205206233829                  NaN   \n",
       "\n",
       "  producer_location producer_country item_type  \\\n",
       "0               NaN              NaN      HTML   \n",
       "1               NaN              NaN      HTML   \n",
       "2               NaN              NaN      HTML   \n",
       "3               NaN              NaN      HTML   \n",
       "4               NaN              NaN      HTML   \n",
       "\n",
       "                                            item_url  \\\n",
       "0  http://www.nytimes.com/2016/03/28/business/dea...   \n",
       "1  http://www.nytimes.com/2016/03/28/business/dea...   \n",
       "2  http://cointelegraph.com/news/bitcoin-future-w...   \n",
       "3  https://cloudplatform.googleblog.com/2016/03/G...   \n",
       "4  https://bitcoinmagazine.com/articles/ibm-wants...   \n",
       "\n",
       "                                               title  \\\n",
       "0  Ethereum, a Virtual Currency, Enables Transact...   \n",
       "1  Ethereum, a Virtual Currency, Enables Transact...   \n",
       "2  Bitcoin Future: When GBPcoin of Branson Wins O...   \n",
       "3                       Google Data Center 360° Tour   \n",
       "4  IBM Wants to \"Evolve the Internet\" With Blockc...   \n",
       "\n",
       "                                    text_description language  \n",
       "0  All of this work is still very early. The firs...       en  \n",
       "1  All of this work is still very early. The firs...       en  \n",
       "2  The alarm clock wakes me at 8:00 with stream o...       en  \n",
       "3  We're excited to share the Google Data Center ...       en  \n",
       "4  The Aite Group projects the blockchain market ...       en  "
      ]
     },
     "execution_count": 28,
     "metadata": {},
     "output_type": "execute_result"
    }
   ],
   "source": [
    "item.head()"
   ]
  },
  {
   "cell_type": "code",
   "execution_count": 29,
   "metadata": {},
   "outputs": [
    {
     "data": {
      "text/html": [
       "<div>\n",
       "<style scoped>\n",
       "    .dataframe tbody tr th:only-of-type {\n",
       "        vertical-align: middle;\n",
       "    }\n",
       "\n",
       "    .dataframe tbody tr th {\n",
       "        vertical-align: top;\n",
       "    }\n",
       "\n",
       "    .dataframe thead th {\n",
       "        text-align: right;\n",
       "    }\n",
       "</style>\n",
       "<table border=\"1\" class=\"dataframe\">\n",
       "  <thead>\n",
       "    <tr style=\"text-align: right;\">\n",
       "      <th></th>\n",
       "      <th>event_timestamp</th>\n",
       "      <th>interaction_type</th>\n",
       "      <th>item_id</th>\n",
       "      <th>consumer_id</th>\n",
       "      <th>consumer_session_id</th>\n",
       "      <th>consumer_device_info</th>\n",
       "      <th>consumer_location</th>\n",
       "      <th>country</th>\n",
       "      <th>rating</th>\n",
       "      <th>consumer_device_type</th>\n",
       "    </tr>\n",
       "  </thead>\n",
       "  <tbody>\n",
       "    <tr>\n",
       "      <th>0</th>\n",
       "      <td>1465413032</td>\n",
       "      <td>content_watched</td>\n",
       "      <td>-3499919498720038879</td>\n",
       "      <td>-8845298781299428018</td>\n",
       "      <td>1264196770339959068</td>\n",
       "      <td>NaN</td>\n",
       "      <td>NaN</td>\n",
       "      <td>NaN</td>\n",
       "      <td>1</td>\n",
       "      <td>NaN</td>\n",
       "    </tr>\n",
       "    <tr>\n",
       "      <th>1</th>\n",
       "      <td>1465412560</td>\n",
       "      <td>content_watched</td>\n",
       "      <td>8890720798209849691</td>\n",
       "      <td>-1032019229384696495</td>\n",
       "      <td>3621737643587579081</td>\n",
       "      <td>Mozilla/5.0 (Macintosh; Intel Mac OS X 10_11_2...</td>\n",
       "      <td>NY</td>\n",
       "      <td>US</td>\n",
       "      <td>1</td>\n",
       "      <td>Mozilla/5.0</td>\n",
       "    </tr>\n",
       "    <tr>\n",
       "      <th>4</th>\n",
       "      <td>1465412290</td>\n",
       "      <td>content_watched</td>\n",
       "      <td>-7820640624231356730</td>\n",
       "      <td>-445337111692715325</td>\n",
       "      <td>561148 1178424124714</td>\n",
       "      <td>NaN</td>\n",
       "      <td>NaN</td>\n",
       "      <td>NaN</td>\n",
       "      <td>1</td>\n",
       "      <td>NaN</td>\n",
       "    </tr>\n",
       "    <tr>\n",
       "      <th>7</th>\n",
       "      <td>1465415066</td>\n",
       "      <td>content_watched</td>\n",
       "      <td>-1492913151930215984</td>\n",
       "      <td>4254153380739593270</td>\n",
       "      <td>8743229464706506141</td>\n",
       "      <td>Mozilla/5.0 (X11; Linux x86_64) AppleWebKit/53...</td>\n",
       "      <td>SP</td>\n",
       "      <td>BR</td>\n",
       "      <td>1</td>\n",
       "      <td>Mozilla/5.0</td>\n",
       "    </tr>\n",
       "    <tr>\n",
       "      <th>9</th>\n",
       "      <td>1465413771</td>\n",
       "      <td>content_watched</td>\n",
       "      <td>3064370296170038610</td>\n",
       "      <td>3609194402293569455</td>\n",
       "      <td>1143207167886864524</td>\n",
       "      <td>NaN</td>\n",
       "      <td>NaN</td>\n",
       "      <td>NaN</td>\n",
       "      <td>1</td>\n",
       "      <td>NaN</td>\n",
       "    </tr>\n",
       "  </tbody>\n",
       "</table>\n",
       "</div>"
      ],
      "text/plain": [
       "   event_timestamp interaction_type              item_id          consumer_id  \\\n",
       "0       1465413032  content_watched -3499919498720038879 -8845298781299428018   \n",
       "1       1465412560  content_watched  8890720798209849691 -1032019229384696495   \n",
       "4       1465412290  content_watched -7820640624231356730  -445337111692715325   \n",
       "7       1465415066  content_watched -1492913151930215984  4254153380739593270   \n",
       "9       1465413771  content_watched  3064370296170038610  3609194402293569455   \n",
       "\n",
       "    consumer_session_id                               consumer_device_info  \\\n",
       "0   1264196770339959068                                                NaN   \n",
       "1   3621737643587579081  Mozilla/5.0 (Macintosh; Intel Mac OS X 10_11_2...   \n",
       "4  561148 1178424124714                                                NaN   \n",
       "7   8743229464706506141  Mozilla/5.0 (X11; Linux x86_64) AppleWebKit/53...   \n",
       "9   1143207167886864524                                                NaN   \n",
       "\n",
       "  consumer_location country  rating consumer_device_type  \n",
       "0               NaN     NaN       1                  NaN  \n",
       "1                NY      US       1          Mozilla/5.0  \n",
       "4               NaN     NaN       1                  NaN  \n",
       "7                SP      BR       1          Mozilla/5.0  \n",
       "9               NaN     NaN       1                  NaN  "
      ]
     },
     "execution_count": 29,
     "metadata": {},
     "output_type": "execute_result"
    }
   ],
   "source": [
    "consumer_interactions.head()"
   ]
  },
  {
   "cell_type": "code",
   "execution_count": 30,
   "metadata": {
    "scrolled": false
   },
   "outputs": [
    {
     "data": {
      "text/plain": [
       "188"
      ]
     },
     "execution_count": 30,
     "metadata": {},
     "output_type": "execute_result"
    }
   ],
   "source": [
    "item.producer_id.nunique()"
   ]
  },
  {
   "cell_type": "code",
   "execution_count": 31,
   "metadata": {},
   "outputs": [
    {
     "data": {
      "text/plain": [
       "(2154, 2218)"
      ]
     },
     "execution_count": 31,
     "metadata": {},
     "output_type": "execute_result"
    }
   ],
   "source": [
    "n_items = consumer_interactions.item_id.nunique()\n",
    "n_items, item.item_id.nunique()"
   ]
  },
  {
   "cell_type": "code",
   "execution_count": 32,
   "metadata": {},
   "outputs": [
    {
     "data": {
      "text/plain": [
       "1644"
      ]
     },
     "execution_count": 32,
     "metadata": {},
     "output_type": "execute_result"
    }
   ],
   "source": [
    "n_users = consumer_interactions.consumer_id.nunique()\n",
    "n_users"
   ]
  },
  {
   "cell_type": "markdown",
   "metadata": {},
   "source": [
    "### Label Encoding consumer and item id"
   ]
  },
  {
   "cell_type": "code",
   "execution_count": 33,
   "metadata": {},
   "outputs": [
    {
     "data": {
      "text/plain": [
       "1644"
      ]
     },
     "execution_count": 33,
     "metadata": {},
     "output_type": "execute_result"
    }
   ],
   "source": [
    "le_consumer_id = preprocessing.LabelEncoder()\n",
    "le_consumer_id.fit(consumer_interactions['consumer_id'])\n",
    "len(le_consumer_id.classes_)"
   ]
  },
  {
   "cell_type": "code",
   "execution_count": 34,
   "metadata": {},
   "outputs": [
    {
     "data": {
      "text/plain": [
       "1644"
      ]
     },
     "execution_count": 34,
     "metadata": {},
     "output_type": "execute_result"
    }
   ],
   "source": [
    "consumer_interactions['consumer_id_encoded'] = le_consumer_id.transform(consumer_interactions['consumer_id'])\n",
    "consumer_interactions['consumer_id_encoded'].nunique()"
   ]
  },
  {
   "cell_type": "code",
   "execution_count": 35,
   "metadata": {},
   "outputs": [
    {
     "data": {
      "text/plain": [
       "2218"
      ]
     },
     "execution_count": 35,
     "metadata": {},
     "output_type": "execute_result"
    }
   ],
   "source": [
    "le_item_id = preprocessing.LabelEncoder()\n",
    "le_item_id.fit(item['item_id'])\n",
    "len(le_item_id.classes_)"
   ]
  },
  {
   "cell_type": "code",
   "execution_count": 36,
   "metadata": {},
   "outputs": [
    {
     "data": {
      "text/plain": [
       "2154"
      ]
     },
     "execution_count": 36,
     "metadata": {},
     "output_type": "execute_result"
    }
   ],
   "source": [
    "# There are few item ids which don't have any consumer interactions\n",
    "consumer_interactions['item_id_encoded'] = le_item_id.transform(consumer_interactions['item_id'])\n",
    "consumer_interactions['item_id_encoded'].nunique()"
   ]
  },
  {
   "cell_type": "code",
   "execution_count": 37,
   "metadata": {},
   "outputs": [
    {
     "data": {
      "text/plain": [
       "2218"
      ]
     },
     "execution_count": 37,
     "metadata": {},
     "output_type": "execute_result"
    }
   ],
   "source": [
    "item['item_id_encoded'] = le_item_id.transform(item['item_id'])\n",
    "item['item_id_encoded'].nunique()"
   ]
  },
  {
   "cell_type": "code",
   "execution_count": 38,
   "metadata": {},
   "outputs": [
    {
     "data": {
      "text/html": [
       "<div>\n",
       "<style scoped>\n",
       "    .dataframe tbody tr th:only-of-type {\n",
       "        vertical-align: middle;\n",
       "    }\n",
       "\n",
       "    .dataframe tbody tr th {\n",
       "        vertical-align: top;\n",
       "    }\n",
       "\n",
       "    .dataframe thead th {\n",
       "        text-align: right;\n",
       "    }\n",
       "</style>\n",
       "<table border=\"1\" class=\"dataframe\">\n",
       "  <thead>\n",
       "    <tr style=\"text-align: right;\">\n",
       "      <th></th>\n",
       "      <th>consumer_id_encoded</th>\n",
       "      <th>item_id_encoded</th>\n",
       "      <th>rating</th>\n",
       "    </tr>\n",
       "  </thead>\n",
       "  <tbody>\n",
       "    <tr>\n",
       "      <th>0</th>\n",
       "      <td>32</td>\n",
       "      <td>701</td>\n",
       "      <td>1</td>\n",
       "    </tr>\n",
       "    <tr>\n",
       "      <th>1</th>\n",
       "      <td>732</td>\n",
       "      <td>2173</td>\n",
       "      <td>1</td>\n",
       "    </tr>\n",
       "  </tbody>\n",
       "</table>\n",
       "</div>"
      ],
      "text/plain": [
       "   consumer_id_encoded  item_id_encoded  rating\n",
       "0                   32              701       1\n",
       "1                  732             2173       1"
      ]
     },
     "execution_count": 38,
     "metadata": {},
     "output_type": "execute_result"
    }
   ],
   "source": [
    "consumer_interactions_op = consumer_interactions[['consumer_id_encoded', 'item_id_encoded', 'rating']]\n",
    "consumer_interactions_op[:2]"
   ]
  },
  {
   "cell_type": "code",
   "execution_count": 39,
   "metadata": {},
   "outputs": [],
   "source": [
    "train , test = train_test_split(consumer_interactions_op, test_size=0.30, random_state=1)"
   ]
  },
  {
   "cell_type": "code",
   "execution_count": 40,
   "metadata": {},
   "outputs": [
    {
     "name": "stdout",
     "output_type": "stream",
     "text": [
      "(47066, 3)\n",
      "(32946, 3)\n",
      "(14120, 3)\n"
     ]
    }
   ],
   "source": [
    "print(consumer_interactions_op.shape)\n",
    "print(train.shape)\n",
    "print(test.shape)"
   ]
  },
  {
   "cell_type": "markdown",
   "metadata": {},
   "source": [
    "### User-based collaborative filtering\n",
    "- Create user-item matrix using the rating values.\n",
    "- Find the user-similarity matrix based on a similarity measure.\n",
    "- Generate predicted ratings for all the user-item pairs."
   ]
  },
  {
   "cell_type": "code",
   "execution_count": 41,
   "metadata": {},
   "outputs": [
    {
     "data": {
      "text/plain": [
       "(1644, 2218)"
      ]
     },
     "execution_count": 41,
     "metadata": {},
     "output_type": "execute_result"
    }
   ],
   "source": [
    "data_matrix_full = np.zeros((n_users, len(le_item_id.classes_)))\n",
    "for line in consumer_interactions_op.itertuples():\n",
    "    data_matrix_full[line[1], line[2]] = line[3]\n",
    "data_matrix_full.shape"
   ]
  },
  {
   "cell_type": "markdown",
   "metadata": {},
   "source": [
    "= customers x items"
   ]
  },
  {
   "cell_type": "code",
   "execution_count": 42,
   "metadata": {},
   "outputs": [
    {
     "data": {
      "text/plain": [
       "(1644, 2218)"
      ]
     },
     "execution_count": 42,
     "metadata": {},
     "output_type": "execute_result"
    }
   ],
   "source": [
    "data_matrix_train = np.zeros((n_users, len(le_item_id.classes_)))\n",
    "for line in train.itertuples():\n",
    "    data_matrix_train[line[1], line[2]] = line[3]\n",
    "data_matrix_train.shape"
   ]
  },
  {
   "cell_type": "code",
   "execution_count": 43,
   "metadata": {},
   "outputs": [
    {
     "data": {
      "text/html": [
       "<div>\n",
       "<style scoped>\n",
       "    .dataframe tbody tr th:only-of-type {\n",
       "        vertical-align: middle;\n",
       "    }\n",
       "\n",
       "    .dataframe tbody tr th {\n",
       "        vertical-align: top;\n",
       "    }\n",
       "\n",
       "    .dataframe thead th {\n",
       "        text-align: right;\n",
       "    }\n",
       "</style>\n",
       "<table border=\"1\" class=\"dataframe\">\n",
       "  <thead>\n",
       "    <tr style=\"text-align: right;\">\n",
       "      <th></th>\n",
       "      <th>consumer_id_encoded</th>\n",
       "      <th>item_id_encoded</th>\n",
       "      <th>rating</th>\n",
       "    </tr>\n",
       "  </thead>\n",
       "  <tbody>\n",
       "    <tr>\n",
       "      <th>51079</th>\n",
       "      <td>0</td>\n",
       "      <td>324</td>\n",
       "      <td>1</td>\n",
       "    </tr>\n",
       "    <tr>\n",
       "      <th>29363</th>\n",
       "      <td>0</td>\n",
       "      <td>610</td>\n",
       "      <td>1</td>\n",
       "    </tr>\n",
       "    <tr>\n",
       "      <th>21944</th>\n",
       "      <td>0</td>\n",
       "      <td>235</td>\n",
       "      <td>1</td>\n",
       "    </tr>\n",
       "    <tr>\n",
       "      <th>47158</th>\n",
       "      <td>0</td>\n",
       "      <td>1245</td>\n",
       "      <td>1</td>\n",
       "    </tr>\n",
       "    <tr>\n",
       "      <th>39274</th>\n",
       "      <td>0</td>\n",
       "      <td>1726</td>\n",
       "      <td>1</td>\n",
       "    </tr>\n",
       "  </tbody>\n",
       "</table>\n",
       "</div>"
      ],
      "text/plain": [
       "       consumer_id_encoded  item_id_encoded  rating\n",
       "51079                    0              324       1\n",
       "29363                    0              610       1\n",
       "21944                    0              235       1\n",
       "47158                    0             1245       1\n",
       "39274                    0             1726       1"
      ]
     },
     "execution_count": 43,
     "metadata": {},
     "output_type": "execute_result"
    }
   ],
   "source": [
    "## Data Validation\n",
    "train[train['consumer_id_encoded'] == 0].head()"
   ]
  },
  {
   "cell_type": "code",
   "execution_count": 44,
   "metadata": {},
   "outputs": [
    {
     "data": {
      "text/plain": [
       "(1.0, 1.0)"
      ]
     },
     "execution_count": 44,
     "metadata": {},
     "output_type": "execute_result"
    }
   ],
   "source": [
    "data_matrix_train[0][324], data_matrix_train[0][610]"
   ]
  },
  {
   "cell_type": "markdown",
   "metadata": {},
   "source": [
    "Validating that the data_matrix_train is updated correctly with the index values"
   ]
  },
  {
   "cell_type": "code",
   "execution_count": 45,
   "metadata": {},
   "outputs": [
    {
     "data": {
      "text/plain": [
       "(1644, 2218)"
      ]
     },
     "execution_count": 45,
     "metadata": {},
     "output_type": "execute_result"
    }
   ],
   "source": [
    "# Creating test data\n",
    "data_matrix_test = np.zeros((n_users, len(le_item_id.classes_)))\n",
    "for line in test.itertuples():\n",
    "    data_matrix_test[line[1], line[2]] = line[3]\n",
    "data_matrix_test.shape"
   ]
  },
  {
   "cell_type": "code",
   "execution_count": 46,
   "metadata": {},
   "outputs": [],
   "source": [
    "user_similarity = 1 - pairwise_distances(data_matrix_train, metric='cosine')"
   ]
  },
  {
   "cell_type": "code",
   "execution_count": 47,
   "metadata": {},
   "outputs": [
    {
     "data": {
      "text/plain": [
       "(1644, 1644)"
      ]
     },
     "execution_count": 47,
     "metadata": {},
     "output_type": "execute_result"
    }
   ],
   "source": [
    "user_similarity.shape"
   ]
  },
  {
   "cell_type": "markdown",
   "metadata": {},
   "source": [
    "= customer x customer"
   ]
  },
  {
   "cell_type": "code",
   "execution_count": 48,
   "metadata": {},
   "outputs": [
    {
     "data": {
      "text/plain": [
       "(1644, 2218)"
      ]
     },
     "execution_count": 48,
     "metadata": {},
     "output_type": "execute_result"
    }
   ],
   "source": [
    "item_prediction = np.dot(user_similarity, data_matrix_test)\n",
    "item_prediction.shape"
   ]
  },
  {
   "cell_type": "markdown",
   "metadata": {},
   "source": [
    "= customers x items"
   ]
  },
  {
   "cell_type": "code",
   "execution_count": 49,
   "metadata": {},
   "outputs": [
    {
     "data": {
      "text/plain": [
       "(1644, 2218)"
      ]
     },
     "execution_count": 49,
     "metadata": {},
     "output_type": "execute_result"
    }
   ],
   "source": [
    "prediction_df = pd.DataFrame(item_prediction)\n",
    "prediction_df.shape"
   ]
  },
  {
   "cell_type": "code",
   "execution_count": 50,
   "metadata": {},
   "outputs": [
    {
     "data": {
      "text/html": [
       "<div>\n",
       "<style scoped>\n",
       "    .dataframe tbody tr th:only-of-type {\n",
       "        vertical-align: middle;\n",
       "    }\n",
       "\n",
       "    .dataframe tbody tr th {\n",
       "        vertical-align: top;\n",
       "    }\n",
       "\n",
       "    .dataframe thead th {\n",
       "        text-align: right;\n",
       "    }\n",
       "</style>\n",
       "<table border=\"1\" class=\"dataframe\">\n",
       "  <thead>\n",
       "    <tr style=\"text-align: right;\">\n",
       "      <th></th>\n",
       "      <th>0</th>\n",
       "      <th>1</th>\n",
       "      <th>2</th>\n",
       "      <th>3</th>\n",
       "      <th>4</th>\n",
       "      <th>5</th>\n",
       "      <th>6</th>\n",
       "      <th>7</th>\n",
       "      <th>8</th>\n",
       "      <th>9</th>\n",
       "      <th>...</th>\n",
       "      <th>2208</th>\n",
       "      <th>2209</th>\n",
       "      <th>2210</th>\n",
       "      <th>2211</th>\n",
       "      <th>2212</th>\n",
       "      <th>2213</th>\n",
       "      <th>2214</th>\n",
       "      <th>2215</th>\n",
       "      <th>2216</th>\n",
       "      <th>2217</th>\n",
       "    </tr>\n",
       "  </thead>\n",
       "  <tbody>\n",
       "    <tr>\n",
       "      <th>0</th>\n",
       "      <td>0.671906</td>\n",
       "      <td>0.075184</td>\n",
       "      <td>0.159179</td>\n",
       "      <td>0.070205</td>\n",
       "      <td>0.191502</td>\n",
       "      <td>0.246908</td>\n",
       "      <td>0.0</td>\n",
       "      <td>0.0</td>\n",
       "      <td>0.146762</td>\n",
       "      <td>0.632160</td>\n",
       "      <td>...</td>\n",
       "      <td>0.109370</td>\n",
       "      <td>0.0</td>\n",
       "      <td>0.0</td>\n",
       "      <td>0.244538</td>\n",
       "      <td>0.141688</td>\n",
       "      <td>0.097717</td>\n",
       "      <td>0.384931</td>\n",
       "      <td>0.250110</td>\n",
       "      <td>0.435374</td>\n",
       "      <td>0.046596</td>\n",
       "    </tr>\n",
       "    <tr>\n",
       "      <th>1</th>\n",
       "      <td>0.370071</td>\n",
       "      <td>0.000000</td>\n",
       "      <td>0.232288</td>\n",
       "      <td>0.000000</td>\n",
       "      <td>0.089204</td>\n",
       "      <td>0.234452</td>\n",
       "      <td>0.0</td>\n",
       "      <td>0.0</td>\n",
       "      <td>0.000000</td>\n",
       "      <td>0.085424</td>\n",
       "      <td>...</td>\n",
       "      <td>0.051299</td>\n",
       "      <td>0.0</td>\n",
       "      <td>0.0</td>\n",
       "      <td>0.103744</td>\n",
       "      <td>0.000000</td>\n",
       "      <td>0.000000</td>\n",
       "      <td>0.087208</td>\n",
       "      <td>0.020998</td>\n",
       "      <td>0.136523</td>\n",
       "      <td>0.026688</td>\n",
       "    </tr>\n",
       "    <tr>\n",
       "      <th>2</th>\n",
       "      <td>1.104249</td>\n",
       "      <td>0.052223</td>\n",
       "      <td>0.071620</td>\n",
       "      <td>0.000000</td>\n",
       "      <td>0.000000</td>\n",
       "      <td>0.224774</td>\n",
       "      <td>0.0</td>\n",
       "      <td>0.0</td>\n",
       "      <td>0.434019</td>\n",
       "      <td>0.434501</td>\n",
       "      <td>...</td>\n",
       "      <td>0.000000</td>\n",
       "      <td>0.0</td>\n",
       "      <td>0.0</td>\n",
       "      <td>0.111803</td>\n",
       "      <td>0.034641</td>\n",
       "      <td>0.039528</td>\n",
       "      <td>0.324199</td>\n",
       "      <td>0.047553</td>\n",
       "      <td>0.122015</td>\n",
       "      <td>0.101274</td>\n",
       "    </tr>\n",
       "    <tr>\n",
       "      <th>3</th>\n",
       "      <td>0.127252</td>\n",
       "      <td>0.108471</td>\n",
       "      <td>0.000000</td>\n",
       "      <td>0.049088</td>\n",
       "      <td>0.000000</td>\n",
       "      <td>0.163014</td>\n",
       "      <td>0.0</td>\n",
       "      <td>0.0</td>\n",
       "      <td>0.204598</td>\n",
       "      <td>0.516175</td>\n",
       "      <td>...</td>\n",
       "      <td>0.000000</td>\n",
       "      <td>0.0</td>\n",
       "      <td>0.0</td>\n",
       "      <td>0.091237</td>\n",
       "      <td>0.083955</td>\n",
       "      <td>0.149071</td>\n",
       "      <td>0.187447</td>\n",
       "      <td>0.108448</td>\n",
       "      <td>0.111771</td>\n",
       "      <td>0.023870</td>\n",
       "    </tr>\n",
       "    <tr>\n",
       "      <th>4</th>\n",
       "      <td>0.253124</td>\n",
       "      <td>0.000000</td>\n",
       "      <td>0.104257</td>\n",
       "      <td>0.000000</td>\n",
       "      <td>0.000000</td>\n",
       "      <td>0.000000</td>\n",
       "      <td>0.0</td>\n",
       "      <td>0.0</td>\n",
       "      <td>0.046176</td>\n",
       "      <td>0.000000</td>\n",
       "      <td>...</td>\n",
       "      <td>0.000000</td>\n",
       "      <td>0.0</td>\n",
       "      <td>0.0</td>\n",
       "      <td>0.058926</td>\n",
       "      <td>0.000000</td>\n",
       "      <td>0.000000</td>\n",
       "      <td>0.127234</td>\n",
       "      <td>0.000000</td>\n",
       "      <td>0.299906</td>\n",
       "      <td>0.000000</td>\n",
       "    </tr>\n",
       "  </tbody>\n",
       "</table>\n",
       "<p>5 rows × 2218 columns</p>\n",
       "</div>"
      ],
      "text/plain": [
       "       0         1         2         3         4         5     6     7     \\\n",
       "0  0.671906  0.075184  0.159179  0.070205  0.191502  0.246908   0.0   0.0   \n",
       "1  0.370071  0.000000  0.232288  0.000000  0.089204  0.234452   0.0   0.0   \n",
       "2  1.104249  0.052223  0.071620  0.000000  0.000000  0.224774   0.0   0.0   \n",
       "3  0.127252  0.108471  0.000000  0.049088  0.000000  0.163014   0.0   0.0   \n",
       "4  0.253124  0.000000  0.104257  0.000000  0.000000  0.000000   0.0   0.0   \n",
       "\n",
       "       8         9     ...      2208  2209  2210      2211      2212  \\\n",
       "0  0.146762  0.632160  ...  0.109370   0.0   0.0  0.244538  0.141688   \n",
       "1  0.000000  0.085424  ...  0.051299   0.0   0.0  0.103744  0.000000   \n",
       "2  0.434019  0.434501  ...  0.000000   0.0   0.0  0.111803  0.034641   \n",
       "3  0.204598  0.516175  ...  0.000000   0.0   0.0  0.091237  0.083955   \n",
       "4  0.046176  0.000000  ...  0.000000   0.0   0.0  0.058926  0.000000   \n",
       "\n",
       "       2213      2214      2215      2216      2217  \n",
       "0  0.097717  0.384931  0.250110  0.435374  0.046596  \n",
       "1  0.000000  0.087208  0.020998  0.136523  0.026688  \n",
       "2  0.039528  0.324199  0.047553  0.122015  0.101274  \n",
       "3  0.149071  0.187447  0.108448  0.111771  0.023870  \n",
       "4  0.000000  0.127234  0.000000  0.299906  0.000000  \n",
       "\n",
       "[5 rows x 2218 columns]"
      ]
     },
     "execution_count": 50,
     "metadata": {},
     "output_type": "execute_result"
    }
   ],
   "source": [
    "prediction_df.head()"
   ]
  },
  {
   "cell_type": "markdown",
   "metadata": {},
   "source": [
    "#### Get recommendation for customer 300"
   ]
  },
  {
   "cell_type": "code",
   "execution_count": 51,
   "metadata": {},
   "outputs": [],
   "source": [
    "selected_customer = 300"
   ]
  },
  {
   "cell_type": "code",
   "execution_count": 52,
   "metadata": {},
   "outputs": [
    {
     "data": {
      "text/plain": [
       "634     27.204617\n",
       "34       5.672519\n",
       "1945     3.789460\n",
       "399      3.618643\n",
       "517      3.106653\n",
       "368      2.949130\n",
       "2129     2.623776\n",
       "134      2.609783\n",
       "616      2.534788\n",
       "1380     2.525679\n",
       "Name: 300, dtype: float64"
      ]
     },
     "execution_count": 52,
     "metadata": {},
     "output_type": "execute_result"
    }
   ],
   "source": [
    "prediction_df.iloc[selected_customer].sort_values(ascending=False)[:10]"
   ]
  },
  {
   "cell_type": "code",
   "execution_count": 53,
   "metadata": {},
   "outputs": [],
   "source": [
    "recommended_item_df = pd.DataFrame(prediction_df.iloc[selected_customer].sort_values(ascending=False))\n",
    "recommended_item_df.reset_index(inplace=True)\n",
    "recommended_item_df.columns = ['item_id', 'score']"
   ]
  },
  {
   "cell_type": "code",
   "execution_count": 54,
   "metadata": {},
   "outputs": [
    {
     "data": {
      "text/html": [
       "<div>\n",
       "<style scoped>\n",
       "    .dataframe tbody tr th:only-of-type {\n",
       "        vertical-align: middle;\n",
       "    }\n",
       "\n",
       "    .dataframe tbody tr th {\n",
       "        vertical-align: top;\n",
       "    }\n",
       "\n",
       "    .dataframe thead th {\n",
       "        text-align: right;\n",
       "    }\n",
       "</style>\n",
       "<table border=\"1\" class=\"dataframe\">\n",
       "  <thead>\n",
       "    <tr style=\"text-align: right;\">\n",
       "      <th></th>\n",
       "      <th>item_id</th>\n",
       "      <th>score</th>\n",
       "    </tr>\n",
       "  </thead>\n",
       "  <tbody>\n",
       "    <tr>\n",
       "      <th>0</th>\n",
       "      <td>634</td>\n",
       "      <td>27.204617</td>\n",
       "    </tr>\n",
       "    <tr>\n",
       "      <th>1</th>\n",
       "      <td>34</td>\n",
       "      <td>5.672519</td>\n",
       "    </tr>\n",
       "    <tr>\n",
       "      <th>2</th>\n",
       "      <td>1945</td>\n",
       "      <td>3.789460</td>\n",
       "    </tr>\n",
       "    <tr>\n",
       "      <th>3</th>\n",
       "      <td>399</td>\n",
       "      <td>3.618643</td>\n",
       "    </tr>\n",
       "    <tr>\n",
       "      <th>4</th>\n",
       "      <td>517</td>\n",
       "      <td>3.106653</td>\n",
       "    </tr>\n",
       "  </tbody>\n",
       "</table>\n",
       "</div>"
      ],
      "text/plain": [
       "   item_id      score\n",
       "0      634  27.204617\n",
       "1       34   5.672519\n",
       "2     1945   3.789460\n",
       "3      399   3.618643\n",
       "4      517   3.106653"
      ]
     },
     "execution_count": 54,
     "metadata": {},
     "output_type": "execute_result"
    }
   ],
   "source": [
    "recommended_item_df.head()"
   ]
  },
  {
   "cell_type": "markdown",
   "metadata": {},
   "source": [
    "## Creating general function to give score for any input customer"
   ]
  },
  {
   "cell_type": "code",
   "execution_count": 55,
   "metadata": {},
   "outputs": [],
   "source": [
    "def get_user_based_collabarative_score(customer, records = 10):\n",
    "    recommended_item_df = pd.DataFrame(prediction_df.iloc[selected_customer].sort_values(ascending=False))\n",
    "    recommended_item_df.reset_index(inplace=True)\n",
    "    recommended_item_df.columns = ['item_id', 'user_collabrative_score']\n",
    "    return recommended_item_df.iloc[:records]"
   ]
  },
  {
   "cell_type": "code",
   "execution_count": 56,
   "metadata": {},
   "outputs": [
    {
     "data": {
      "text/html": [
       "<div>\n",
       "<style scoped>\n",
       "    .dataframe tbody tr th:only-of-type {\n",
       "        vertical-align: middle;\n",
       "    }\n",
       "\n",
       "    .dataframe tbody tr th {\n",
       "        vertical-align: top;\n",
       "    }\n",
       "\n",
       "    .dataframe thead th {\n",
       "        text-align: right;\n",
       "    }\n",
       "</style>\n",
       "<table border=\"1\" class=\"dataframe\">\n",
       "  <thead>\n",
       "    <tr style=\"text-align: right;\">\n",
       "      <th></th>\n",
       "      <th>item_id</th>\n",
       "      <th>user_collabrative_score</th>\n",
       "    </tr>\n",
       "  </thead>\n",
       "  <tbody>\n",
       "    <tr>\n",
       "      <th>0</th>\n",
       "      <td>634</td>\n",
       "      <td>27.204617</td>\n",
       "    </tr>\n",
       "    <tr>\n",
       "      <th>1</th>\n",
       "      <td>34</td>\n",
       "      <td>5.672519</td>\n",
       "    </tr>\n",
       "    <tr>\n",
       "      <th>2</th>\n",
       "      <td>1945</td>\n",
       "      <td>3.789460</td>\n",
       "    </tr>\n",
       "    <tr>\n",
       "      <th>3</th>\n",
       "      <td>399</td>\n",
       "      <td>3.618643</td>\n",
       "    </tr>\n",
       "    <tr>\n",
       "      <th>4</th>\n",
       "      <td>517</td>\n",
       "      <td>3.106653</td>\n",
       "    </tr>\n",
       "  </tbody>\n",
       "</table>\n",
       "</div>"
      ],
      "text/plain": [
       "   item_id  user_collabrative_score\n",
       "0      634                27.204617\n",
       "1       34                 5.672519\n",
       "2     1945                 3.789460\n",
       "3      399                 3.618643\n",
       "4      517                 3.106653"
      ]
     },
     "execution_count": 56,
     "metadata": {},
     "output_type": "execute_result"
    }
   ],
   "source": [
    "# Testing function\n",
    "get_user_based_collabarative_score(customer=300, records=5)"
   ]
  },
  {
   "cell_type": "code",
   "execution_count": 57,
   "metadata": {},
   "outputs": [],
   "source": [
    "cols = ['title', 'text_description', 'item_url', 'item_id_encoded']\n",
    "merged = pd.merge(recommended_item_df, item[cols], left_on='item_id', right_on='item_id_encoded', how='left')"
   ]
  },
  {
   "cell_type": "code",
   "execution_count": 58,
   "metadata": {},
   "outputs": [
    {
     "data": {
      "text/html": [
       "<div>\n",
       "<style scoped>\n",
       "    .dataframe tbody tr th:only-of-type {\n",
       "        vertical-align: middle;\n",
       "    }\n",
       "\n",
       "    .dataframe tbody tr th {\n",
       "        vertical-align: top;\n",
       "    }\n",
       "\n",
       "    .dataframe thead th {\n",
       "        text-align: right;\n",
       "    }\n",
       "</style>\n",
       "<table border=\"1\" class=\"dataframe\">\n",
       "  <thead>\n",
       "    <tr style=\"text-align: right;\">\n",
       "      <th></th>\n",
       "      <th>item_id</th>\n",
       "      <th>score</th>\n",
       "      <th>title</th>\n",
       "      <th>text_description</th>\n",
       "      <th>item_url</th>\n",
       "      <th>item_id_encoded</th>\n",
       "    </tr>\n",
       "  </thead>\n",
       "  <tbody>\n",
       "    <tr>\n",
       "      <th>0</th>\n",
       "      <td>634</td>\n",
       "      <td>27.204617</td>\n",
       "      <td>Former Google career coach shares a visual tri...</td>\n",
       "      <td>If you want 2017 to be an exciting year, desig...</td>\n",
       "      <td>http://www.cnbc.com/2016/12/21/former-google-c...</td>\n",
       "      <td>634</td>\n",
       "    </tr>\n",
       "    <tr>\n",
       "      <th>1</th>\n",
       "      <td>34</td>\n",
       "      <td>5.672519</td>\n",
       "      <td>4 Reasons Managers Should Spend More Time on C...</td>\n",
       "      <td>There are managers who coach and managers who ...</td>\n",
       "      <td>https://hbr.org/2015/05/4-reasons-managers-sho...</td>\n",
       "      <td>34</td>\n",
       "    </tr>\n",
       "    <tr>\n",
       "      <th>2</th>\n",
       "      <td>1945</td>\n",
       "      <td>3.789460</td>\n",
       "      <td>Life Coach vs. Therapist, Learn the Difference...</td>\n",
       "      <td>One of the most common misconceptions about li...</td>\n",
       "      <td>https://www.tonyrobbins.com/coaching/life-coac...</td>\n",
       "      <td>1945</td>\n",
       "    </tr>\n",
       "    <tr>\n",
       "      <th>3</th>\n",
       "      <td>399</td>\n",
       "      <td>3.618643</td>\n",
       "      <td>Promoting gender equality through emoji �� ��</td>\n",
       "      <td>More than 90 percent of the world's online pop...</td>\n",
       "      <td>https://googleblog.blogspot.com.br/2016/07/pro...</td>\n",
       "      <td>399</td>\n",
       "    </tr>\n",
       "    <tr>\n",
       "      <th>4</th>\n",
       "      <td>517</td>\n",
       "      <td>3.106653</td>\n",
       "      <td>Changing change management</td>\n",
       "      <td>Research tells us that most change efforts fai...</td>\n",
       "      <td>http://www.mckinsey.com/global-themes/leadersh...</td>\n",
       "      <td>517</td>\n",
       "    </tr>\n",
       "    <tr>\n",
       "      <th>5</th>\n",
       "      <td>368</td>\n",
       "      <td>2.949130</td>\n",
       "      <td>The Broken Window Theory</td>\n",
       "      <td>In a previous entry , I touched on the broken ...</td>\n",
       "      <td>https://blog.codinghorror.com/the-broken-windo...</td>\n",
       "      <td>368</td>\n",
       "    </tr>\n",
       "    <tr>\n",
       "      <th>6</th>\n",
       "      <td>2129</td>\n",
       "      <td>2.623776</td>\n",
       "      <td>How to augment your career with leadership coa...</td>\n",
       "      <td>Burnout . Pipeline problems . Harassment . The...</td>\n",
       "      <td>http://www.cio.com/article/3047154/leadership-...</td>\n",
       "      <td>2129</td>\n",
       "    </tr>\n",
       "    <tr>\n",
       "      <th>7</th>\n",
       "      <td>134</td>\n",
       "      <td>2.609783</td>\n",
       "      <td>Ray Kurzweil: The world isn't getting worse - ...</td>\n",
       "      <td>Ray Kurzweil, the author, inventor, computer s...</td>\n",
       "      <td>http://www.geekwire.com/2016/ray-kurzweil-worl...</td>\n",
       "      <td>134</td>\n",
       "    </tr>\n",
       "    <tr>\n",
       "      <th>8</th>\n",
       "      <td>616</td>\n",
       "      <td>2.534788</td>\n",
       "      <td>[Situation Wall] Jamboard - the whiteboard, re...</td>\n",
       "      <td>Bringing the right team together for a meeting...</td>\n",
       "      <td>https://blog.google/products/g-suite/jamboard-...</td>\n",
       "      <td>616</td>\n",
       "    </tr>\n",
       "    <tr>\n",
       "      <th>9</th>\n",
       "      <td>1380</td>\n",
       "      <td>2.525679</td>\n",
       "      <td>10 Modern Software Over-Engineering Mistakes</td>\n",
       "      <td>10 Modern Software Over-Engineering Mistakes F...</td>\n",
       "      <td>https://medium.com/@rdsubhas/10-modern-softwar...</td>\n",
       "      <td>1380</td>\n",
       "    </tr>\n",
       "  </tbody>\n",
       "</table>\n",
       "</div>"
      ],
      "text/plain": [
       "   item_id      score                                              title  \\\n",
       "0      634  27.204617  Former Google career coach shares a visual tri...   \n",
       "1       34   5.672519  4 Reasons Managers Should Spend More Time on C...   \n",
       "2     1945   3.789460  Life Coach vs. Therapist, Learn the Difference...   \n",
       "3      399   3.618643      Promoting gender equality through emoji �� ��   \n",
       "4      517   3.106653                         Changing change management   \n",
       "5      368   2.949130                           The Broken Window Theory   \n",
       "6     2129   2.623776  How to augment your career with leadership coa...   \n",
       "7      134   2.609783  Ray Kurzweil: The world isn't getting worse - ...   \n",
       "8      616   2.534788  [Situation Wall] Jamboard - the whiteboard, re...   \n",
       "9     1380   2.525679       10 Modern Software Over-Engineering Mistakes   \n",
       "\n",
       "                                    text_description  \\\n",
       "0  If you want 2017 to be an exciting year, desig...   \n",
       "1  There are managers who coach and managers who ...   \n",
       "2  One of the most common misconceptions about li...   \n",
       "3  More than 90 percent of the world's online pop...   \n",
       "4  Research tells us that most change efforts fai...   \n",
       "5  In a previous entry , I touched on the broken ...   \n",
       "6  Burnout . Pipeline problems . Harassment . The...   \n",
       "7  Ray Kurzweil, the author, inventor, computer s...   \n",
       "8  Bringing the right team together for a meeting...   \n",
       "9  10 Modern Software Over-Engineering Mistakes F...   \n",
       "\n",
       "                                            item_url  item_id_encoded  \n",
       "0  http://www.cnbc.com/2016/12/21/former-google-c...              634  \n",
       "1  https://hbr.org/2015/05/4-reasons-managers-sho...               34  \n",
       "2  https://www.tonyrobbins.com/coaching/life-coac...             1945  \n",
       "3  https://googleblog.blogspot.com.br/2016/07/pro...              399  \n",
       "4  http://www.mckinsey.com/global-themes/leadersh...              517  \n",
       "5  https://blog.codinghorror.com/the-broken-windo...              368  \n",
       "6  http://www.cio.com/article/3047154/leadership-...             2129  \n",
       "7  http://www.geekwire.com/2016/ray-kurzweil-worl...              134  \n",
       "8  https://blog.google/products/g-suite/jamboard-...              616  \n",
       "9  https://medium.com/@rdsubhas/10-modern-softwar...             1380  "
      ]
     },
     "execution_count": 58,
     "metadata": {},
     "output_type": "execute_result"
    }
   ],
   "source": [
    "merged[merged['title'].notnull()].sort_values('score', ascending=False)[:10]"
   ]
  },
  {
   "cell_type": "markdown",
   "metadata": {},
   "source": [
    "### Evaluation"
   ]
  },
  {
   "cell_type": "code",
   "execution_count": 59,
   "metadata": {},
   "outputs": [],
   "source": [
    "pred_set = merged['item_id'].values[:10]"
   ]
  },
  {
   "cell_type": "code",
   "execution_count": 60,
   "metadata": {},
   "outputs": [],
   "source": [
    "selected_customer = 301\n",
    "rating_filtered = consumer_interactions[(consumer_interactions['consumer_id_encoded'] == selected_customer) &\n",
    "                     (consumer_interactions['rating'] > 2)].sort_values('rating', ascending=False)"
   ]
  },
  {
   "cell_type": "code",
   "execution_count": 61,
   "metadata": {},
   "outputs": [
    {
     "data": {
      "text/html": [
       "<div>\n",
       "<style scoped>\n",
       "    .dataframe tbody tr th:only-of-type {\n",
       "        vertical-align: middle;\n",
       "    }\n",
       "\n",
       "    .dataframe tbody tr th {\n",
       "        vertical-align: top;\n",
       "    }\n",
       "\n",
       "    .dataframe thead th {\n",
       "        text-align: right;\n",
       "    }\n",
       "</style>\n",
       "<table border=\"1\" class=\"dataframe\">\n",
       "  <thead>\n",
       "    <tr style=\"text-align: right;\">\n",
       "      <th></th>\n",
       "      <th>event_timestamp</th>\n",
       "      <th>interaction_type</th>\n",
       "      <th>item_id</th>\n",
       "      <th>consumer_id</th>\n",
       "      <th>consumer_session_id</th>\n",
       "      <th>consumer_device_info</th>\n",
       "      <th>consumer_location</th>\n",
       "      <th>country</th>\n",
       "      <th>rating</th>\n",
       "      <th>consumer_device_type</th>\n",
       "      <th>consumer_id_encoded</th>\n",
       "      <th>item_id_encoded</th>\n",
       "    </tr>\n",
       "  </thead>\n",
       "  <tbody>\n",
       "    <tr>\n",
       "      <th>6754</th>\n",
       "      <td>1464032696</td>\n",
       "      <td>content_followed</td>\n",
       "      <td>-3206777048078326150</td>\n",
       "      <td>-5823562314929634489</td>\n",
       "      <td>6054176641715856164</td>\n",
       "      <td>NaN</td>\n",
       "      <td>NaN</td>\n",
       "      <td>NaN</td>\n",
       "      <td>5</td>\n",
       "      <td>NaN</td>\n",
       "      <td>301</td>\n",
       "      <td>732</td>\n",
       "    </tr>\n",
       "    <tr>\n",
       "      <th>30456</th>\n",
       "      <td>1466625508</td>\n",
       "      <td>content_followed</td>\n",
       "      <td>-486686184692655504</td>\n",
       "      <td>-5823562314929634489</td>\n",
       "      <td>-1467398202818574571</td>\n",
       "      <td>NaN</td>\n",
       "      <td>NaN</td>\n",
       "      <td>NaN</td>\n",
       "      <td>5</td>\n",
       "      <td>NaN</td>\n",
       "      <td>301</td>\n",
       "      <td>1028</td>\n",
       "    </tr>\n",
       "    <tr>\n",
       "      <th>63684</th>\n",
       "      <td>1481558559</td>\n",
       "      <td>content_followed</td>\n",
       "      <td>7088167897470452815</td>\n",
       "      <td>-5823562314929634489</td>\n",
       "      <td>8765497782873839301</td>\n",
       "      <td>Mozilla/5.0 (Macintosh; Intel Mac OS X 10_11_6...</td>\n",
       "      <td>MG</td>\n",
       "      <td>BR</td>\n",
       "      <td>5</td>\n",
       "      <td>Mozilla/5.0</td>\n",
       "      <td>301</td>\n",
       "      <td>1945</td>\n",
       "    </tr>\n",
       "    <tr>\n",
       "      <th>67782</th>\n",
       "      <td>1486672774</td>\n",
       "      <td>content_followed</td>\n",
       "      <td>717471739656838182</td>\n",
       "      <td>-5823562314929634489</td>\n",
       "      <td>5850560069370184787</td>\n",
       "      <td>Mozilla/5.0 (Macintosh; Intel Mac OS X 10_11_6...</td>\n",
       "      <td>MG</td>\n",
       "      <td>BR</td>\n",
       "      <td>5</td>\n",
       "      <td>Mozilla/5.0</td>\n",
       "      <td>301</td>\n",
       "      <td>1168</td>\n",
       "    </tr>\n",
       "    <tr>\n",
       "      <th>30469</th>\n",
       "      <td>1466625508</td>\n",
       "      <td>content_commented_on</td>\n",
       "      <td>-486686184692655504</td>\n",
       "      <td>-5823562314929634489</td>\n",
       "      <td>-1467398202818574571</td>\n",
       "      <td>NaN</td>\n",
       "      <td>NaN</td>\n",
       "      <td>NaN</td>\n",
       "      <td>4</td>\n",
       "      <td>NaN</td>\n",
       "      <td>301</td>\n",
       "      <td>1028</td>\n",
       "    </tr>\n",
       "    <tr>\n",
       "      <th>63665</th>\n",
       "      <td>1481558559</td>\n",
       "      <td>content_commented_on</td>\n",
       "      <td>7088167897470452815</td>\n",
       "      <td>-5823562314929634489</td>\n",
       "      <td>8765497782873839301</td>\n",
       "      <td>Mozilla/5.0 (Macintosh; Intel Mac OS X 10_11_6...</td>\n",
       "      <td>MG</td>\n",
       "      <td>BR</td>\n",
       "      <td>4</td>\n",
       "      <td>Mozilla/5.0</td>\n",
       "      <td>301</td>\n",
       "      <td>1945</td>\n",
       "    </tr>\n",
       "    <tr>\n",
       "      <th>67784</th>\n",
       "      <td>1486672774</td>\n",
       "      <td>content_commented_on</td>\n",
       "      <td>717471739656838182</td>\n",
       "      <td>-5823562314929634489</td>\n",
       "      <td>5850560069370184787</td>\n",
       "      <td>Mozilla/5.0 (Macintosh; Intel Mac OS X 10_11_6...</td>\n",
       "      <td>MG</td>\n",
       "      <td>BR</td>\n",
       "      <td>4</td>\n",
       "      <td>Mozilla/5.0</td>\n",
       "      <td>301</td>\n",
       "      <td>1168</td>\n",
       "    </tr>\n",
       "  </tbody>\n",
       "</table>\n",
       "</div>"
      ],
      "text/plain": [
       "       event_timestamp      interaction_type              item_id  \\\n",
       "6754        1464032696      content_followed -3206777048078326150   \n",
       "30456       1466625508      content_followed  -486686184692655504   \n",
       "63684       1481558559      content_followed  7088167897470452815   \n",
       "67782       1486672774      content_followed   717471739656838182   \n",
       "30469       1466625508  content_commented_on  -486686184692655504   \n",
       "63665       1481558559  content_commented_on  7088167897470452815   \n",
       "67784       1486672774  content_commented_on   717471739656838182   \n",
       "\n",
       "               consumer_id   consumer_session_id  \\\n",
       "6754  -5823562314929634489   6054176641715856164   \n",
       "30456 -5823562314929634489  -1467398202818574571   \n",
       "63684 -5823562314929634489   8765497782873839301   \n",
       "67782 -5823562314929634489   5850560069370184787   \n",
       "30469 -5823562314929634489  -1467398202818574571   \n",
       "63665 -5823562314929634489   8765497782873839301   \n",
       "67784 -5823562314929634489   5850560069370184787   \n",
       "\n",
       "                                    consumer_device_info consumer_location  \\\n",
       "6754                                                 NaN               NaN   \n",
       "30456                                                NaN               NaN   \n",
       "63684  Mozilla/5.0 (Macintosh; Intel Mac OS X 10_11_6...                MG   \n",
       "67782  Mozilla/5.0 (Macintosh; Intel Mac OS X 10_11_6...                MG   \n",
       "30469                                                NaN               NaN   \n",
       "63665  Mozilla/5.0 (Macintosh; Intel Mac OS X 10_11_6...                MG   \n",
       "67784  Mozilla/5.0 (Macintosh; Intel Mac OS X 10_11_6...                MG   \n",
       "\n",
       "      country  rating consumer_device_type  consumer_id_encoded  \\\n",
       "6754      NaN       5                  NaN                  301   \n",
       "30456     NaN       5                  NaN                  301   \n",
       "63684      BR       5          Mozilla/5.0                  301   \n",
       "67782      BR       5          Mozilla/5.0                  301   \n",
       "30469     NaN       4                  NaN                  301   \n",
       "63665      BR       4          Mozilla/5.0                  301   \n",
       "67784      BR       4          Mozilla/5.0                  301   \n",
       "\n",
       "       item_id_encoded  \n",
       "6754               732  \n",
       "30456             1028  \n",
       "63684             1945  \n",
       "67782             1168  \n",
       "30469             1028  \n",
       "63665             1945  \n",
       "67784             1168  "
      ]
     },
     "execution_count": 61,
     "metadata": {},
     "output_type": "execute_result"
    }
   ],
   "source": [
    "rating_filtered"
   ]
  },
  {
   "cell_type": "code",
   "execution_count": 62,
   "metadata": {},
   "outputs": [
    {
     "name": "stdout",
     "output_type": "stream",
     "text": [
      "4\n"
     ]
    }
   ],
   "source": [
    "print(rating_filtered['item_id_encoded'].nunique())\n",
    "relevant_set = rating_filtered['item_id_encoded'].values"
   ]
  },
  {
   "cell_type": "code",
   "execution_count": 63,
   "metadata": {},
   "outputs": [
    {
     "data": {
      "text/plain": [
       "array([ 634,   34, 1945,  399,  517,  368, 2129,  134,  616, 1380])"
      ]
     },
     "execution_count": 63,
     "metadata": {},
     "output_type": "execute_result"
    }
   ],
   "source": [
    "pred_set"
   ]
  },
  {
   "cell_type": "code",
   "execution_count": 64,
   "metadata": {},
   "outputs": [
    {
     "data": {
      "text/plain": [
       "[1945]"
      ]
     },
     "execution_count": 64,
     "metadata": {},
     "output_type": "execute_result"
    }
   ],
   "source": [
    "list(set(relevant_set) & set(pred_set))"
   ]
  },
  {
   "cell_type": "code",
   "execution_count": 65,
   "metadata": {},
   "outputs": [
    {
     "data": {
      "text/plain": [
       "0.1"
      ]
     },
     "execution_count": 65,
     "metadata": {},
     "output_type": "execute_result"
    }
   ],
   "source": [
    "percision_at_10 = len(list(set(relevant_set) & set(pred_set))) / 10\n",
    "percision_at_10"
   ]
  },
  {
   "cell_type": "code",
   "execution_count": 66,
   "metadata": {},
   "outputs": [
    {
     "data": {
      "text/plain": [
       "(1644, 2154)"
      ]
     },
     "execution_count": 66,
     "metadata": {},
     "output_type": "execute_result"
    }
   ],
   "source": [
    "n_users, n_items"
   ]
  },
  {
   "cell_type": "markdown",
   "metadata": {},
   "source": [
    "### Item-based collaborative filtering\n",
    "- Find the item-similarity matrix based on a similarity measure.\n",
    "- Generate the top 10 similar and relevant items based on the similarity scores."
   ]
  },
  {
   "cell_type": "code",
   "execution_count": 67,
   "metadata": {},
   "outputs": [],
   "source": [
    "# We can also use NearestNeighbors algorithm as well to find the similarity\n",
    "item_similarity = 1 - pairwise_distances(data_matrix_full.T, metric='cosine')"
   ]
  },
  {
   "cell_type": "code",
   "execution_count": 68,
   "metadata": {},
   "outputs": [
    {
     "data": {
      "text/plain": [
       "(2218, 2218)"
      ]
     },
     "execution_count": 68,
     "metadata": {},
     "output_type": "execute_result"
    }
   ],
   "source": [
    "# No of items is 3051, Therefore shape of our matrix is also the same.\n",
    "item_similarity.shape"
   ]
  },
  {
   "cell_type": "markdown",
   "metadata": {},
   "source": [
    "= item x item"
   ]
  },
  {
   "cell_type": "code",
   "execution_count": 69,
   "metadata": {},
   "outputs": [
    {
     "data": {
      "text/plain": [
       "(2218, 1644)"
      ]
     },
     "execution_count": 69,
     "metadata": {},
     "output_type": "execute_result"
    }
   ],
   "source": [
    "i_prediction = np.dot(item_similarity, data_matrix_test.T)\n",
    "i_prediction.shape"
   ]
  },
  {
   "cell_type": "markdown",
   "metadata": {},
   "source": [
    "= item x customers"
   ]
  },
  {
   "cell_type": "code",
   "execution_count": 70,
   "metadata": {},
   "outputs": [
    {
     "data": {
      "text/plain": [
       "(2218, 1644)"
      ]
     },
     "execution_count": 70,
     "metadata": {},
     "output_type": "execute_result"
    }
   ],
   "source": [
    "i_prediction_df = pd.DataFrame(i_prediction)\n",
    "i_prediction_df.shape"
   ]
  },
  {
   "cell_type": "code",
   "execution_count": 71,
   "metadata": {},
   "outputs": [
    {
     "data": {
      "text/html": [
       "<div>\n",
       "<style scoped>\n",
       "    .dataframe tbody tr th:only-of-type {\n",
       "        vertical-align: middle;\n",
       "    }\n",
       "\n",
       "    .dataframe tbody tr th {\n",
       "        vertical-align: top;\n",
       "    }\n",
       "\n",
       "    .dataframe thead th {\n",
       "        text-align: right;\n",
       "    }\n",
       "</style>\n",
       "<table border=\"1\" class=\"dataframe\">\n",
       "  <thead>\n",
       "    <tr style=\"text-align: right;\">\n",
       "      <th></th>\n",
       "      <th>0</th>\n",
       "      <th>1</th>\n",
       "      <th>2</th>\n",
       "      <th>3</th>\n",
       "      <th>4</th>\n",
       "      <th>5</th>\n",
       "      <th>6</th>\n",
       "      <th>7</th>\n",
       "      <th>8</th>\n",
       "      <th>9</th>\n",
       "      <th>...</th>\n",
       "      <th>1634</th>\n",
       "      <th>1635</th>\n",
       "      <th>1636</th>\n",
       "      <th>1637</th>\n",
       "      <th>1638</th>\n",
       "      <th>1639</th>\n",
       "      <th>1640</th>\n",
       "      <th>1641</th>\n",
       "      <th>1642</th>\n",
       "      <th>1643</th>\n",
       "    </tr>\n",
       "  </thead>\n",
       "  <tbody>\n",
       "    <tr>\n",
       "      <th>0</th>\n",
       "      <td>1.951921</td>\n",
       "      <td>0.262747</td>\n",
       "      <td>0.153398</td>\n",
       "      <td>0.148359</td>\n",
       "      <td>0.0</td>\n",
       "      <td>0.194444</td>\n",
       "      <td>0.348385</td>\n",
       "      <td>2.665946</td>\n",
       "      <td>0.0</td>\n",
       "      <td>1.431065</td>\n",
       "      <td>...</td>\n",
       "      <td>0.000000</td>\n",
       "      <td>2.925058</td>\n",
       "      <td>0.336804</td>\n",
       "      <td>0.063721</td>\n",
       "      <td>2.970808</td>\n",
       "      <td>0.656823</td>\n",
       "      <td>0.0</td>\n",
       "      <td>0.362978</td>\n",
       "      <td>0.651155</td>\n",
       "      <td>3.762653</td>\n",
       "    </tr>\n",
       "    <tr>\n",
       "      <th>1</th>\n",
       "      <td>0.571223</td>\n",
       "      <td>0.000000</td>\n",
       "      <td>0.100125</td>\n",
       "      <td>0.180054</td>\n",
       "      <td>0.0</td>\n",
       "      <td>0.117851</td>\n",
       "      <td>0.000000</td>\n",
       "      <td>0.176181</td>\n",
       "      <td>0.0</td>\n",
       "      <td>0.089803</td>\n",
       "      <td>...</td>\n",
       "      <td>0.000000</td>\n",
       "      <td>0.629420</td>\n",
       "      <td>0.062017</td>\n",
       "      <td>0.047036</td>\n",
       "      <td>0.000000</td>\n",
       "      <td>0.000000</td>\n",
       "      <td>0.0</td>\n",
       "      <td>0.050063</td>\n",
       "      <td>0.050063</td>\n",
       "      <td>0.000000</td>\n",
       "    </tr>\n",
       "    <tr>\n",
       "      <th>2</th>\n",
       "      <td>0.966594</td>\n",
       "      <td>0.134535</td>\n",
       "      <td>0.196362</td>\n",
       "      <td>0.163655</td>\n",
       "      <td>0.0</td>\n",
       "      <td>0.138675</td>\n",
       "      <td>0.312370</td>\n",
       "      <td>1.514332</td>\n",
       "      <td>0.0</td>\n",
       "      <td>1.326917</td>\n",
       "      <td>...</td>\n",
       "      <td>0.196116</td>\n",
       "      <td>1.871654</td>\n",
       "      <td>0.162980</td>\n",
       "      <td>0.106038</td>\n",
       "      <td>2.937299</td>\n",
       "      <td>0.341485</td>\n",
       "      <td>0.0</td>\n",
       "      <td>0.262798</td>\n",
       "      <td>0.671600</td>\n",
       "      <td>3.489735</td>\n",
       "    </tr>\n",
       "    <tr>\n",
       "      <th>3</th>\n",
       "      <td>0.488485</td>\n",
       "      <td>0.000000</td>\n",
       "      <td>0.086711</td>\n",
       "      <td>0.107211</td>\n",
       "      <td>0.0</td>\n",
       "      <td>0.000000</td>\n",
       "      <td>0.000000</td>\n",
       "      <td>0.000000</td>\n",
       "      <td>0.0</td>\n",
       "      <td>0.068041</td>\n",
       "      <td>...</td>\n",
       "      <td>0.000000</td>\n",
       "      <td>0.080938</td>\n",
       "      <td>0.000000</td>\n",
       "      <td>0.108625</td>\n",
       "      <td>0.205571</td>\n",
       "      <td>0.024225</td>\n",
       "      <td>0.0</td>\n",
       "      <td>0.043355</td>\n",
       "      <td>0.043355</td>\n",
       "      <td>0.650442</td>\n",
       "    </tr>\n",
       "    <tr>\n",
       "      <th>4</th>\n",
       "      <td>0.379958</td>\n",
       "      <td>0.085749</td>\n",
       "      <td>0.100125</td>\n",
       "      <td>0.000000</td>\n",
       "      <td>0.0</td>\n",
       "      <td>0.117851</td>\n",
       "      <td>0.150756</td>\n",
       "      <td>1.046766</td>\n",
       "      <td>0.0</td>\n",
       "      <td>0.766256</td>\n",
       "      <td>...</td>\n",
       "      <td>0.000000</td>\n",
       "      <td>1.951070</td>\n",
       "      <td>0.106600</td>\n",
       "      <td>0.047036</td>\n",
       "      <td>1.264855</td>\n",
       "      <td>0.828659</td>\n",
       "      <td>0.0</td>\n",
       "      <td>0.216729</td>\n",
       "      <td>0.525331</td>\n",
       "      <td>1.567907</td>\n",
       "    </tr>\n",
       "  </tbody>\n",
       "</table>\n",
       "<p>5 rows × 1644 columns</p>\n",
       "</div>"
      ],
      "text/plain": [
       "       0         1         2         3     4         5         6         7     \\\n",
       "0  1.951921  0.262747  0.153398  0.148359   0.0  0.194444  0.348385  2.665946   \n",
       "1  0.571223  0.000000  0.100125  0.180054   0.0  0.117851  0.000000  0.176181   \n",
       "2  0.966594  0.134535  0.196362  0.163655   0.0  0.138675  0.312370  1.514332   \n",
       "3  0.488485  0.000000  0.086711  0.107211   0.0  0.000000  0.000000  0.000000   \n",
       "4  0.379958  0.085749  0.100125  0.000000   0.0  0.117851  0.150756  1.046766   \n",
       "\n",
       "   8         9     ...      1634      1635      1636      1637      1638  \\\n",
       "0   0.0  1.431065  ...  0.000000  2.925058  0.336804  0.063721  2.970808   \n",
       "1   0.0  0.089803  ...  0.000000  0.629420  0.062017  0.047036  0.000000   \n",
       "2   0.0  1.326917  ...  0.196116  1.871654  0.162980  0.106038  2.937299   \n",
       "3   0.0  0.068041  ...  0.000000  0.080938  0.000000  0.108625  0.205571   \n",
       "4   0.0  0.766256  ...  0.000000  1.951070  0.106600  0.047036  1.264855   \n",
       "\n",
       "       1639  1640      1641      1642      1643  \n",
       "0  0.656823   0.0  0.362978  0.651155  3.762653  \n",
       "1  0.000000   0.0  0.050063  0.050063  0.000000  \n",
       "2  0.341485   0.0  0.262798  0.671600  3.489735  \n",
       "3  0.024225   0.0  0.043355  0.043355  0.650442  \n",
       "4  0.828659   0.0  0.216729  0.525331  1.567907  \n",
       "\n",
       "[5 rows x 1644 columns]"
      ]
     },
     "execution_count": 71,
     "metadata": {},
     "output_type": "execute_result"
    }
   ],
   "source": [
    "i_prediction_df.head()"
   ]
  },
  {
   "cell_type": "code",
   "execution_count": 72,
   "metadata": {},
   "outputs": [],
   "source": [
    "selected_item = 2217"
   ]
  },
  {
   "cell_type": "code",
   "execution_count": 73,
   "metadata": {},
   "outputs": [
    {
     "data": {
      "text/plain": [
       "732     33.430158\n",
       "524     30.592024\n",
       "879     25.976762\n",
       "704     24.401964\n",
       "1154    15.751322\n",
       "1050    15.519047\n",
       "606     13.500323\n",
       "1175    10.372857\n",
       "1389     9.234418\n",
       "1158     8.721925\n",
       "Name: 2217, dtype: float64"
      ]
     },
     "execution_count": 73,
     "metadata": {},
     "output_type": "execute_result"
    }
   ],
   "source": [
    "i_prediction_df.iloc[selected_item].sort_values(ascending=False)[:10]"
   ]
  },
  {
   "cell_type": "code",
   "execution_count": 74,
   "metadata": {},
   "outputs": [],
   "source": [
    "recommended_item_df_i = pd.DataFrame(i_prediction_df.iloc[selected_item].sort_values(ascending=False))\n",
    "recommended_item_df_i.reset_index(inplace=True)\n",
    "recommended_item_df_i.columns = ['item_id', 'score']"
   ]
  },
  {
   "cell_type": "code",
   "execution_count": 75,
   "metadata": {},
   "outputs": [],
   "source": [
    "def get_item_based_collabarative_score(item, records = 10):\n",
    "    recommended_item_df_i = pd.DataFrame(i_prediction_df.iloc[selected_item].sort_values(ascending=False))\n",
    "    recommended_item_df_i.reset_index(inplace=True)\n",
    "    recommended_item_df_i.columns = ['item_id', 'item_collabrative_score']\n",
    "    return recommended_item_df_i.iloc[:records]"
   ]
  },
  {
   "cell_type": "code",
   "execution_count": 76,
   "metadata": {},
   "outputs": [
    {
     "data": {
      "text/html": [
       "<div>\n",
       "<style scoped>\n",
       "    .dataframe tbody tr th:only-of-type {\n",
       "        vertical-align: middle;\n",
       "    }\n",
       "\n",
       "    .dataframe tbody tr th {\n",
       "        vertical-align: top;\n",
       "    }\n",
       "\n",
       "    .dataframe thead th {\n",
       "        text-align: right;\n",
       "    }\n",
       "</style>\n",
       "<table border=\"1\" class=\"dataframe\">\n",
       "  <thead>\n",
       "    <tr style=\"text-align: right;\">\n",
       "      <th></th>\n",
       "      <th>item_id</th>\n",
       "      <th>item_collabrative_score</th>\n",
       "    </tr>\n",
       "  </thead>\n",
       "  <tbody>\n",
       "    <tr>\n",
       "      <th>0</th>\n",
       "      <td>732</td>\n",
       "      <td>33.430158</td>\n",
       "    </tr>\n",
       "    <tr>\n",
       "      <th>1</th>\n",
       "      <td>524</td>\n",
       "      <td>30.592024</td>\n",
       "    </tr>\n",
       "    <tr>\n",
       "      <th>2</th>\n",
       "      <td>879</td>\n",
       "      <td>25.976762</td>\n",
       "    </tr>\n",
       "    <tr>\n",
       "      <th>3</th>\n",
       "      <td>704</td>\n",
       "      <td>24.401964</td>\n",
       "    </tr>\n",
       "    <tr>\n",
       "      <th>4</th>\n",
       "      <td>1154</td>\n",
       "      <td>15.751322</td>\n",
       "    </tr>\n",
       "  </tbody>\n",
       "</table>\n",
       "</div>"
      ],
      "text/plain": [
       "   item_id  item_collabrative_score\n",
       "0      732                33.430158\n",
       "1      524                30.592024\n",
       "2      879                25.976762\n",
       "3      704                24.401964\n",
       "4     1154                15.751322"
      ]
     },
     "execution_count": 76,
     "metadata": {},
     "output_type": "execute_result"
    }
   ],
   "source": [
    "get_item_based_collabarative_score(item=2217, records=5)"
   ]
  },
  {
   "cell_type": "code",
   "execution_count": 77,
   "metadata": {},
   "outputs": [],
   "source": [
    "cols = ['item_id_encoded', 'title']\n",
    "merged_i = pd.merge(recommended_item_df_i, item[cols], left_on='item_id', right_on='item_id_encoded', how='left')"
   ]
  },
  {
   "cell_type": "code",
   "execution_count": 78,
   "metadata": {},
   "outputs": [
    {
     "data": {
      "text/plain": [
       "(1675, 4)"
      ]
     },
     "execution_count": 78,
     "metadata": {},
     "output_type": "execute_result"
    }
   ],
   "source": [
    "merged_i.shape"
   ]
  },
  {
   "cell_type": "code",
   "execution_count": 79,
   "metadata": {},
   "outputs": [],
   "source": [
    "collated_output = merged_i[merged_i['title'].notna()]"
   ]
  },
  {
   "cell_type": "code",
   "execution_count": 80,
   "metadata": {},
   "outputs": [
    {
     "data": {
      "text/plain": [
       "(1675, 4)"
      ]
     },
     "execution_count": 80,
     "metadata": {},
     "output_type": "execute_result"
    }
   ],
   "source": [
    "collated_output.shape"
   ]
  },
  {
   "cell_type": "code",
   "execution_count": 81,
   "metadata": {},
   "outputs": [
    {
     "data": {
      "text/html": [
       "<div>\n",
       "<style scoped>\n",
       "    .dataframe tbody tr th:only-of-type {\n",
       "        vertical-align: middle;\n",
       "    }\n",
       "\n",
       "    .dataframe tbody tr th {\n",
       "        vertical-align: top;\n",
       "    }\n",
       "\n",
       "    .dataframe thead th {\n",
       "        text-align: right;\n",
       "    }\n",
       "</style>\n",
       "<table border=\"1\" class=\"dataframe\">\n",
       "  <thead>\n",
       "    <tr style=\"text-align: right;\">\n",
       "      <th></th>\n",
       "      <th>item_id</th>\n",
       "      <th>score</th>\n",
       "      <th>item_id_encoded</th>\n",
       "      <th>title</th>\n",
       "    </tr>\n",
       "  </thead>\n",
       "  <tbody>\n",
       "    <tr>\n",
       "      <th>0</th>\n",
       "      <td>732</td>\n",
       "      <td>33.430158</td>\n",
       "      <td>732</td>\n",
       "      <td>Google IO 2016: A look at how not to run a lar...</td>\n",
       "    </tr>\n",
       "    <tr>\n",
       "      <th>1</th>\n",
       "      <td>524</td>\n",
       "      <td>30.592024</td>\n",
       "      <td>524</td>\n",
       "      <td>Algorithms and architecture for job recommenda...</td>\n",
       "    </tr>\n",
       "    <tr>\n",
       "      <th>2</th>\n",
       "      <td>879</td>\n",
       "      <td>25.976762</td>\n",
       "      <td>879</td>\n",
       "      <td>The Spotify Tribe</td>\n",
       "    </tr>\n",
       "    <tr>\n",
       "      <th>3</th>\n",
       "      <td>879</td>\n",
       "      <td>25.976762</td>\n",
       "      <td>879</td>\n",
       "      <td>The Spotify Tribe</td>\n",
       "    </tr>\n",
       "    <tr>\n",
       "      <th>4</th>\n",
       "      <td>704</td>\n",
       "      <td>24.401964</td>\n",
       "      <td>704</td>\n",
       "      <td>AEM 6.1 Package Manager Metadata Files</td>\n",
       "    </tr>\n",
       "  </tbody>\n",
       "</table>\n",
       "</div>"
      ],
      "text/plain": [
       "   item_id      score  item_id_encoded  \\\n",
       "0      732  33.430158              732   \n",
       "1      524  30.592024              524   \n",
       "2      879  25.976762              879   \n",
       "3      879  25.976762              879   \n",
       "4      704  24.401964              704   \n",
       "\n",
       "                                               title  \n",
       "0  Google IO 2016: A look at how not to run a lar...  \n",
       "1  Algorithms and architecture for job recommenda...  \n",
       "2                                  The Spotify Tribe  \n",
       "3                                  The Spotify Tribe  \n",
       "4             AEM 6.1 Package Manager Metadata Files  "
      ]
     },
     "execution_count": 81,
     "metadata": {},
     "output_type": "execute_result"
    }
   ],
   "source": [
    "collated_output.head()"
   ]
  },
  {
   "cell_type": "markdown",
   "metadata": {},
   "source": [
    "### Min Max Normalization"
   ]
  },
  {
   "cell_type": "code",
   "execution_count": 82,
   "metadata": {},
   "outputs": [],
   "source": [
    "collated_output['item_collabarative_score_normalized'] = (collated_output['score'] - min(collated_output['score'])) / (max(collated_output['score']) - min(collated_output['score']))"
   ]
  },
  {
   "cell_type": "code",
   "execution_count": 83,
   "metadata": {},
   "outputs": [
    {
     "data": {
      "text/html": [
       "<div>\n",
       "<style scoped>\n",
       "    .dataframe tbody tr th:only-of-type {\n",
       "        vertical-align: middle;\n",
       "    }\n",
       "\n",
       "    .dataframe tbody tr th {\n",
       "        vertical-align: top;\n",
       "    }\n",
       "\n",
       "    .dataframe thead th {\n",
       "        text-align: right;\n",
       "    }\n",
       "</style>\n",
       "<table border=\"1\" class=\"dataframe\">\n",
       "  <thead>\n",
       "    <tr style=\"text-align: right;\">\n",
       "      <th></th>\n",
       "      <th>item_id</th>\n",
       "      <th>score</th>\n",
       "      <th>item_id_encoded</th>\n",
       "      <th>title</th>\n",
       "      <th>item_collabarative_score_normalized</th>\n",
       "    </tr>\n",
       "  </thead>\n",
       "  <tbody>\n",
       "    <tr>\n",
       "      <th>0</th>\n",
       "      <td>732</td>\n",
       "      <td>33.430158</td>\n",
       "      <td>732</td>\n",
       "      <td>Google IO 2016: A look at how not to run a lar...</td>\n",
       "      <td>1.000000</td>\n",
       "    </tr>\n",
       "    <tr>\n",
       "      <th>1</th>\n",
       "      <td>524</td>\n",
       "      <td>30.592024</td>\n",
       "      <td>524</td>\n",
       "      <td>Algorithms and architecture for job recommenda...</td>\n",
       "      <td>0.915103</td>\n",
       "    </tr>\n",
       "    <tr>\n",
       "      <th>2</th>\n",
       "      <td>879</td>\n",
       "      <td>25.976762</td>\n",
       "      <td>879</td>\n",
       "      <td>The Spotify Tribe</td>\n",
       "      <td>0.777046</td>\n",
       "    </tr>\n",
       "    <tr>\n",
       "      <th>3</th>\n",
       "      <td>879</td>\n",
       "      <td>25.976762</td>\n",
       "      <td>879</td>\n",
       "      <td>The Spotify Tribe</td>\n",
       "      <td>0.777046</td>\n",
       "    </tr>\n",
       "    <tr>\n",
       "      <th>4</th>\n",
       "      <td>704</td>\n",
       "      <td>24.401964</td>\n",
       "      <td>704</td>\n",
       "      <td>AEM 6.1 Package Manager Metadata Files</td>\n",
       "      <td>0.729939</td>\n",
       "    </tr>\n",
       "  </tbody>\n",
       "</table>\n",
       "</div>"
      ],
      "text/plain": [
       "   item_id      score  item_id_encoded  \\\n",
       "0      732  33.430158              732   \n",
       "1      524  30.592024              524   \n",
       "2      879  25.976762              879   \n",
       "3      879  25.976762              879   \n",
       "4      704  24.401964              704   \n",
       "\n",
       "                                               title  \\\n",
       "0  Google IO 2016: A look at how not to run a lar...   \n",
       "1  Algorithms and architecture for job recommenda...   \n",
       "2                                  The Spotify Tribe   \n",
       "3                                  The Spotify Tribe   \n",
       "4             AEM 6.1 Package Manager Metadata Files   \n",
       "\n",
       "   item_collabarative_score_normalized  \n",
       "0                             1.000000  \n",
       "1                             0.915103  \n",
       "2                             0.777046  \n",
       "3                             0.777046  \n",
       "4                             0.729939  "
      ]
     },
     "execution_count": 83,
     "metadata": {},
     "output_type": "execute_result"
    }
   ],
   "source": [
    "collated_output.head()"
   ]
  },
  {
   "cell_type": "code",
   "execution_count": null,
   "metadata": {},
   "outputs": [],
   "source": []
  },
  {
   "cell_type": "code",
   "execution_count": null,
   "metadata": {},
   "outputs": [],
   "source": []
  },
  {
   "cell_type": "markdown",
   "metadata": {},
   "source": [
    "### Content-based filtering\n",
    "- Use text processing to analyse the ‘keywords’ feature in the data set.\n",
    "- Recommend similar items based on the TF-IDF scores."
   ]
  },
  {
   "cell_type": "code",
   "execution_count": 84,
   "metadata": {},
   "outputs": [
    {
     "data": {
      "text/html": [
       "<div>\n",
       "<style scoped>\n",
       "    .dataframe tbody tr th:only-of-type {\n",
       "        vertical-align: middle;\n",
       "    }\n",
       "\n",
       "    .dataframe tbody tr th {\n",
       "        vertical-align: top;\n",
       "    }\n",
       "\n",
       "    .dataframe thead th {\n",
       "        text-align: right;\n",
       "    }\n",
       "</style>\n",
       "<table border=\"1\" class=\"dataframe\">\n",
       "  <thead>\n",
       "    <tr style=\"text-align: right;\">\n",
       "      <th></th>\n",
       "      <th>event_timestamp</th>\n",
       "      <th>interaction_type</th>\n",
       "      <th>item_id</th>\n",
       "      <th>producer_id</th>\n",
       "      <th>producer_session_id</th>\n",
       "      <th>producer_device_info</th>\n",
       "      <th>producer_location</th>\n",
       "      <th>producer_country</th>\n",
       "      <th>item_type</th>\n",
       "      <th>item_url</th>\n",
       "      <th>title</th>\n",
       "      <th>text_description</th>\n",
       "      <th>language</th>\n",
       "      <th>item_id_encoded</th>\n",
       "    </tr>\n",
       "  </thead>\n",
       "  <tbody>\n",
       "    <tr>\n",
       "      <th>0</th>\n",
       "      <td>1459192779</td>\n",
       "      <td>content_pulled_out</td>\n",
       "      <td>-6451309518266745024</td>\n",
       "      <td>4340306774493623681</td>\n",
       "      <td>8940341205206233829</td>\n",
       "      <td>NaN</td>\n",
       "      <td>NaN</td>\n",
       "      <td>NaN</td>\n",
       "      <td>HTML</td>\n",
       "      <td>http://www.nytimes.com/2016/03/28/business/dea...</td>\n",
       "      <td>Ethereum, a Virtual Currency, Enables Transact...</td>\n",
       "      <td>All of this work is still very early. The firs...</td>\n",
       "      <td>en</td>\n",
       "      <td>338</td>\n",
       "    </tr>\n",
       "    <tr>\n",
       "      <th>1</th>\n",
       "      <td>1459193988</td>\n",
       "      <td>content_present</td>\n",
       "      <td>-4110354420726924665</td>\n",
       "      <td>4340306774493623681</td>\n",
       "      <td>8940341205206233829</td>\n",
       "      <td>NaN</td>\n",
       "      <td>NaN</td>\n",
       "      <td>NaN</td>\n",
       "      <td>HTML</td>\n",
       "      <td>http://www.nytimes.com/2016/03/28/business/dea...</td>\n",
       "      <td>Ethereum, a Virtual Currency, Enables Transact...</td>\n",
       "      <td>All of this work is still very early. The firs...</td>\n",
       "      <td>en</td>\n",
       "      <td>624</td>\n",
       "    </tr>\n",
       "    <tr>\n",
       "      <th>2</th>\n",
       "      <td>1459194146</td>\n",
       "      <td>content_present</td>\n",
       "      <td>-7292285110016212249</td>\n",
       "      <td>4340306774493623681</td>\n",
       "      <td>8940341205206233829</td>\n",
       "      <td>NaN</td>\n",
       "      <td>NaN</td>\n",
       "      <td>NaN</td>\n",
       "      <td>HTML</td>\n",
       "      <td>http://cointelegraph.com/news/bitcoin-future-w...</td>\n",
       "      <td>Bitcoin Future: When GBPcoin of Branson Wins O...</td>\n",
       "      <td>The alarm clock wakes me at 8:00 with stream o...</td>\n",
       "      <td>en</td>\n",
       "      <td>238</td>\n",
       "    </tr>\n",
       "    <tr>\n",
       "      <th>3</th>\n",
       "      <td>1459194474</td>\n",
       "      <td>content_present</td>\n",
       "      <td>-6151852268067518688</td>\n",
       "      <td>3891637997717104548</td>\n",
       "      <td>-1457532940883382585</td>\n",
       "      <td>NaN</td>\n",
       "      <td>NaN</td>\n",
       "      <td>NaN</td>\n",
       "      <td>HTML</td>\n",
       "      <td>https://cloudplatform.googleblog.com/2016/03/G...</td>\n",
       "      <td>Google Data Center 360° Tour</td>\n",
       "      <td>We're excited to share the Google Data Center ...</td>\n",
       "      <td>en</td>\n",
       "      <td>369</td>\n",
       "    </tr>\n",
       "    <tr>\n",
       "      <th>4</th>\n",
       "      <td>1459194497</td>\n",
       "      <td>content_present</td>\n",
       "      <td>2448026894306402386</td>\n",
       "      <td>4340306774493623681</td>\n",
       "      <td>8940341205206233829</td>\n",
       "      <td>NaN</td>\n",
       "      <td>NaN</td>\n",
       "      <td>NaN</td>\n",
       "      <td>HTML</td>\n",
       "      <td>https://bitcoinmagazine.com/articles/ibm-wants...</td>\n",
       "      <td>IBM Wants to \"Evolve the Internet\" With Blockc...</td>\n",
       "      <td>The Aite Group projects the blockchain market ...</td>\n",
       "      <td>en</td>\n",
       "      <td>1359</td>\n",
       "    </tr>\n",
       "  </tbody>\n",
       "</table>\n",
       "</div>"
      ],
      "text/plain": [
       "   event_timestamp    interaction_type              item_id  \\\n",
       "0       1459192779  content_pulled_out -6451309518266745024   \n",
       "1       1459193988     content_present -4110354420726924665   \n",
       "2       1459194146     content_present -7292285110016212249   \n",
       "3       1459194474     content_present -6151852268067518688   \n",
       "4       1459194497     content_present  2448026894306402386   \n",
       "\n",
       "           producer_id  producer_session_id producer_device_info  \\\n",
       "0  4340306774493623681  8940341205206233829                  NaN   \n",
       "1  4340306774493623681  8940341205206233829                  NaN   \n",
       "2  4340306774493623681  8940341205206233829                  NaN   \n",
       "3  3891637997717104548 -1457532940883382585                  NaN   \n",
       "4  4340306774493623681  8940341205206233829                  NaN   \n",
       "\n",
       "  producer_location producer_country item_type  \\\n",
       "0               NaN              NaN      HTML   \n",
       "1               NaN              NaN      HTML   \n",
       "2               NaN              NaN      HTML   \n",
       "3               NaN              NaN      HTML   \n",
       "4               NaN              NaN      HTML   \n",
       "\n",
       "                                            item_url  \\\n",
       "0  http://www.nytimes.com/2016/03/28/business/dea...   \n",
       "1  http://www.nytimes.com/2016/03/28/business/dea...   \n",
       "2  http://cointelegraph.com/news/bitcoin-future-w...   \n",
       "3  https://cloudplatform.googleblog.com/2016/03/G...   \n",
       "4  https://bitcoinmagazine.com/articles/ibm-wants...   \n",
       "\n",
       "                                               title  \\\n",
       "0  Ethereum, a Virtual Currency, Enables Transact...   \n",
       "1  Ethereum, a Virtual Currency, Enables Transact...   \n",
       "2  Bitcoin Future: When GBPcoin of Branson Wins O...   \n",
       "3                       Google Data Center 360° Tour   \n",
       "4  IBM Wants to \"Evolve the Internet\" With Blockc...   \n",
       "\n",
       "                                    text_description language  item_id_encoded  \n",
       "0  All of this work is still very early. The firs...       en              338  \n",
       "1  All of this work is still very early. The firs...       en              624  \n",
       "2  The alarm clock wakes me at 8:00 with stream o...       en              238  \n",
       "3  We're excited to share the Google Data Center ...       en              369  \n",
       "4  The Aite Group projects the blockchain market ...       en             1359  "
      ]
     },
     "execution_count": 84,
     "metadata": {},
     "output_type": "execute_result"
    }
   ],
   "source": [
    "item.head()"
   ]
  },
  {
   "cell_type": "code",
   "execution_count": 85,
   "metadata": {},
   "outputs": [
    {
     "data": {
      "text/plain": [
       "6071.933745583039"
      ]
     },
     "execution_count": 85,
     "metadata": {},
     "output_type": "execute_result"
    }
   ],
   "source": [
    "np.mean(item['text_description'].str.len())"
   ]
  },
  {
   "cell_type": "code",
   "execution_count": 86,
   "metadata": {},
   "outputs": [],
   "source": [
    "num_of_keywords = []\n",
    "for keyword in item['text_description']:\n",
    "    n_words = len(keyword.split(' '))\n",
    "    num_of_keywords.append(n_words)"
   ]
  },
  {
   "cell_type": "code",
   "execution_count": 87,
   "metadata": {},
   "outputs": [
    {
     "data": {
      "text/plain": [
       "[1072, 1072, 311, 272, 1354, 276, 689, 727, 1689, 782]"
      ]
     },
     "execution_count": 87,
     "metadata": {},
     "output_type": "execute_result"
    }
   ],
   "source": [
    "num_of_keywords[:10]"
   ]
  },
  {
   "cell_type": "code",
   "execution_count": 88,
   "metadata": {},
   "outputs": [
    {
     "data": {
      "text/plain": [
       "2276113"
      ]
     },
     "execution_count": 88,
     "metadata": {},
     "output_type": "execute_result"
    }
   ],
   "source": [
    "sum(num_of_keywords)"
   ]
  },
  {
   "cell_type": "code",
   "execution_count": 89,
   "metadata": {},
   "outputs": [
    {
     "data": {
      "image/png": "[encoded data removed]",
      "text/plain": [
       "<Figure size 432x288 with 1 Axes>"
      ]
     },
     "metadata": {},
     "output_type": "display_data"
    }
   ],
   "source": [
    "plt.hist(num_of_keywords)\n",
    "plt.title('Distribution of numbr of words in item description')\n",
    "plt.show()"
   ]
  },
  {
   "cell_type": "code",
   "execution_count": 90,
   "metadata": {},
   "outputs": [
    {
     "data": {
      "text/plain": [
       "(2220, 3)"
      ]
     },
     "execution_count": 90,
     "metadata": {},
     "output_type": "execute_result"
    }
   ],
   "source": [
    "item_c = item[['title', 'text_description', 'item_id_encoded']].drop_duplicates()\n",
    "item_c.shape"
   ]
  },
  {
   "cell_type": "code",
   "execution_count": 91,
   "metadata": {},
   "outputs": [
    {
     "data": {
      "text/plain": [
       "(2218, 3)"
      ]
     },
     "execution_count": 91,
     "metadata": {},
     "output_type": "execute_result"
    }
   ],
   "source": [
    "# Removed two duplicate rows\n",
    "item_c = item_c[~item_c.item_id_encoded.duplicated(keep='first')]\n",
    "item_c.shape"
   ]
  },
  {
   "cell_type": "code",
   "execution_count": 92,
   "metadata": {},
   "outputs": [
    {
     "data": {
      "text/html": [
       "<div>\n",
       "<style scoped>\n",
       "    .dataframe tbody tr th:only-of-type {\n",
       "        vertical-align: middle;\n",
       "    }\n",
       "\n",
       "    .dataframe tbody tr th {\n",
       "        vertical-align: top;\n",
       "    }\n",
       "\n",
       "    .dataframe thead th {\n",
       "        text-align: right;\n",
       "    }\n",
       "</style>\n",
       "<table border=\"1\" class=\"dataframe\">\n",
       "  <thead>\n",
       "    <tr style=\"text-align: right;\">\n",
       "      <th></th>\n",
       "      <th>title</th>\n",
       "      <th>text_description</th>\n",
       "      <th>item_id_encoded</th>\n",
       "    </tr>\n",
       "  </thead>\n",
       "  <tbody>\n",
       "    <tr>\n",
       "      <th>0</th>\n",
       "      <td>Ethereum, a Virtual Currency, Enables Transact...</td>\n",
       "      <td>All of this work is still very early. The firs...</td>\n",
       "      <td>338</td>\n",
       "    </tr>\n",
       "    <tr>\n",
       "      <th>1</th>\n",
       "      <td>Ethereum, a Virtual Currency, Enables Transact...</td>\n",
       "      <td>All of this work is still very early. The firs...</td>\n",
       "      <td>624</td>\n",
       "    </tr>\n",
       "    <tr>\n",
       "      <th>2</th>\n",
       "      <td>Bitcoin Future: When GBPcoin of Branson Wins O...</td>\n",
       "      <td>The alarm clock wakes me at 8:00 with stream o...</td>\n",
       "      <td>238</td>\n",
       "    </tr>\n",
       "    <tr>\n",
       "      <th>3</th>\n",
       "      <td>Google Data Center 360° Tour</td>\n",
       "      <td>We're excited to share the Google Data Center ...</td>\n",
       "      <td>369</td>\n",
       "    </tr>\n",
       "    <tr>\n",
       "      <th>4</th>\n",
       "      <td>IBM Wants to \"Evolve the Internet\" With Blockc...</td>\n",
       "      <td>The Aite Group projects the blockchain market ...</td>\n",
       "      <td>1359</td>\n",
       "    </tr>\n",
       "  </tbody>\n",
       "</table>\n",
       "</div>"
      ],
      "text/plain": [
       "                                               title  \\\n",
       "0  Ethereum, a Virtual Currency, Enables Transact...   \n",
       "1  Ethereum, a Virtual Currency, Enables Transact...   \n",
       "2  Bitcoin Future: When GBPcoin of Branson Wins O...   \n",
       "3                       Google Data Center 360° Tour   \n",
       "4  IBM Wants to \"Evolve the Internet\" With Blockc...   \n",
       "\n",
       "                                    text_description  item_id_encoded  \n",
       "0  All of this work is still very early. The firs...              338  \n",
       "1  All of this work is still very early. The firs...              624  \n",
       "2  The alarm clock wakes me at 8:00 with stream o...              238  \n",
       "3  We're excited to share the Google Data Center ...              369  \n",
       "4  The Aite Group projects the blockchain market ...             1359  "
      ]
     },
     "execution_count": 92,
     "metadata": {},
     "output_type": "execute_result"
    }
   ],
   "source": [
    "item_c.head()"
   ]
  },
  {
   "cell_type": "code",
   "execution_count": 93,
   "metadata": {},
   "outputs": [],
   "source": [
    "desc_array = item_c['text_description'].to_numpy()"
   ]
  },
  {
   "cell_type": "code",
   "execution_count": 94,
   "metadata": {},
   "outputs": [
    {
     "data": {
      "text/plain": [
       "'All of this work is still very early. The first full public version of the Ethereum software was recently released, and the system could face some of the same technical and legal problems that have tarnished Bitcoin. Many Bitcoin advocates say Ethereum will face more security problems than Bitcoin because of the greater complexity of the software. Thus far, Ethereum has faced much less testing, and many fewer attacks, than Bitcoin. The novel design of Ethereum may also invite intense scrutiny by authorities given that potentially fraudulent contracts, like the Ponzi schemes, can be written directly into the Ethereum system. But the sophisticated capabilities of the system have made it fascinating to some executives in corporate America. IBM said last year that it was experimenting with Ethereum as a way to control real world objects in the so-called Internet of things. Microsoft has been working on several projects that make it easier to use Ethereum on its computing cloud, Azure. \"Ethereum is a general platform where you can solve problems in many industries using a fairly elegant solution - the most elegant solution we have seen to date,\" said Marley Gray, a director of business development and strategy at Microsoft. Mr. Gray is responsible for Microsoft\\'s work with blockchains, the database concept that Bitcoin introduced. Blockchains are designed to store transactions and data without requiring any central authority or repository. Blockchain ledgers are generally maintained and updated by networks of computers working together - somewhat similar to the way that Wikipedia is updated and maintained by all its users. Many corporations, though, have created their own Ethereum networks with private blockchains, independent of the public system, and that could ultimately detract from the value of the individual unit in the Ethereum system - known as an Ether - that people have recently been buying. The interest in Ethereum is one sign of the corporate fascination with blockchains. Most major banks have expressed an interest in using them to make trading and money transfer faster and more efficient. On Tuesday, executives from the largest banks will gather for a conference, \"Blockchain: Tapping I nto the Real Potential , Cutting Through the Hype.\" Many of these banks have recently been looking at how some version of Ethereum might be put to use. JPMorgan, for instance, has created a specific tool, Masala, that allows some of its internal databases to interact with an Ethereum blockchain. Michael Novogratz, a former top executive at the private equity firm Fortress Investing Group, who helped lead Fortress\\'s investment in Bitcoin, has been looking at Ethereum since he left Fortress last fall. Mr. Novogratz said that he made a \"significant\" purchase of Ether in January. He has also heard how the financial industry\\'s chatter about the virtual currency has evolved. \"A lot of the more established players were thinking, \\'It\\'s still an experiment,\\' \" he said. \"It feels like in the last two to three months that experiment is at least getting a lot more validation.\" Since the beginning of the year, the value of an individual unit of Ether has soared as high as $12 from around $1. That has brought the value of all existing Ether to over $1 billion at times, significantly more than any virtual currency other than Bitcoin, which had over $6 billion in value outstanding last week. Since Bitcoin was invented, there have been many so-called alt-coins that have tried to improve on Bitcoin, but none have won the following of Ethereum. Unlike Bitcoin, which was released in 2009 by a mysterious creator known as Satoshi Nakamoto, Ethereum was created in a more transparent fashion by a 21-year-old Russian-Canadian, Vitalik Buterin, after he dropped out of Waterloo University in Ontario. The most basic aim of Ethereum was to make it possible to program binding agreements into the blockchain - the smart contract concept. Two people, for instance, could program a bet on a sports game directly into the Ethereum blockchain. Once the final score came in from a mutually agreed upon source - say, The Associated Press - the money would be automatically transferred to the winning party. Ether can be used as a currency in this system, but Ether are also necessary to pay for the network power needed to process the bet. The Ethereum system has sometimes been described as a single shared computer that is run by the network of users and on which resources are parceled out and paid for by Ether. A team of seven co-founders helped Mr. Buterin write up the software after he released the initial description of the system. Mr. Buterin\\'s team raised $18 million in 2014 through a presale of Ether, which helped fund the Ethereum Foundation, which supports the software\\'s development. Like Bitcoin, Ethereum has succeeded by attracting a dedicated network of followers who have helped support the software, partly in the hope that their Ether will increase in value if the system succeeds. Last week, there were 5,800 computers - or nodes - helping support the network around the world. The Bitcoin network had about 7,400 nodes. One of Mr. Buterin\\'s co-founders, Joseph Lubin, has set up ConsenSys, a company based in Brooklyn that has hired over 50 developers to build applications on the Ethereum system, including one that enables music distribution and another that allows for a new kind of financial auditing. The ConsenSys offices are in an old industrial building in the Bushwick section of Brooklyn. The office is essentially one large room, with all the messy trademarks of a start-up operation, including white boards on the walls and computer parts lying around. Mr. Lubin said he had thrown himself into Ethereum after starting to think that it delivered on some of the failed promise of Bitcoin, especially when it came to allowing new kinds of online contracts and markets. \"Bitcoin presented the broad strokes vision, and Ethereum presented the crystallization of how to deliver that vision,\" he said. Joseph Bonneau, a computer science researcher at Stanford who studies so-called crypto-currencies, said Ethereum was the first system that had really caught his interest since Bitcoin. It is far from a sure thing, he cautioned. \"Bitcoin is still probably the safest bet, but Ethereum is certainly No. 2, and some folks will say it is more likely to be around in 10 years,\" Mr. Bonneau said. \"It will depend if any real markets develop around it. If there is some actual application.\"'"
      ]
     },
     "execution_count": 94,
     "metadata": {},
     "output_type": "execute_result"
    }
   ],
   "source": [
    "desc_array[0]"
   ]
  },
  {
   "cell_type": "code",
   "execution_count": 95,
   "metadata": {},
   "outputs": [],
   "source": [
    "word_list = []\n",
    "for keyword in desc_array:\n",
    "    words = keyword.lower().split(' ')\n",
    "    word_list.append(words)"
   ]
  },
  {
   "cell_type": "code",
   "execution_count": 96,
   "metadata": {},
   "outputs": [
    {
     "data": {
      "text/plain": [
       "['all',\n",
       " 'of',\n",
       " 'this',\n",
       " 'work',\n",
       " 'is',\n",
       " 'still',\n",
       " 'very',\n",
       " 'early.',\n",
       " 'the',\n",
       " 'first',\n",
       " 'full',\n",
       " 'public',\n",
       " 'version',\n",
       " 'of',\n",
       " 'the',\n",
       " 'ethereum',\n",
       " 'software',\n",
       " 'was',\n",
       " 'recently',\n",
       " 'released,',\n",
       " 'and',\n",
       " 'the',\n",
       " 'system',\n",
       " 'could',\n",
       " 'face',\n",
       " 'some',\n",
       " 'of',\n",
       " 'the',\n",
       " 'same',\n",
       " 'technical',\n",
       " 'and',\n",
       " 'legal',\n",
       " 'problems',\n",
       " 'that',\n",
       " 'have',\n",
       " 'tarnished',\n",
       " 'bitcoin.',\n",
       " 'many',\n",
       " 'bitcoin',\n",
       " 'advocates',\n",
       " 'say',\n",
       " 'ethereum',\n",
       " 'will',\n",
       " 'face',\n",
       " 'more',\n",
       " 'security',\n",
       " 'problems',\n",
       " 'than',\n",
       " 'bitcoin',\n",
       " 'because',\n",
       " 'of',\n",
       " 'the',\n",
       " 'greater',\n",
       " 'complexity',\n",
       " 'of',\n",
       " 'the',\n",
       " 'software.',\n",
       " 'thus',\n",
       " 'far,',\n",
       " 'ethereum',\n",
       " 'has',\n",
       " 'faced',\n",
       " 'much',\n",
       " 'less',\n",
       " 'testing,',\n",
       " 'and',\n",
       " 'many',\n",
       " 'fewer',\n",
       " 'attacks,',\n",
       " 'than',\n",
       " 'bitcoin.',\n",
       " 'the',\n",
       " 'novel',\n",
       " 'design',\n",
       " 'of',\n",
       " 'ethereum',\n",
       " 'may',\n",
       " 'also',\n",
       " 'invite',\n",
       " 'intense',\n",
       " 'scrutiny',\n",
       " 'by',\n",
       " 'authorities',\n",
       " 'given',\n",
       " 'that',\n",
       " 'potentially',\n",
       " 'fraudulent',\n",
       " 'contracts,',\n",
       " 'like',\n",
       " 'the',\n",
       " 'ponzi',\n",
       " 'schemes,',\n",
       " 'can',\n",
       " 'be',\n",
       " 'written',\n",
       " 'directly',\n",
       " 'into',\n",
       " 'the',\n",
       " 'ethereum',\n",
       " 'system.',\n",
       " 'but',\n",
       " 'the',\n",
       " 'sophisticated',\n",
       " 'capabilities',\n",
       " 'of',\n",
       " 'the',\n",
       " 'system',\n",
       " 'have',\n",
       " 'made',\n",
       " 'it',\n",
       " 'fascinating',\n",
       " 'to',\n",
       " 'some',\n",
       " 'executives',\n",
       " 'in',\n",
       " 'corporate',\n",
       " 'america.',\n",
       " 'ibm',\n",
       " 'said',\n",
       " 'last',\n",
       " 'year',\n",
       " 'that',\n",
       " 'it',\n",
       " 'was',\n",
       " 'experimenting',\n",
       " 'with',\n",
       " 'ethereum',\n",
       " 'as',\n",
       " 'a',\n",
       " 'way',\n",
       " 'to',\n",
       " 'control',\n",
       " 'real',\n",
       " 'world',\n",
       " 'objects',\n",
       " 'in',\n",
       " 'the',\n",
       " 'so-called',\n",
       " 'internet',\n",
       " 'of',\n",
       " 'things.',\n",
       " 'microsoft',\n",
       " 'has',\n",
       " 'been',\n",
       " 'working',\n",
       " 'on',\n",
       " 'several',\n",
       " 'projects',\n",
       " 'that',\n",
       " 'make',\n",
       " 'it',\n",
       " 'easier',\n",
       " 'to',\n",
       " 'use',\n",
       " 'ethereum',\n",
       " 'on',\n",
       " 'its',\n",
       " 'computing',\n",
       " 'cloud,',\n",
       " 'azure.',\n",
       " '\"ethereum',\n",
       " 'is',\n",
       " 'a',\n",
       " 'general',\n",
       " 'platform',\n",
       " 'where',\n",
       " 'you',\n",
       " 'can',\n",
       " 'solve',\n",
       " 'problems',\n",
       " 'in',\n",
       " 'many',\n",
       " 'industries',\n",
       " 'using',\n",
       " 'a',\n",
       " 'fairly',\n",
       " 'elegant',\n",
       " 'solution',\n",
       " '-',\n",
       " 'the',\n",
       " 'most',\n",
       " 'elegant',\n",
       " 'solution',\n",
       " 'we',\n",
       " 'have',\n",
       " 'seen',\n",
       " 'to',\n",
       " 'date,\"',\n",
       " 'said',\n",
       " 'marley',\n",
       " 'gray,',\n",
       " 'a',\n",
       " 'director',\n",
       " 'of',\n",
       " 'business',\n",
       " 'development',\n",
       " 'and',\n",
       " 'strategy',\n",
       " 'at',\n",
       " 'microsoft.',\n",
       " 'mr.',\n",
       " 'gray',\n",
       " 'is',\n",
       " 'responsible',\n",
       " 'for',\n",
       " \"microsoft's\",\n",
       " 'work',\n",
       " 'with',\n",
       " 'blockchains,',\n",
       " 'the',\n",
       " 'database',\n",
       " 'concept',\n",
       " 'that',\n",
       " 'bitcoin',\n",
       " 'introduced.',\n",
       " 'blockchains',\n",
       " 'are',\n",
       " 'designed',\n",
       " 'to',\n",
       " 'store',\n",
       " 'transactions',\n",
       " 'and',\n",
       " 'data',\n",
       " 'without',\n",
       " 'requiring',\n",
       " 'any',\n",
       " 'central',\n",
       " 'authority',\n",
       " 'or',\n",
       " 'repository.',\n",
       " 'blockchain',\n",
       " 'ledgers',\n",
       " 'are',\n",
       " 'generally',\n",
       " 'maintained',\n",
       " 'and',\n",
       " 'updated',\n",
       " 'by',\n",
       " 'networks',\n",
       " 'of',\n",
       " 'computers',\n",
       " 'working',\n",
       " 'together',\n",
       " '-',\n",
       " 'somewhat',\n",
       " 'similar',\n",
       " 'to',\n",
       " 'the',\n",
       " 'way',\n",
       " 'that',\n",
       " 'wikipedia',\n",
       " 'is',\n",
       " 'updated',\n",
       " 'and',\n",
       " 'maintained',\n",
       " 'by',\n",
       " 'all',\n",
       " 'its',\n",
       " 'users.',\n",
       " 'many',\n",
       " 'corporations,',\n",
       " 'though,',\n",
       " 'have',\n",
       " 'created',\n",
       " 'their',\n",
       " 'own',\n",
       " 'ethereum',\n",
       " 'networks',\n",
       " 'with',\n",
       " 'private',\n",
       " 'blockchains,',\n",
       " 'independent',\n",
       " 'of',\n",
       " 'the',\n",
       " 'public',\n",
       " 'system,',\n",
       " 'and',\n",
       " 'that',\n",
       " 'could',\n",
       " 'ultimately',\n",
       " 'detract',\n",
       " 'from',\n",
       " 'the',\n",
       " 'value',\n",
       " 'of',\n",
       " 'the',\n",
       " 'individual',\n",
       " 'unit',\n",
       " 'in',\n",
       " 'the',\n",
       " 'ethereum',\n",
       " 'system',\n",
       " '-',\n",
       " 'known',\n",
       " 'as',\n",
       " 'an',\n",
       " 'ether',\n",
       " '-',\n",
       " 'that',\n",
       " 'people',\n",
       " 'have',\n",
       " 'recently',\n",
       " 'been',\n",
       " 'buying.',\n",
       " 'the',\n",
       " 'interest',\n",
       " 'in',\n",
       " 'ethereum',\n",
       " 'is',\n",
       " 'one',\n",
       " 'sign',\n",
       " 'of',\n",
       " 'the',\n",
       " 'corporate',\n",
       " 'fascination',\n",
       " 'with',\n",
       " 'blockchains.',\n",
       " 'most',\n",
       " 'major',\n",
       " 'banks',\n",
       " 'have',\n",
       " 'expressed',\n",
       " 'an',\n",
       " 'interest',\n",
       " 'in',\n",
       " 'using',\n",
       " 'them',\n",
       " 'to',\n",
       " 'make',\n",
       " 'trading',\n",
       " 'and',\n",
       " 'money',\n",
       " 'transfer',\n",
       " 'faster',\n",
       " 'and',\n",
       " 'more',\n",
       " 'efficient.',\n",
       " 'on',\n",
       " 'tuesday,',\n",
       " 'executives',\n",
       " 'from',\n",
       " 'the',\n",
       " 'largest',\n",
       " 'banks',\n",
       " 'will',\n",
       " 'gather',\n",
       " 'for',\n",
       " 'a',\n",
       " 'conference,',\n",
       " '\"blockchain:',\n",
       " 'tapping',\n",
       " 'i',\n",
       " 'nto',\n",
       " 'the',\n",
       " 'real',\n",
       " 'potential',\n",
       " ',',\n",
       " 'cutting',\n",
       " 'through',\n",
       " 'the',\n",
       " 'hype.\"',\n",
       " 'many',\n",
       " 'of',\n",
       " 'these',\n",
       " 'banks',\n",
       " 'have',\n",
       " 'recently',\n",
       " 'been',\n",
       " 'looking',\n",
       " 'at',\n",
       " 'how',\n",
       " 'some',\n",
       " 'version',\n",
       " 'of',\n",
       " 'ethereum',\n",
       " 'might',\n",
       " 'be',\n",
       " 'put',\n",
       " 'to',\n",
       " 'use.',\n",
       " 'jpmorgan,',\n",
       " 'for',\n",
       " 'instance,',\n",
       " 'has',\n",
       " 'created',\n",
       " 'a',\n",
       " 'specific',\n",
       " 'tool,',\n",
       " 'masala,',\n",
       " 'that',\n",
       " 'allows',\n",
       " 'some',\n",
       " 'of',\n",
       " 'its',\n",
       " 'internal',\n",
       " 'databases',\n",
       " 'to',\n",
       " 'interact',\n",
       " 'with',\n",
       " 'an',\n",
       " 'ethereum',\n",
       " 'blockchain.',\n",
       " 'michael',\n",
       " 'novogratz,',\n",
       " 'a',\n",
       " 'former',\n",
       " 'top',\n",
       " 'executive',\n",
       " 'at',\n",
       " 'the',\n",
       " 'private',\n",
       " 'equity',\n",
       " 'firm',\n",
       " 'fortress',\n",
       " 'investing',\n",
       " 'group,',\n",
       " 'who',\n",
       " 'helped',\n",
       " 'lead',\n",
       " \"fortress's\",\n",
       " 'investment',\n",
       " 'in',\n",
       " 'bitcoin,',\n",
       " 'has',\n",
       " 'been',\n",
       " 'looking',\n",
       " 'at',\n",
       " 'ethereum',\n",
       " 'since',\n",
       " 'he',\n",
       " 'left',\n",
       " 'fortress',\n",
       " 'last',\n",
       " 'fall.',\n",
       " 'mr.',\n",
       " 'novogratz',\n",
       " 'said',\n",
       " 'that',\n",
       " 'he',\n",
       " 'made',\n",
       " 'a',\n",
       " '\"significant\"',\n",
       " 'purchase',\n",
       " 'of',\n",
       " 'ether',\n",
       " 'in',\n",
       " 'january.',\n",
       " 'he',\n",
       " 'has',\n",
       " 'also',\n",
       " 'heard',\n",
       " 'how',\n",
       " 'the',\n",
       " 'financial',\n",
       " \"industry's\",\n",
       " 'chatter',\n",
       " 'about',\n",
       " 'the',\n",
       " 'virtual',\n",
       " 'currency',\n",
       " 'has',\n",
       " 'evolved.',\n",
       " '\"a',\n",
       " 'lot',\n",
       " 'of',\n",
       " 'the',\n",
       " 'more',\n",
       " 'established',\n",
       " 'players',\n",
       " 'were',\n",
       " 'thinking,',\n",
       " \"'it's\",\n",
       " 'still',\n",
       " 'an',\n",
       " \"experiment,'\",\n",
       " '\"',\n",
       " 'he',\n",
       " 'said.',\n",
       " '\"it',\n",
       " 'feels',\n",
       " 'like',\n",
       " 'in',\n",
       " 'the',\n",
       " 'last',\n",
       " 'two',\n",
       " 'to',\n",
       " 'three',\n",
       " 'months',\n",
       " 'that',\n",
       " 'experiment',\n",
       " 'is',\n",
       " 'at',\n",
       " 'least',\n",
       " 'getting',\n",
       " 'a',\n",
       " 'lot',\n",
       " 'more',\n",
       " 'validation.\"',\n",
       " 'since',\n",
       " 'the',\n",
       " 'beginning',\n",
       " 'of',\n",
       " 'the',\n",
       " 'year,',\n",
       " 'the',\n",
       " 'value',\n",
       " 'of',\n",
       " 'an',\n",
       " 'individual',\n",
       " 'unit',\n",
       " 'of',\n",
       " 'ether',\n",
       " 'has',\n",
       " 'soared',\n",
       " 'as',\n",
       " 'high',\n",
       " 'as',\n",
       " '$12',\n",
       " 'from',\n",
       " 'around',\n",
       " '$1.',\n",
       " 'that',\n",
       " 'has',\n",
       " 'brought',\n",
       " 'the',\n",
       " 'value',\n",
       " 'of',\n",
       " 'all',\n",
       " 'existing',\n",
       " 'ether',\n",
       " 'to',\n",
       " 'over',\n",
       " '$1',\n",
       " 'billion',\n",
       " 'at',\n",
       " 'times,',\n",
       " 'significantly',\n",
       " 'more',\n",
       " 'than',\n",
       " 'any',\n",
       " 'virtual',\n",
       " 'currency',\n",
       " 'other',\n",
       " 'than',\n",
       " 'bitcoin,',\n",
       " 'which',\n",
       " 'had',\n",
       " 'over',\n",
       " '$6',\n",
       " 'billion',\n",
       " 'in',\n",
       " 'value',\n",
       " 'outstanding',\n",
       " 'last',\n",
       " 'week.',\n",
       " 'since',\n",
       " 'bitcoin',\n",
       " 'was',\n",
       " 'invented,',\n",
       " 'there',\n",
       " 'have',\n",
       " 'been',\n",
       " 'many',\n",
       " 'so-called',\n",
       " 'alt-coins',\n",
       " 'that',\n",
       " 'have',\n",
       " 'tried',\n",
       " 'to',\n",
       " 'improve',\n",
       " 'on',\n",
       " 'bitcoin,',\n",
       " 'but',\n",
       " 'none',\n",
       " 'have',\n",
       " 'won',\n",
       " 'the',\n",
       " 'following',\n",
       " 'of',\n",
       " 'ethereum.',\n",
       " 'unlike',\n",
       " 'bitcoin,',\n",
       " 'which',\n",
       " 'was',\n",
       " 'released',\n",
       " 'in',\n",
       " '2009',\n",
       " 'by',\n",
       " 'a',\n",
       " 'mysterious',\n",
       " 'creator',\n",
       " 'known',\n",
       " 'as',\n",
       " 'satoshi',\n",
       " 'nakamoto,',\n",
       " 'ethereum',\n",
       " 'was',\n",
       " 'created',\n",
       " 'in',\n",
       " 'a',\n",
       " 'more',\n",
       " 'transparent',\n",
       " 'fashion',\n",
       " 'by',\n",
       " 'a',\n",
       " '21-year-old',\n",
       " 'russian-canadian,',\n",
       " 'vitalik',\n",
       " 'buterin,',\n",
       " 'after',\n",
       " 'he',\n",
       " 'dropped',\n",
       " 'out',\n",
       " 'of',\n",
       " 'waterloo',\n",
       " 'university',\n",
       " 'in',\n",
       " 'ontario.',\n",
       " 'the',\n",
       " 'most',\n",
       " 'basic',\n",
       " 'aim',\n",
       " 'of',\n",
       " 'ethereum',\n",
       " 'was',\n",
       " 'to',\n",
       " 'make',\n",
       " 'it',\n",
       " 'possible',\n",
       " 'to',\n",
       " 'program',\n",
       " 'binding',\n",
       " 'agreements',\n",
       " 'into',\n",
       " 'the',\n",
       " 'blockchain',\n",
       " '-',\n",
       " 'the',\n",
       " 'smart',\n",
       " 'contract',\n",
       " 'concept.',\n",
       " 'two',\n",
       " 'people,',\n",
       " 'for',\n",
       " 'instance,',\n",
       " 'could',\n",
       " 'program',\n",
       " 'a',\n",
       " 'bet',\n",
       " 'on',\n",
       " 'a',\n",
       " 'sports',\n",
       " 'game',\n",
       " 'directly',\n",
       " 'into',\n",
       " 'the',\n",
       " 'ethereum',\n",
       " 'blockchain.',\n",
       " 'once',\n",
       " 'the',\n",
       " 'final',\n",
       " 'score',\n",
       " 'came',\n",
       " 'in',\n",
       " 'from',\n",
       " 'a',\n",
       " 'mutually',\n",
       " 'agreed',\n",
       " 'upon',\n",
       " 'source',\n",
       " '-',\n",
       " 'say,',\n",
       " 'the',\n",
       " 'associated',\n",
       " 'press',\n",
       " '-',\n",
       " 'the',\n",
       " 'money',\n",
       " 'would',\n",
       " 'be',\n",
       " 'automatically',\n",
       " 'transferred',\n",
       " 'to',\n",
       " 'the',\n",
       " 'winning',\n",
       " 'party.',\n",
       " 'ether',\n",
       " 'can',\n",
       " 'be',\n",
       " 'used',\n",
       " 'as',\n",
       " 'a',\n",
       " 'currency',\n",
       " 'in',\n",
       " 'this',\n",
       " 'system,',\n",
       " 'but',\n",
       " 'ether',\n",
       " 'are',\n",
       " 'also',\n",
       " 'necessary',\n",
       " 'to',\n",
       " 'pay',\n",
       " 'for',\n",
       " 'the',\n",
       " 'network',\n",
       " 'power',\n",
       " 'needed',\n",
       " 'to',\n",
       " 'process',\n",
       " 'the',\n",
       " 'bet.',\n",
       " 'the',\n",
       " 'ethereum',\n",
       " 'system',\n",
       " 'has',\n",
       " 'sometimes',\n",
       " 'been',\n",
       " 'described',\n",
       " 'as',\n",
       " 'a',\n",
       " 'single',\n",
       " 'shared',\n",
       " 'computer',\n",
       " 'that',\n",
       " 'is',\n",
       " 'run',\n",
       " 'by',\n",
       " 'the',\n",
       " 'network',\n",
       " 'of',\n",
       " 'users',\n",
       " 'and',\n",
       " 'on',\n",
       " 'which',\n",
       " 'resources',\n",
       " 'are',\n",
       " 'parceled',\n",
       " 'out',\n",
       " 'and',\n",
       " 'paid',\n",
       " 'for',\n",
       " 'by',\n",
       " 'ether.',\n",
       " 'a',\n",
       " 'team',\n",
       " 'of',\n",
       " 'seven',\n",
       " 'co-founders',\n",
       " 'helped',\n",
       " 'mr.',\n",
       " 'buterin',\n",
       " 'write',\n",
       " 'up',\n",
       " 'the',\n",
       " 'software',\n",
       " 'after',\n",
       " 'he',\n",
       " 'released',\n",
       " 'the',\n",
       " 'initial',\n",
       " 'description',\n",
       " 'of',\n",
       " 'the',\n",
       " 'system.',\n",
       " 'mr.',\n",
       " \"buterin's\",\n",
       " 'team',\n",
       " 'raised',\n",
       " '$18',\n",
       " 'million',\n",
       " 'in',\n",
       " '2014',\n",
       " 'through',\n",
       " 'a',\n",
       " 'presale',\n",
       " 'of',\n",
       " 'ether,',\n",
       " 'which',\n",
       " 'helped',\n",
       " 'fund',\n",
       " 'the',\n",
       " 'ethereum',\n",
       " 'foundation,',\n",
       " 'which',\n",
       " 'supports',\n",
       " 'the',\n",
       " \"software's\",\n",
       " 'development.',\n",
       " 'like',\n",
       " 'bitcoin,',\n",
       " 'ethereum',\n",
       " 'has',\n",
       " 'succeeded',\n",
       " 'by',\n",
       " 'attracting',\n",
       " 'a',\n",
       " 'dedicated',\n",
       " 'network',\n",
       " 'of',\n",
       " 'followers',\n",
       " 'who',\n",
       " 'have',\n",
       " 'helped',\n",
       " 'support',\n",
       " 'the',\n",
       " 'software,',\n",
       " 'partly',\n",
       " 'in',\n",
       " 'the',\n",
       " 'hope',\n",
       " 'that',\n",
       " 'their',\n",
       " 'ether',\n",
       " 'will',\n",
       " 'increase',\n",
       " 'in',\n",
       " 'value',\n",
       " 'if',\n",
       " 'the',\n",
       " 'system',\n",
       " 'succeeds.',\n",
       " 'last',\n",
       " 'week,',\n",
       " 'there',\n",
       " 'were',\n",
       " '5,800',\n",
       " 'computers',\n",
       " '-',\n",
       " 'or',\n",
       " 'nodes',\n",
       " '-',\n",
       " 'helping',\n",
       " 'support',\n",
       " 'the',\n",
       " 'network',\n",
       " 'around',\n",
       " 'the',\n",
       " 'world.',\n",
       " 'the',\n",
       " 'bitcoin',\n",
       " 'network',\n",
       " 'had',\n",
       " 'about',\n",
       " '7,400',\n",
       " 'nodes.',\n",
       " 'one',\n",
       " 'of',\n",
       " 'mr.',\n",
       " \"buterin's\",\n",
       " 'co-founders,',\n",
       " 'joseph',\n",
       " 'lubin,',\n",
       " 'has',\n",
       " 'set',\n",
       " 'up',\n",
       " 'consensys,',\n",
       " 'a',\n",
       " 'company',\n",
       " 'based',\n",
       " 'in',\n",
       " 'brooklyn',\n",
       " 'that',\n",
       " 'has',\n",
       " 'hired',\n",
       " 'over',\n",
       " '50',\n",
       " 'developers',\n",
       " 'to',\n",
       " 'build',\n",
       " 'applications',\n",
       " 'on',\n",
       " 'the',\n",
       " 'ethereum',\n",
       " 'system,',\n",
       " 'including',\n",
       " 'one',\n",
       " 'that',\n",
       " 'enables',\n",
       " 'music',\n",
       " 'distribution',\n",
       " 'and',\n",
       " 'another',\n",
       " 'that',\n",
       " 'allows',\n",
       " 'for',\n",
       " 'a',\n",
       " 'new',\n",
       " 'kind',\n",
       " 'of',\n",
       " 'financial',\n",
       " 'auditing.',\n",
       " 'the',\n",
       " 'consensys',\n",
       " 'offices',\n",
       " 'are',\n",
       " 'in',\n",
       " 'an',\n",
       " 'old',\n",
       " 'industrial',\n",
       " 'building',\n",
       " 'in',\n",
       " 'the',\n",
       " 'bushwick',\n",
       " 'section',\n",
       " 'of',\n",
       " 'brooklyn.',\n",
       " 'the',\n",
       " 'office',\n",
       " 'is',\n",
       " 'essentially',\n",
       " 'one',\n",
       " 'large',\n",
       " 'room,',\n",
       " 'with',\n",
       " 'all',\n",
       " 'the',\n",
       " 'messy',\n",
       " 'trademarks',\n",
       " 'of',\n",
       " 'a',\n",
       " 'start-up',\n",
       " 'operation,',\n",
       " 'including',\n",
       " 'white',\n",
       " 'boards',\n",
       " 'on',\n",
       " 'the',\n",
       " 'walls',\n",
       " 'and',\n",
       " 'computer',\n",
       " 'parts',\n",
       " 'lying',\n",
       " 'around.',\n",
       " 'mr.',\n",
       " 'lubin',\n",
       " 'said',\n",
       " 'he',\n",
       " 'had',\n",
       " 'thrown',\n",
       " 'himself',\n",
       " 'into',\n",
       " 'ethereum',\n",
       " 'after',\n",
       " 'starting',\n",
       " 'to',\n",
       " 'think',\n",
       " 'that',\n",
       " 'it',\n",
       " 'delivered',\n",
       " 'on',\n",
       " 'some',\n",
       " 'of',\n",
       " 'the',\n",
       " 'failed',\n",
       " 'promise',\n",
       " 'of',\n",
       " 'bitcoin,',\n",
       " 'especially',\n",
       " 'when',\n",
       " 'it',\n",
       " 'came',\n",
       " 'to',\n",
       " 'allowing',\n",
       " 'new',\n",
       " 'kinds',\n",
       " 'of',\n",
       " 'online',\n",
       " 'contracts',\n",
       " 'and',\n",
       " 'markets.',\n",
       " '\"bitcoin',\n",
       " 'presented',\n",
       " 'the',\n",
       " 'broad',\n",
       " 'strokes',\n",
       " 'vision,',\n",
       " 'and',\n",
       " 'ethereum',\n",
       " 'presented',\n",
       " 'the',\n",
       " 'crystallization',\n",
       " 'of',\n",
       " 'how',\n",
       " 'to',\n",
       " 'deliver',\n",
       " 'that',\n",
       " 'vision,\"',\n",
       " 'he',\n",
       " 'said.',\n",
       " 'joseph',\n",
       " 'bonneau,',\n",
       " 'a',\n",
       " 'computer',\n",
       " 'science',\n",
       " 'researcher',\n",
       " 'at',\n",
       " 'stanford',\n",
       " 'who',\n",
       " 'studies',\n",
       " ...]"
      ]
     },
     "execution_count": 96,
     "metadata": {},
     "output_type": "execute_result"
    }
   ],
   "source": [
    "word_list[0]"
   ]
  },
  {
   "cell_type": "code",
   "execution_count": 97,
   "metadata": {},
   "outputs": [],
   "source": [
    "from gensim.corpora.dictionary import Dictionary"
   ]
  },
  {
   "cell_type": "code",
   "execution_count": 98,
   "metadata": {},
   "outputs": [],
   "source": [
    "dictionary = Dictionary(word_list)"
   ]
  },
  {
   "cell_type": "code",
   "execution_count": 99,
   "metadata": {},
   "outputs": [
    {
     "data": {
      "text/plain": [
       "113948"
      ]
     },
     "execution_count": 99,
     "metadata": {},
     "output_type": "execute_result"
    }
   ],
   "source": [
    "len(dictionary)"
   ]
  },
  {
   "cell_type": "code",
   "execution_count": 100,
   "metadata": {},
   "outputs": [
    {
     "data": {
      "text/plain": [
       "'winning'"
      ]
     },
     "execution_count": 100,
     "metadata": {},
     "output_type": "execute_result"
    }
   ],
   "source": [
    "dictionary.get(500)"
   ]
  },
  {
   "cell_type": "markdown",
   "metadata": {},
   "source": [
    "#### Generating Bag of words"
   ]
  },
  {
   "cell_type": "code",
   "execution_count": 101,
   "metadata": {},
   "outputs": [],
   "source": [
    "bow = dictionary.doc2bow(word_list[0])"
   ]
  },
  {
   "cell_type": "code",
   "execution_count": 102,
   "metadata": {},
   "outputs": [
    {
     "data": {
      "text/plain": [
       "[(0, 1),\n",
       " (1, 1),\n",
       " (2, 2),\n",
       " (3, 1),\n",
       " (4, 1),\n",
       " (5, 2),\n",
       " (6, 1),\n",
       " (7, 1),\n",
       " (8, 1),\n",
       " (9, 1)]"
      ]
     },
     "execution_count": 102,
     "metadata": {},
     "output_type": "execute_result"
    }
   ],
   "source": [
    "bow[:10]"
   ]
  },
  {
   "cell_type": "code",
   "execution_count": 103,
   "metadata": {},
   "outputs": [],
   "source": [
    "corpus = [dictionary.doc2bow(doc) for doc in word_list]"
   ]
  },
  {
   "cell_type": "markdown",
   "metadata": {},
   "source": [
    "#### Generating TF-IDF Model"
   ]
  },
  {
   "cell_type": "code",
   "execution_count": 104,
   "metadata": {},
   "outputs": [],
   "source": [
    "from gensim.models.tfidfmodel import TfidfModel"
   ]
  },
  {
   "cell_type": "code",
   "execution_count": 105,
   "metadata": {},
   "outputs": [],
   "source": [
    "tfidf = TfidfModel(corpus)"
   ]
  },
  {
   "cell_type": "code",
   "execution_count": 106,
   "metadata": {},
   "outputs": [
    {
     "data": {
      "text/plain": [
       "[(0, 0.013416569222082286),\n",
       " (1, 0.01980536990078569),\n",
       " (2, 0.08229415056771741),\n",
       " (3, 0.04733299135629694),\n",
       " (4, 0.04733299135629694),\n",
       " (5, 0.04043645180743467),\n",
       " (6, 0.04459567988755705),\n",
       " (7, 0.025468541140014987),\n",
       " (8, 0.041147075283858706),\n",
       " (9, 0.03991621502380035),\n",
       " (10, 0.042653526492540256),\n",
       " (11, 0.03646761042010202),\n",
       " (12, 0.03991621502380035),\n",
       " (13, 0.0035343721552064692),\n",
       " (14, 0.04619376436694535),\n",
       " (15, 0.01254290978997721),\n",
       " (16, 0.02727960224606609),\n",
       " (17, 0.030016913714805988),\n",
       " (18, 0.020789076276258298),\n",
       " (19, 0.04459567988755705),\n",
       " (20, 0.04459567988755705),\n",
       " (21, 0.0180517648075184),\n",
       " (22, 0.04459567988755705),\n",
       " (23, 0.004315968996538433),\n",
       " (24, 0.005435112034872729),\n",
       " (25, 0.01610961141250161),\n",
       " (26, 0.03419607263843398),\n",
       " (27, 0.020376526837493067),\n",
       " (28, 0.025082662358807174),\n",
       " (29, 0.03249943869130376),\n",
       " (30, 0.021785772920801395),\n",
       " (31, 0.00873536423328901),\n",
       " (32, 0.016043747077852482),\n",
       " (33, 0.0217490367429973),\n",
       " (34, 0.007706932799632549),\n",
       " (35, 0.04459567988755705),\n",
       " (36, 0.031144702648314773),\n",
       " (37, 0.0076342962664181085),\n",
       " (38, 0.0011440462842779997),\n",
       " (39, 0.007356174123457195),\n",
       " (40, 0.014369816714644169),\n",
       " (41, 0.042653526492540256),\n",
       " (42, 0.01183942584126021),\n",
       " (43, 0.0054733288127106),\n",
       " (44, 0.028851642352702284),\n",
       " (45, 0.025468541140014987),\n",
       " (46, 0.006892211590969538),\n",
       " (47, 0.018946940129135528),\n",
       " (48, 0.009815750694632029),\n",
       " (49, 0.032885317472511576),\n",
       " (50, 0.030557285296286974),\n",
       " (51, 0.041147075283858706),\n",
       " (52, 0.03797406162878356),\n",
       " (53, 0.027635002236213926),\n",
       " (54, 0.014068900927648386),\n",
       " (55, 0.03991621502380035),\n",
       " (56, 0.061973951961877834),\n",
       " (57, 0.008443770848233927),\n",
       " (58, 0.014603160203820065),\n",
       " (59, 0.0056887882916756855),\n",
       " (60, 0.005738429640123048),\n",
       " (61, 0.026606281509070916),\n",
       " (62, 0.019048461452061495),\n",
       " (63, 0.025468541140014987),\n",
       " (64, 0.03991621502380035),\n",
       " (65, 0.03469637857856268),\n",
       " (66, 0.03089628336534122),\n",
       " (67, 0.031144702648314773),\n",
       " (68, 0.1104991572109035),\n",
       " (69, 0.17709964664806374),\n",
       " (70, 0.0892863816676916),\n",
       " (71, 0.04326811551021768),\n",
       " (72, 0.05952425444512774),\n",
       " (73, 0.032885317472511576),\n",
       " (74, 0.07293522084020404),\n",
       " (75, 0.03991621502380035),\n",
       " (76, 0.02415000379368852),\n",
       " (77, 0.04459567988755705),\n",
       " (78, 0.04459567988755705),\n",
       " (79, 0.02099061484707829),\n",
       " (80, 0.038875537502190666),\n",
       " (81, 0.041147075283858706),\n",
       " (82, 0.01980536990078569),\n",
       " (83, 0.0077665847173162255),\n",
       " (84, 0.009268229204005489),\n",
       " (85, 0.04459567988755705),\n",
       " (86, 0.008594277990168589),\n",
       " (87, 0.007134891083720257),\n",
       " (88, 0.041147075283858706),\n",
       " (89, 0.0891913597751141),\n",
       " (90, 0.04459567988755705),\n",
       " (91, 0.03797406162878356),\n",
       " (92, 0.011669452232933997),\n",
       " (93, 0.02889230435912644),\n",
       " (94, 0.00416184313460283),\n",
       " (95, 0.016243299756393714),\n",
       " (96, 0.024958786575876545),\n",
       " (97, 0.04733299135629694),\n",
       " (98, 0.019362519973440802),\n",
       " (99, 0.0180517648075184),\n",
       " (100, 0.035824167512071466),\n",
       " (101, 0.02333069170223906),\n",
       " (102, 0.03523675016004366),\n",
       " (103, 0.041147075283858706),\n",
       " (104, 0.007814841111152033),\n",
       " (105, 0.020529388846775198),\n",
       " (106, 0.040383392126925995),\n",
       " (107, 0.03779349257273789),\n",
       " (108, 0.016879994996943027),\n",
       " (109, 0.017030024299035124),\n",
       " (110, 0.030844606987658358),\n",
       " (111, 0.028010156565995748),\n",
       " (112, 0.038875537502190666),\n",
       " (113, 0.03797406162878356),\n",
       " (114, 0.0256022294839071),\n",
       " (115, 0.026165142123901662),\n",
       " (116, 0.03178814555634533),\n",
       " (117, 0.0132846228574936),\n",
       " (118, 0.038725039946881604),\n",
       " (119, 0.042653526492540256),\n",
       " (120, 0.01668810865567997),\n",
       " (121, 0.03230603045674176),\n",
       " (122, 0.02820585260875489),\n",
       " (123, 0.04733299135629694),\n",
       " (124, 0.04459567988755705),\n",
       " (125, 0.07180700111254047),\n",
       " (126, 0.027108680692588635),\n",
       " (127, 0.00605927380962913),\n",
       " (128, 0.017420366578424013),\n",
       " (129, 0.024958786575876545),\n",
       " (130, 0.042653526492540256),\n",
       " (131, 0.018997509959246088),\n",
       " (132, 0.014900849505244824),\n",
       " (133, 0.021340487992256813),\n",
       " (134, 0.023830997642367756),\n",
       " (135, 0.017834670836376326),\n",
       " (136, 0.022262514994937397),\n",
       " (137, 0.011786888293990671),\n",
       " (138, 0.013528529346167403),\n",
       " (139, 0.041147075283858706),\n",
       " (140, 0.014984368600370524),\n",
       " (141, 0.010125233910883366),\n",
       " (142, 0.010249109693814002),\n",
       " (143, 0.01980536990078569),\n",
       " (144, 0.02576606827630109),\n",
       " (145, 0.018367924820199645),\n",
       " (146, 0.02059338023349916),\n",
       " (147, 0.025082662358807174),\n",
       " (148, 0.03145876116969408),\n",
       " (149, 0.01221910247159271),\n",
       " (150, 0.027635002236213926),\n",
       " (151, 0.062289405296629546),\n",
       " (152, 0.017877534731184745),\n",
       " (153, 0.030844606987658358),\n",
       " (154, 0.012965616706172835),\n",
       " (155, 0.019362519973440802),\n",
       " (156, 0.020723211941609174),\n",
       " (157, 0.23937250846903788),\n",
       " (158, 0.03717890355506045),\n",
       " (159, 0.041147075283858706),\n",
       " (160, 0.6589191315204564),\n",
       " (161, 0.038875537502190666),\n",
       " (162, 0.03646761042010202),\n",
       " (163, 0.019920775117043016),\n",
       " (164, 0.04485843165766389),\n",
       " (165, 0.011364282214095795),\n",
       " (166, 0.02065798398729261),\n",
       " (167, 0.04733299135629694),\n",
       " (168, 0.024041984837197494),\n",
       " (169, 0.026465237784558084),\n",
       " (170, 0.034212616114089406),\n",
       " (171, 0.02448483476454238),\n",
       " (172, 0.022180683196002266),\n",
       " (173, 0.020465998327013762),\n",
       " (174, 0.03469637857856268),\n",
       " (175, 0.011597674766763669),\n",
       " (176, 0.023626404992892217),\n",
       " (177, 0.02976212722256387),\n",
       " (178, 0.038875537502190666),\n",
       " (179, 0.027635002236213926),\n",
       " (180, 0.014498083518350965),\n",
       " (181, 0.021485677260144973),\n",
       " (182, 0.0200976684008992),\n",
       " (183, 0.016661023128500124),\n",
       " (184, 0.030424546948203474),\n",
       " (185, 0.020529388846775198),\n",
       " (186, 0.01038297540431901),\n",
       " (187, 0.023140508963790385),\n",
       " (188, 0.03329459676502687),\n",
       " (189, 0.011769466243669034),\n",
       " (190, 0.0027412743981311037),\n",
       " (191, 0.020279321712119852),\n",
       " (192, 0.08229415056771741),\n",
       " (193, 0.04733299135629694),\n",
       " (194, 0.03213442867710904),\n",
       " (195, 0.03469637857856268),\n",
       " (196, 0.006620151346370557),\n",
       " (197, 0.01046075839868816),\n",
       " (198, 0.02520885371053189),\n",
       " (199, 0.017964087721250292),\n",
       " (200, 0.0253374488510493),\n",
       " (201, 0.013923711659760227),\n",
       " (202, 0.017340471672559966),\n",
       " (203, 0.010016998474273257),\n",
       " (204, 0.011138689457089278),\n",
       " (205, 0.03213442867710904),\n",
       " (206, 0.03797406162878356),\n",
       " (207, 0.017222374653733902),\n",
       " (208, 0.023626404992892217),\n",
       " (209, 0.029899426933715285),\n",
       " (210, 0.025753085988984795),\n",
       " (211, 0.01692335135113343),\n",
       " (212, 0.07883413501321795),\n",
       " (213, 0.018603176523516916),\n",
       " (214, 0.0713386833455053),\n",
       " (215, 0.01581815432084597),\n",
       " (216, 0.012126747532631594),\n",
       " (217, 0.02631352261886553),\n",
       " (218, 0.025468541140014987),\n",
       " (219, 0.009857831005414252),\n",
       " (220, 0.016076598922499165),\n",
       " (221, 0.008918078083915947),\n",
       " (222, 0.04459567988755705),\n",
       " (223, 0.00607422628695523),\n",
       " (224, 0.021485677260144973),\n",
       " (225, 0.008317217005594747),\n",
       " (226, 0.011752089037799349),\n",
       " (227, 0.0056645507314070755),\n",
       " (228, 0.01754099573578875),\n",
       " (229, 0.01457673731000011),\n",
       " (230, 0.020723211941609174),\n",
       " (231, 0.028585425660590448),\n",
       " (232, 0.023830997642367756),\n",
       " (233, 0.021709489162791813),\n",
       " (234, 0.02951660777467729),\n",
       " (235, 0.016843002900261615),\n",
       " (236, 0.03452302246294093),\n",
       " (237, 0.02781997382754707),\n",
       " (238, 0.0177920773780353),\n",
       " (239, 0.050863778674056455),\n",
       " (240, 0.016076598922499165),\n",
       " (241, 0.013306435609112587),\n",
       " (242, 0.013447637776593246),\n",
       " (243, 0.03717890355506045),\n",
       " (244, 0.038875537502190666),\n",
       " (245, 0.022099831442180702),\n",
       " (246, 0.017964087721250292),\n",
       " (247, 0.026165142123901662),\n",
       " (248, 0.005469139264647959),\n",
       " (249, 0.007288389866509722),\n",
       " (250, 0.00794194628460249),\n",
       " (251, 0.010603116465619407),\n",
       " (252, 0.03797406162878356),\n",
       " (253, 0.06357629111269066),\n",
       " (254, 0.042653526492540256),\n",
       " (255, 0.012312738379760888),\n",
       " (256, 0.018096034085838975),\n",
       " (257, 0.02756315847255401),\n",
       " (258, 0.01026301503498749),\n",
       " (259, 0.0177920773780353),\n",
       " (260, 0.03931722463110261),\n",
       " (261, 0.014020156739332929),\n",
       " (262, 0.011927907327390897),\n",
       " (263, 0.03523675016004366),\n",
       " (264, 0.015755060022788925),\n",
       " (265, 0.02415000379368852),\n",
       " (266, 0.009450865429978654),\n",
       " (267, 0.009246939394701772),\n",
       " (268, 0.010905066119334535),\n",
       " (269, 0.020168883999497976),\n",
       " (270, 0.017188555980337177),\n",
       " (271, 0.03991621502380035),\n",
       " (272, 0.041147075283858706),\n",
       " (273, 0.03797406162878356),\n",
       " (274, 0.016122873701821264),\n",
       " (275, 0.05903321554935458),\n",
       " (276, 0.01182186785801358),\n",
       " (277, 0.011711851886672002),\n",
       " (278, 0.027858229778991366),\n",
       " (279, 0.021198355568773593),\n",
       " (280, 0.026465237784558084),\n",
       " (281, 0.03991621502380035),\n",
       " (282, 0.04733299135629694),\n",
       " (283, 0.006498960086226337),\n",
       " (284, 0.03329459676502687),\n",
       " (285, 0.023830997642367756),\n",
       " (286, 0.014736848547712173),\n",
       " (287, 0.021785772920801395),\n",
       " (288, 0.030016913714805988),\n",
       " (289, 0.007971621236791132),\n",
       " (290, 0.011981558264743434),\n",
       " (291, 0.02980169901048965),\n",
       " (292, 0.015068933890891928),\n",
       " (293, 0.010903392694544392),\n",
       " (294, 0.012040110648744991),\n",
       " (295, 0.21197186043364652),\n",
       " (296, 0.005625438872857146),\n",
       " (297, 0.02105915392057102),\n",
       " (298, 0.03523675016004366),\n",
       " (299, 0.03717890355506045),\n",
       " (300, 0.04459567988755705),\n",
       " (301, 0.0165188907050169),\n",
       " (302, 0.013781579236277005),\n",
       " (303, 0.06232655383022068),\n",
       " (304, 0.03575506946236949),\n",
       " (305, 0.005111262443438587),\n",
       " (306, 0.02727960224606609),\n",
       " (307, 0.02437136922384874),\n",
       " (308, 0.03469637857856268),\n",
       " (309, 0.021128395971182413),\n",
       " (310, 0.02727960224606609),\n",
       " (311, 0.04459567988755705),\n",
       " (312, 0.04459567988755705),\n",
       " (313, 0.04733299135629694),\n",
       " (314, 0.019048461452061495),\n",
       " (315, 0.0053764242182117025),\n",
       " (316, 0.017340471672559966),\n",
       " (317, 0.028829468657445217),\n",
       " (318, 0.014736848547712173),\n",
       " (319, 0.005471321522659815),\n",
       " (320, 0.009377216982270058),\n",
       " (321, 0.01063453669303736),\n",
       " (322, 0.012407691291782779),\n",
       " (323, 0.04459567988755705),\n",
       " (324, 0.031144702648314773),\n",
       " (325, 0.003362864635510272),\n",
       " (326, 0.0033269428211984494),\n",
       " (327, 0.007079023779128645),\n",
       " (328, 0.030281694347663788),\n",
       " (329, 0.014839312060339335),\n",
       " (330, 0.0071775647443306405),\n",
       " (331, 0.020723211941609174),\n",
       " (332, 0.04733299135629694),\n",
       " (333, 0.028010156565995748),\n",
       " (334, 0.01581815432084597),\n",
       " (335, 0.03419607263843398),\n",
       " (336, 0.015299761187706743),\n",
       " (337, 0.005724201940962512),\n",
       " (338, 0.018461044100033693),\n",
       " (339, 0.010221384641488133),\n",
       " (340, 0.021269047740914124),\n",
       " (341, 0.042653526492540256),\n",
       " (342, 0.010905066119334535),\n",
       " (343, 0.013049221994517173),\n",
       " (344, 0.01958031436900151),\n",
       " (345, 0.012484627061777057),\n",
       " (346, 0.04459567988755705),\n",
       " (347, 0.040681950961662404),\n",
       " (348, 0.021412692324948628),\n",
       " (349, 0.035928175442500584),\n",
       " (350, 0.012369549717147633),\n",
       " (351, 0.03991930682733776),\n",
       " (352, 0.009870952565916195),\n",
       " (353, 0.031261226702919497),\n",
       " (354, 0.014736848547712173),\n",
       " (355, 0.021485677260144973),\n",
       " (356, 0.027752001851658346),\n",
       " (357, 0.021198355568773593),\n",
       " (358, 0.010605636077683136),\n",
       " (359, 0.021128395971182413),\n",
       " (360, 0.02961285769774858),\n",
       " (361, 0.008507863488671873),\n",
       " (362, 0.03978864106921214),\n",
       " (363, 0.03255427926104072),\n",
       " (364, 0.03523675016004366),\n",
       " (365, 0.02905083408760543),\n",
       " (366, 0.022864918015167195),\n",
       " (367, 0.0256022294839071),\n",
       " (368, 0.014368996588304806),\n",
       " (369, 0.020157678047163907),\n",
       " (370, 0.029279704844556394),\n",
       " (371, 0.00918466087738704),\n",
       " (372, 0.04733299135629694),\n",
       " (373, 0.041147075283858706),\n",
       " (374, 0.05369369336692909),\n",
       " (375, 0.0533762321341059),\n",
       " (376, 0.006271683623946366),\n",
       " (377, 0.03797406162878356),\n",
       " (378, 0.02199509515172977),\n",
       " (379, 0.0180517648075184),\n",
       " (380, 0.042653526492540256),\n",
       " (381, 0.016661023128500124),\n",
       " (382, 0.0248371429109206),\n",
       " (383, 0.032885317472511576),\n",
       " (384, 0.01980536990078569),\n",
       " (385, 0.014498083518350965),\n",
       " (386, 0.012350559435278432),\n",
       " (387, 0.007576936270407774),\n",
       " (388, 0.021940976095227157),\n",
       " (389, 0.011091313538083925),\n",
       " (390, 0.015154571919818583),\n",
       " (391, 0.017501218332245574),\n",
       " (392, 0.017707688269795394),\n",
       " (393, 0.010753691150711921),\n",
       " (394, 0.032609853994096154),\n",
       " (395, 0.010043895086555264),\n",
       " (396, 0.013828625006823822),\n",
       " (397, 0.07601234655314788),\n",
       " (398, 0.042653526492540256),\n",
       " (399, 0.018512454701234058),\n",
       " (400, 0.03717890355506045),\n",
       " (401, 0.01980536990078569),\n",
       " (402, 0.020922764620150403),\n",
       " (403, 0.028235999244530886),\n",
       " (404, 0.015358722617099078),\n",
       " (405, 0.025101625064317745),\n",
       " (406, 0.015299761187706743),\n",
       " (407, 0.021198355568773593),\n",
       " (408, 0.021198355568773593),\n",
       " (409, 0.011463321262936746),\n",
       " (410, 0.011315302259807342),\n",
       " (411, 0.027108680692588635),\n",
       " (412, 0.026465237784558084),\n",
       " (413, 0.030557285296286974),\n",
       " (414, 0.013049221994517173),\n",
       " (415, 0.019858768188067616),\n",
       " (416, 0.014736848547712173),\n",
       " (417, 0.01641422130987117),\n",
       " (418, 0.041147075283858706),\n",
       " (419, 0.0226001373823094),\n",
       " (420, 0.03178814555634533),\n",
       " (421, 0.04459567988755705),\n",
       " (422, 0.01915085382204198),\n",
       " (423, 0.016879994996943027),\n",
       " (424, 0.010723819240235431),\n",
       " (425, 0.05316217978814262),\n",
       " (426, 0.05214090281121519),\n",
       " (427, 0.033179165754314864),\n",
       " (428, 0.026465237784558084),\n",
       " (429, 0.04733299135629694),\n",
       " (430, 0.018227690230537018),\n",
       " (431, 0.014242331695335345),\n",
       " (432, 0.02393566703751349),\n",
       " (433, 0.01524927331876585),\n",
       " (434, 0.011097675432741714),\n",
       " (435, 0.003949467263391915),\n",
       " (436, 0.006021239979268504),\n",
       " (437, 0.0049464373534464446),\n",
       " (438, 0.012239650413135914),\n",
       " (439, 0.003823034269644491),\n",
       " (440, 0.023140508963790385),\n",
       " (441, 0.01980536990078569),\n",
       " (442, 0.008390821237561878),\n",
       " (443, 0.02861513190127018),\n",
       " (444, 0.002039821053778139),\n",
       " (445, 0.019748398754648618),\n",
       " (446, 0.009651282099549206),\n",
       " (447, 0.011519655137011966),\n",
       " (448, 0.030557285296286974),\n",
       " (449, 0.018797464486022136),\n",
       " (450, 0.021340487992256813),\n",
       " (451, 0.00175131068189821),\n",
       " (452, 0.012446049581072916),\n",
       " (453, 0.025082662358807174),\n",
       " (454, 0.00989727244624342),\n",
       " (455, 0.03797406162878356),\n",
       " (456, 0.02662044095898385),\n",
       " (457, 0.021412692324948628),\n",
       " (458, 0.023140508963790385),\n",
       " (459, 0.03213442867710904),\n",
       " (460, 0.026465237784558084),\n",
       " (461, 0.01792067251855271),\n",
       " (462, 0.03646761042010202),\n",
       " (463, 0.012558789387211805),\n",
       " (464, 0.02105915392057102),\n",
       " (465, 0.0393838087201841),\n",
       " (466, 0.017749750965075257),\n",
       " (467, 0.018946940129135528),\n",
       " (468, 0.007171892875519355),\n",
       " (469, 0.03711093157917173),\n",
       " (470, 0.018699621603089616),\n",
       " (471, 0.0035395118895643223),\n",
       " (472, 0.01930915178442885),\n",
       " (473, 0.00605927380962913),\n",
       " (474, 0.007912401201329047),\n",
       " (475, 0.015569239831020626),\n",
       " (476, 0.00929819151665057),\n",
       " (477, 0.04459567988755705),\n",
       " (478, 0.052664043051725236),\n",
       " (479, 0.02218262707616785),\n",
       " (480, 0.006660282953550037),\n",
       " (481, 0.03151012004557785),\n",
       " (482, 0.02677929630593739),\n",
       " (483, 0.042653526492540256),\n",
       " (484, 0.038875537502190666),\n",
       " (485, 0.03329459676502687),\n",
       " (486, 0.025101625064317745),\n",
       " (487, 0.042653526492540256),\n",
       " (488, 0.009704207247236455),\n",
       " (489, 0.0027084575783867778),\n",
       " (490, 0.021340487992256813),\n",
       " (491, 0.023140508963790385),\n",
       " (492, 0.012855207471487383),\n",
       " (493, 0.0029538086522475078),\n",
       " (494, 0.00492115252706215),\n",
       " (495, 0.013135593770293373),\n",
       " (496, 0.020403197495050488),\n",
       " (497, 0.017343880604794408),\n",
       " (498, 0.02976212722256387),\n",
       " (499, 0.010294091060698467),\n",
       " (500, 0.026465237784558084),\n",
       " (501, 0.0034680956527700546),\n",
       " (502, 0.0071248905570620484),\n",
       " (503, 0.02662044095898385),\n",
       " (504, 0.011125405770453314),\n",
       " (505, 0.01697286319053249),\n",
       " (506, 0.009232287464704277),\n",
       " (507, 0.014550417429672887),\n",
       " (508, 0.005250852390278464),\n",
       " (509, 0.012924199148334618),\n",
       " (510, 0.013923711659760227),\n",
       " (511, 0.011397134058742476),\n",
       " (512, 0.015183361049812815),\n",
       " (513, 0.03991621502380035),\n",
       " (514, 0.0019726597313951067)]"
      ]
     },
     "execution_count": 106,
     "metadata": {},
     "output_type": "execute_result"
    }
   ],
   "source": [
    "tfidf[corpus[0]]"
   ]
  },
  {
   "cell_type": "markdown",
   "metadata": {},
   "source": [
    "#### Generating Similarity Matrix"
   ]
  },
  {
   "cell_type": "code",
   "execution_count": 107,
   "metadata": {},
   "outputs": [],
   "source": [
    "from gensim.similarities import MatrixSimilarity"
   ]
  },
  {
   "cell_type": "code",
   "execution_count": 108,
   "metadata": {},
   "outputs": [],
   "source": [
    "sim = MatrixSimilarity(tfidf[corpus], num_features=len(dictionary))"
   ]
  },
  {
   "cell_type": "code",
   "execution_count": 109,
   "metadata": {},
   "outputs": [],
   "source": [
    "item_id_encoded = 481\n",
    "# No of recommendation\n",
    "n = 5"
   ]
  },
  {
   "cell_type": "code",
   "execution_count": 110,
   "metadata": {},
   "outputs": [],
   "source": [
    "item_r = item_c.loc[item_c['item_id_encoded'] == item_id_encoded]"
   ]
  },
  {
   "cell_type": "code",
   "execution_count": 111,
   "metadata": {},
   "outputs": [
    {
     "data": {
      "text/html": [
       "<div>\n",
       "<style scoped>\n",
       "    .dataframe tbody tr th:only-of-type {\n",
       "        vertical-align: middle;\n",
       "    }\n",
       "\n",
       "    .dataframe tbody tr th {\n",
       "        vertical-align: top;\n",
       "    }\n",
       "\n",
       "    .dataframe thead th {\n",
       "        text-align: right;\n",
       "    }\n",
       "</style>\n",
       "<table border=\"1\" class=\"dataframe\">\n",
       "  <thead>\n",
       "    <tr style=\"text-align: right;\">\n",
       "      <th></th>\n",
       "      <th>title</th>\n",
       "      <th>text_description</th>\n",
       "      <th>item_id_encoded</th>\n",
       "    </tr>\n",
       "  </thead>\n",
       "  <tbody>\n",
       "    <tr>\n",
       "      <th>1218</th>\n",
       "      <td>Introducing Google Container Engine (GKE) node...</td>\n",
       "      <td>Editor's note: Updated May 27, 2016 with guida...</td>\n",
       "      <td>481</td>\n",
       "    </tr>\n",
       "  </tbody>\n",
       "</table>\n",
       "</div>"
      ],
      "text/plain": [
       "                                                  title  \\\n",
       "1218  Introducing Google Container Engine (GKE) node...   \n",
       "\n",
       "                                       text_description  item_id_encoded  \n",
       "1218  Editor's note: Updated May 27, 2016 with guida...              481  "
      ]
     },
     "execution_count": 111,
     "metadata": {},
     "output_type": "execute_result"
    }
   ],
   "source": [
    "item_r"
   ]
  },
  {
   "cell_type": "code",
   "execution_count": 157,
   "metadata": {},
   "outputs": [],
   "source": [
    "def get_content_based_score(item, records=5):\n",
    "    item_r = item_c.loc[item_c['item_id_encoded'] == item]\n",
    "    \n",
    "    words = item_r['text_description'].iloc[0].lower().split(' ')\n",
    "    query_doc = words\n",
    "    \n",
    "    query_doc_bow = dictionary.doc2bow(query_doc)\n",
    "    query_doc_tfidf = tfidf[query_doc_bow]\n",
    "    \n",
    "    similarity_array = sim[query_doc_tfidf]\n",
    "    \n",
    "    similarity_series = pd.Series(similarity_array, index=item_c['item_id_encoded'].values)\n",
    "    recommended_items = similarity_series.sort_values(ascending=False)[1:records+1]\n",
    "    recommended_items = recommended_items.reset_index()\n",
    "    recommended_items.columns = ['item_id', 'item_content_score']\n",
    "#     recommended_items = pd.merge(recommended_items, item_c, on='item_id_encoded', how='left')\n",
    "    return recommended_items"
   ]
  },
  {
   "cell_type": "code",
   "execution_count": 158,
   "metadata": {},
   "outputs": [
    {
     "data": {
      "text/html": [
       "<div>\n",
       "<style scoped>\n",
       "    .dataframe tbody tr th:only-of-type {\n",
       "        vertical-align: middle;\n",
       "    }\n",
       "\n",
       "    .dataframe tbody tr th {\n",
       "        vertical-align: top;\n",
       "    }\n",
       "\n",
       "    .dataframe thead th {\n",
       "        text-align: right;\n",
       "    }\n",
       "</style>\n",
       "<table border=\"1\" class=\"dataframe\">\n",
       "  <thead>\n",
       "    <tr style=\"text-align: right;\">\n",
       "      <th></th>\n",
       "      <th>item_id</th>\n",
       "      <th>item_content_score</th>\n",
       "    </tr>\n",
       "  </thead>\n",
       "  <tbody>\n",
       "    <tr>\n",
       "      <th>0</th>\n",
       "      <td>754</td>\n",
       "      <td>1.000000</td>\n",
       "    </tr>\n",
       "    <tr>\n",
       "      <th>1</th>\n",
       "      <td>1944</td>\n",
       "      <td>1.000000</td>\n",
       "    </tr>\n",
       "    <tr>\n",
       "      <th>2</th>\n",
       "      <td>1845</td>\n",
       "      <td>0.919152</td>\n",
       "    </tr>\n",
       "    <tr>\n",
       "      <th>3</th>\n",
       "      <td>665</td>\n",
       "      <td>0.096688</td>\n",
       "    </tr>\n",
       "    <tr>\n",
       "      <th>4</th>\n",
       "      <td>638</td>\n",
       "      <td>0.084441</td>\n",
       "    </tr>\n",
       "  </tbody>\n",
       "</table>\n",
       "</div>"
      ],
      "text/plain": [
       "   item_id  item_content_score\n",
       "0      754            1.000000\n",
       "1     1944            1.000000\n",
       "2     1845            0.919152\n",
       "3      665            0.096688\n",
       "4      638            0.084441"
      ]
     },
     "execution_count": 158,
     "metadata": {},
     "output_type": "execute_result"
    }
   ],
   "source": [
    "get_content_based_score(754, 5)"
   ]
  },
  {
   "cell_type": "markdown",
   "metadata": {},
   "source": [
    "### ALS\n",
    "- Create Compressed Sparse user-item and item-user matrices. \n",
    "- Train the ALS model and generate recommendations for a user. Try experimenting with the hyperparameters."
   ]
  },
  {
   "cell_type": "code",
   "execution_count": 114,
   "metadata": {},
   "outputs": [],
   "source": [
    "from scipy.sparse import csr_matrix"
   ]
  },
  {
   "cell_type": "code",
   "execution_count": 115,
   "metadata": {},
   "outputs": [],
   "source": [
    "alpha = 40"
   ]
  },
  {
   "cell_type": "code",
   "execution_count": 116,
   "metadata": {},
   "outputs": [],
   "source": [
    "consumer_interactions_als = consumer_interactions[['consumer_id_encoded', 'item_id_encoded', 'rating']]\n",
    "sparse_user_item = csr_matrix( ([alpha] * consumer_interactions_als.shape[0], (consumer_interactions_als['consumer_id_encoded'],\n",
    "                                                consumer_interactions_als['item_id_encoded']) ))"
   ]
  },
  {
   "cell_type": "code",
   "execution_count": 117,
   "metadata": {},
   "outputs": [
    {
     "name": "stdout",
     "output_type": "stream",
     "text": [
      "  (0, 113)\t40\n",
      "  (0, 134)\t40\n",
      "  (0, 141)\t40\n",
      "  (0, 235)\t40\n",
      "  (0, 277)\t40\n",
      "  (0, 298)\t40\n",
      "  (0, 322)\t80\n",
      "  (0, 324)\t80\n",
      "  (0, 335)\t40\n",
      "  (0, 416)\t40\n",
      "  (0, 517)\t80\n",
      "  (0, 573)\t40\n",
      "  (0, 610)\t80\n",
      "  (0, 650)\t40\n",
      "  (0, 671)\t40\n",
      "  (0, 1182)\t40\n",
      "  (0, 1190)\t40\n",
      "  (0, 1245)\t40\n",
      "  (0, 1252)\t80\n",
      "  (0, 1605)\t80\n",
      "  (0, 1620)\t40\n",
      "  (0, 1710)\t40\n",
      "  (0, 1726)\t40\n",
      "  (0, 1960)\t40\n",
      "  (0, 2004)\t40\n",
      "  (0, 2099)\t120\n",
      "  (0, 2100)\t40\n",
      "  (0, 2183)\t80\n"
     ]
    }
   ],
   "source": [
    "print(sparse_user_item[:1])"
   ]
  },
  {
   "cell_type": "code",
   "execution_count": 118,
   "metadata": {},
   "outputs": [],
   "source": [
    "# Creating user-item sparse matrix\n",
    "csr_user_array = sparse_user_item.toarray()"
   ]
  },
  {
   "cell_type": "code",
   "execution_count": 119,
   "metadata": {},
   "outputs": [
    {
     "data": {
      "text/plain": [
       "(1644, 2218, 0)"
      ]
     },
     "execution_count": 119,
     "metadata": {},
     "output_type": "execute_result"
    }
   ],
   "source": [
    "len(csr_user_array), len(csr_user_array[0]), csr_user_array[2][1]"
   ]
  },
  {
   "cell_type": "code",
   "execution_count": 120,
   "metadata": {},
   "outputs": [],
   "source": [
    "# Creating item-user sparse matrix\n",
    "sparse_item_user = sparse_user_item.T.tocsr()"
   ]
  },
  {
   "cell_type": "code",
   "execution_count": 121,
   "metadata": {},
   "outputs": [],
   "source": [
    "csr_item_array = sparse_item_user.toarray()"
   ]
  },
  {
   "cell_type": "code",
   "execution_count": 122,
   "metadata": {},
   "outputs": [],
   "source": [
    "train, test = train_test_split(sparse_item_user, test_size=0.2)"
   ]
  },
  {
   "cell_type": "code",
   "execution_count": 123,
   "metadata": {},
   "outputs": [
    {
     "data": {
      "text/plain": [
       "<1774x1644 sparse matrix of type '<class 'numpy.longlong'>'\n",
       "\twith 20729 stored elements in Compressed Sparse Row format>"
      ]
     },
     "execution_count": 123,
     "metadata": {},
     "output_type": "execute_result"
    }
   ],
   "source": [
    "train"
   ]
  },
  {
   "cell_type": "markdown",
   "metadata": {},
   "source": [
    "#### Building ALS Model"
   ]
  },
  {
   "cell_type": "code",
   "execution_count": 124,
   "metadata": {},
   "outputs": [
    {
     "name": "stderr",
     "output_type": "stream",
     "text": [
      "WARNING:root:OpenBLAS detected. Its highly recommend to set the environment variable 'export OPENBLAS_NUM_THREADS=1' to disable its internal multithreading\n"
     ]
    }
   ],
   "source": [
    "model = implicit.als.AlternatingLeastSquares(factors=100, regularization=0.1, iterations=20, calculate_training_loss=False)"
   ]
  },
  {
   "cell_type": "code",
   "execution_count": 125,
   "metadata": {},
   "outputs": [
    {
     "data": {
      "text/plain": [
       "<implicit.als.AlternatingLeastSquares at 0x7f0b6105b5c0>"
      ]
     },
     "execution_count": 125,
     "metadata": {},
     "output_type": "execute_result"
    }
   ],
   "source": [
    "model"
   ]
  },
  {
   "cell_type": "code",
   "execution_count": 126,
   "metadata": {},
   "outputs": [
    {
     "data": {
      "application/vnd.jupyter.widget-view+json": {
       "model_id": "a62cc152861d44a985a9c4ce8b8da703",
       "version_major": 2,
       "version_minor": 0
      },
      "text/html": [
       "<p>Failed to display Jupyter Widget of type <code>HBox</code>.</p>\n",
       "<p>\n",
       "  If you're reading this message in the Jupyter Notebook or JupyterLab Notebook, it may mean\n",
       "  that the widgets JavaScript is still loading. If this message persists, it\n",
       "  likely means that the widgets JavaScript library is either not installed or\n",
       "  not enabled. See the <a href=\"https://ipywidgets.readthedocs.io/en/stable/user_install.html\">Jupyter\n",
       "  Widgets Documentation</a> for setup instructions.\n",
       "</p>\n",
       "<p>\n",
       "  If you're reading this message in another frontend (for example, a static\n",
       "  rendering on GitHub or <a href=\"https://nbviewer.jupyter.org/\">NBViewer</a>),\n",
       "  it may mean that your frontend doesn't currently support widgets.\n",
       "</p>\n"
      ],
      "text/plain": [
       "HBox(children=(FloatProgress(value=0.0, max=20.0), HTML(value='')))"
      ]
     },
     "metadata": {},
     "output_type": "display_data"
    },
    {
     "name": "stdout",
     "output_type": "stream",
     "text": [
      "\n"
     ]
    }
   ],
   "source": [
    "model.fit(train)"
   ]
  },
  {
   "cell_type": "markdown",
   "metadata": {},
   "source": [
    "#### Generating recommendation for user id"
   ]
  },
  {
   "cell_type": "code",
   "execution_count": 127,
   "metadata": {},
   "outputs": [],
   "source": [
    "user_id = 33"
   ]
  },
  {
   "cell_type": "code",
   "execution_count": 128,
   "metadata": {},
   "outputs": [
    {
     "data": {
      "text/plain": [
       "[(606, 1.0233341),\n",
       " (1206, 0.99704814),\n",
       " (15, 0.99095124),\n",
       " (1376, 0.98479986),\n",
       " (18, 0.9837043)]"
      ]
     },
     "execution_count": 128,
     "metadata": {},
     "output_type": "execute_result"
    }
   ],
   "source": [
    "output = model.recommend(user_id, sparse_user_item, N=5)\n",
    "output"
   ]
  },
  {
   "cell_type": "code",
   "execution_count": 129,
   "metadata": {},
   "outputs": [
    {
     "data": {
      "text/html": [
       "<div>\n",
       "<style scoped>\n",
       "    .dataframe tbody tr th:only-of-type {\n",
       "        vertical-align: middle;\n",
       "    }\n",
       "\n",
       "    .dataframe tbody tr th {\n",
       "        vertical-align: top;\n",
       "    }\n",
       "\n",
       "    .dataframe thead th {\n",
       "        text-align: right;\n",
       "    }\n",
       "</style>\n",
       "<table border=\"1\" class=\"dataframe\">\n",
       "  <thead>\n",
       "    <tr style=\"text-align: right;\">\n",
       "      <th></th>\n",
       "      <th>item_id</th>\n",
       "      <th>als_score</th>\n",
       "    </tr>\n",
       "  </thead>\n",
       "  <tbody>\n",
       "    <tr>\n",
       "      <th>0</th>\n",
       "      <td>606</td>\n",
       "      <td>1.023334</td>\n",
       "    </tr>\n",
       "    <tr>\n",
       "      <th>1</th>\n",
       "      <td>1206</td>\n",
       "      <td>0.997048</td>\n",
       "    </tr>\n",
       "    <tr>\n",
       "      <th>2</th>\n",
       "      <td>15</td>\n",
       "      <td>0.990951</td>\n",
       "    </tr>\n",
       "    <tr>\n",
       "      <th>3</th>\n",
       "      <td>1376</td>\n",
       "      <td>0.984800</td>\n",
       "    </tr>\n",
       "    <tr>\n",
       "      <th>4</th>\n",
       "      <td>18</td>\n",
       "      <td>0.983704</td>\n",
       "    </tr>\n",
       "  </tbody>\n",
       "</table>\n",
       "</div>"
      ],
      "text/plain": [
       "   item_id  als_score\n",
       "0      606   1.023334\n",
       "1     1206   0.997048\n",
       "2       15   0.990951\n",
       "3     1376   0.984800\n",
       "4       18   0.983704"
      ]
     },
     "execution_count": 129,
     "metadata": {},
     "output_type": "execute_result"
    }
   ],
   "source": [
    "output_df = pd.DataFrame(output,  columns=['item_id', 'als_score'])\n",
    "output_df.head()"
   ]
  },
  {
   "cell_type": "code",
   "execution_count": 130,
   "metadata": {},
   "outputs": [],
   "source": [
    "def als_user_based_score(customer, records=5):\n",
    "    output = model.recommend(user_id, sparse_user_item, N=records)\n",
    "    output_df = pd.DataFrame(output,  columns=['item_id', 'user_als_score'])\n",
    "    return output_df"
   ]
  },
  {
   "cell_type": "code",
   "execution_count": 131,
   "metadata": {},
   "outputs": [
    {
     "data": {
      "text/html": [
       "<div>\n",
       "<style scoped>\n",
       "    .dataframe tbody tr th:only-of-type {\n",
       "        vertical-align: middle;\n",
       "    }\n",
       "\n",
       "    .dataframe tbody tr th {\n",
       "        vertical-align: top;\n",
       "    }\n",
       "\n",
       "    .dataframe thead th {\n",
       "        text-align: right;\n",
       "    }\n",
       "</style>\n",
       "<table border=\"1\" class=\"dataframe\">\n",
       "  <thead>\n",
       "    <tr style=\"text-align: right;\">\n",
       "      <th></th>\n",
       "      <th>item_id</th>\n",
       "      <th>user_als_score</th>\n",
       "    </tr>\n",
       "  </thead>\n",
       "  <tbody>\n",
       "    <tr>\n",
       "      <th>0</th>\n",
       "      <td>606</td>\n",
       "      <td>1.023334</td>\n",
       "    </tr>\n",
       "    <tr>\n",
       "      <th>1</th>\n",
       "      <td>1206</td>\n",
       "      <td>0.997048</td>\n",
       "    </tr>\n",
       "    <tr>\n",
       "      <th>2</th>\n",
       "      <td>15</td>\n",
       "      <td>0.990951</td>\n",
       "    </tr>\n",
       "    <tr>\n",
       "      <th>3</th>\n",
       "      <td>1376</td>\n",
       "      <td>0.984800</td>\n",
       "    </tr>\n",
       "    <tr>\n",
       "      <th>4</th>\n",
       "      <td>18</td>\n",
       "      <td>0.983704</td>\n",
       "    </tr>\n",
       "  </tbody>\n",
       "</table>\n",
       "</div>"
      ],
      "text/plain": [
       "   item_id  user_als_score\n",
       "0      606        1.023334\n",
       "1     1206        0.997048\n",
       "2       15        0.990951\n",
       "3     1376        0.984800\n",
       "4       18        0.983704"
      ]
     },
     "execution_count": 131,
     "metadata": {},
     "output_type": "execute_result"
    }
   ],
   "source": [
    "als_user_based_score(customer=33,records=5)"
   ]
  },
  {
   "cell_type": "code",
   "execution_count": 132,
   "metadata": {},
   "outputs": [
    {
     "data": {
      "text/html": [
       "<div>\n",
       "<style scoped>\n",
       "    .dataframe tbody tr th:only-of-type {\n",
       "        vertical-align: middle;\n",
       "    }\n",
       "\n",
       "    .dataframe tbody tr th {\n",
       "        vertical-align: top;\n",
       "    }\n",
       "\n",
       "    .dataframe thead th {\n",
       "        text-align: right;\n",
       "    }\n",
       "</style>\n",
       "<table border=\"1\" class=\"dataframe\">\n",
       "  <thead>\n",
       "    <tr style=\"text-align: right;\">\n",
       "      <th></th>\n",
       "      <th>item_id</th>\n",
       "      <th>als_score</th>\n",
       "      <th>title</th>\n",
       "      <th>text_description</th>\n",
       "      <th>item_id_encoded</th>\n",
       "    </tr>\n",
       "  </thead>\n",
       "  <tbody>\n",
       "    <tr>\n",
       "      <th>0</th>\n",
       "      <td>606</td>\n",
       "      <td>1.023334</td>\n",
       "      <td>Could Iceland Embrace Crypto Before Anyone Else?</td>\n",
       "      <td>It has been a rough decade for Iceland . Betwe...</td>\n",
       "      <td>606</td>\n",
       "    </tr>\n",
       "    <tr>\n",
       "      <th>1</th>\n",
       "      <td>1206</td>\n",
       "      <td>0.997048</td>\n",
       "      <td>DARPA Wants to Give Radio Waves AI to Stretch ...</td>\n",
       "      <td>Image by elBidule The radio spectrum is a mess...</td>\n",
       "      <td>1206</td>\n",
       "    </tr>\n",
       "    <tr>\n",
       "      <th>2</th>\n",
       "      <td>15</td>\n",
       "      <td>0.990951</td>\n",
       "      <td>OpenBazaar is Open for Business</td>\n",
       "      <td>OpenBazaar is now released on the mainnet and ...</td>\n",
       "      <td>15</td>\n",
       "    </tr>\n",
       "    <tr>\n",
       "      <th>3</th>\n",
       "      <td>1376</td>\n",
       "      <td>0.984800</td>\n",
       "      <td>What Business Leaders Should Know About Swift</td>\n",
       "      <td>If you're interested in mobile, it's likely th...</td>\n",
       "      <td>1376</td>\n",
       "    </tr>\n",
       "    <tr>\n",
       "      <th>4</th>\n",
       "      <td>18</td>\n",
       "      <td>0.983704</td>\n",
       "      <td>Drupal How-To: Responsive or Adaptive Images? ...</td>\n",
       "      <td>In this 3-part Drupal How-To series, I'm going...</td>\n",
       "      <td>18</td>\n",
       "    </tr>\n",
       "  </tbody>\n",
       "</table>\n",
       "</div>"
      ],
      "text/plain": [
       "   item_id  als_score                                              title  \\\n",
       "0      606   1.023334   Could Iceland Embrace Crypto Before Anyone Else?   \n",
       "1     1206   0.997048  DARPA Wants to Give Radio Waves AI to Stretch ...   \n",
       "2       15   0.990951                    OpenBazaar is Open for Business   \n",
       "3     1376   0.984800      What Business Leaders Should Know About Swift   \n",
       "4       18   0.983704  Drupal How-To: Responsive or Adaptive Images? ...   \n",
       "\n",
       "                                    text_description  item_id_encoded  \n",
       "0  It has been a rough decade for Iceland . Betwe...              606  \n",
       "1  Image by elBidule The radio spectrum is a mess...             1206  \n",
       "2  OpenBazaar is now released on the mainnet and ...               15  \n",
       "3  If you're interested in mobile, it's likely th...             1376  \n",
       "4  In this 3-part Drupal How-To series, I'm going...               18  "
      ]
     },
     "execution_count": 132,
     "metadata": {},
     "output_type": "execute_result"
    }
   ],
   "source": [
    "merged = pd.merge(output_df, item_c, how='left', left_on='item_id', right_on='item_id_encoded')\n",
    "merged.head()"
   ]
  },
  {
   "cell_type": "markdown",
   "metadata": {},
   "source": [
    "#### Generating recommendation for item id"
   ]
  },
  {
   "cell_type": "code",
   "execution_count": 133,
   "metadata": {},
   "outputs": [],
   "source": [
    "item_id = 1296"
   ]
  },
  {
   "cell_type": "code",
   "execution_count": 134,
   "metadata": {},
   "outputs": [
    {
     "data": {
      "text/plain": [
       "[(1296, 1.0),\n",
       " (685, 0.6744623),\n",
       " (1469, 0.669645),\n",
       " (317, 0.62417555),\n",
       " (813, 0.59576404)]"
      ]
     },
     "execution_count": 134,
     "metadata": {},
     "output_type": "execute_result"
    }
   ],
   "source": [
    "output_item = model.similar_items(item_id, N=5)\n",
    "output_item"
   ]
  },
  {
   "cell_type": "code",
   "execution_count": 135,
   "metadata": {},
   "outputs": [
    {
     "data": {
      "text/html": [
       "<div>\n",
       "<style scoped>\n",
       "    .dataframe tbody tr th:only-of-type {\n",
       "        vertical-align: middle;\n",
       "    }\n",
       "\n",
       "    .dataframe tbody tr th {\n",
       "        vertical-align: top;\n",
       "    }\n",
       "\n",
       "    .dataframe thead th {\n",
       "        text-align: right;\n",
       "    }\n",
       "</style>\n",
       "<table border=\"1\" class=\"dataframe\">\n",
       "  <thead>\n",
       "    <tr style=\"text-align: right;\">\n",
       "      <th></th>\n",
       "      <th>item_id</th>\n",
       "      <th>als_score</th>\n",
       "    </tr>\n",
       "  </thead>\n",
       "  <tbody>\n",
       "    <tr>\n",
       "      <th>0</th>\n",
       "      <td>606</td>\n",
       "      <td>1.023334</td>\n",
       "    </tr>\n",
       "    <tr>\n",
       "      <th>1</th>\n",
       "      <td>1206</td>\n",
       "      <td>0.997048</td>\n",
       "    </tr>\n",
       "    <tr>\n",
       "      <th>2</th>\n",
       "      <td>15</td>\n",
       "      <td>0.990951</td>\n",
       "    </tr>\n",
       "    <tr>\n",
       "      <th>3</th>\n",
       "      <td>1376</td>\n",
       "      <td>0.984800</td>\n",
       "    </tr>\n",
       "    <tr>\n",
       "      <th>4</th>\n",
       "      <td>18</td>\n",
       "      <td>0.983704</td>\n",
       "    </tr>\n",
       "  </tbody>\n",
       "</table>\n",
       "</div>"
      ],
      "text/plain": [
       "   item_id  als_score\n",
       "0      606   1.023334\n",
       "1     1206   0.997048\n",
       "2       15   0.990951\n",
       "3     1376   0.984800\n",
       "4       18   0.983704"
      ]
     },
     "execution_count": 135,
     "metadata": {},
     "output_type": "execute_result"
    }
   ],
   "source": [
    "output_df_item = pd.DataFrame(output,  columns=['item_id', 'als_score'])\n",
    "output_df_item.head()"
   ]
  },
  {
   "cell_type": "code",
   "execution_count": 136,
   "metadata": {},
   "outputs": [],
   "source": [
    "def als_item_based_score(item, records=5):\n",
    "    output_item = model.similar_items(item_id, N=records)\n",
    "    output_df_item = pd.DataFrame(output,  columns=['item_id', 'item_als_score'])\n",
    "    return output_df_item"
   ]
  },
  {
   "cell_type": "code",
   "execution_count": 137,
   "metadata": {},
   "outputs": [
    {
     "data": {
      "text/html": [
       "<div>\n",
       "<style scoped>\n",
       "    .dataframe tbody tr th:only-of-type {\n",
       "        vertical-align: middle;\n",
       "    }\n",
       "\n",
       "    .dataframe tbody tr th {\n",
       "        vertical-align: top;\n",
       "    }\n",
       "\n",
       "    .dataframe thead th {\n",
       "        text-align: right;\n",
       "    }\n",
       "</style>\n",
       "<table border=\"1\" class=\"dataframe\">\n",
       "  <thead>\n",
       "    <tr style=\"text-align: right;\">\n",
       "      <th></th>\n",
       "      <th>item_id</th>\n",
       "      <th>item_als_score</th>\n",
       "    </tr>\n",
       "  </thead>\n",
       "  <tbody>\n",
       "    <tr>\n",
       "      <th>0</th>\n",
       "      <td>606</td>\n",
       "      <td>1.023334</td>\n",
       "    </tr>\n",
       "    <tr>\n",
       "      <th>1</th>\n",
       "      <td>1206</td>\n",
       "      <td>0.997048</td>\n",
       "    </tr>\n",
       "    <tr>\n",
       "      <th>2</th>\n",
       "      <td>15</td>\n",
       "      <td>0.990951</td>\n",
       "    </tr>\n",
       "    <tr>\n",
       "      <th>3</th>\n",
       "      <td>1376</td>\n",
       "      <td>0.984800</td>\n",
       "    </tr>\n",
       "    <tr>\n",
       "      <th>4</th>\n",
       "      <td>18</td>\n",
       "      <td>0.983704</td>\n",
       "    </tr>\n",
       "  </tbody>\n",
       "</table>\n",
       "</div>"
      ],
      "text/plain": [
       "   item_id  item_als_score\n",
       "0      606        1.023334\n",
       "1     1206        0.997048\n",
       "2       15        0.990951\n",
       "3     1376        0.984800\n",
       "4       18        0.983704"
      ]
     },
     "execution_count": 137,
     "metadata": {},
     "output_type": "execute_result"
    }
   ],
   "source": [
    "als_item_based_score(item=1, records=n_users)"
   ]
  },
  {
   "cell_type": "code",
   "execution_count": 138,
   "metadata": {},
   "outputs": [
    {
     "data": {
      "text/html": [
       "<div>\n",
       "<style scoped>\n",
       "    .dataframe tbody tr th:only-of-type {\n",
       "        vertical-align: middle;\n",
       "    }\n",
       "\n",
       "    .dataframe tbody tr th {\n",
       "        vertical-align: top;\n",
       "    }\n",
       "\n",
       "    .dataframe thead th {\n",
       "        text-align: right;\n",
       "    }\n",
       "</style>\n",
       "<table border=\"1\" class=\"dataframe\">\n",
       "  <thead>\n",
       "    <tr style=\"text-align: right;\">\n",
       "      <th></th>\n",
       "      <th>item_id</th>\n",
       "      <th>als_score</th>\n",
       "      <th>title</th>\n",
       "      <th>text_description</th>\n",
       "      <th>item_id_encoded</th>\n",
       "    </tr>\n",
       "  </thead>\n",
       "  <tbody>\n",
       "    <tr>\n",
       "      <th>0</th>\n",
       "      <td>606</td>\n",
       "      <td>1.023334</td>\n",
       "      <td>Could Iceland Embrace Crypto Before Anyone Else?</td>\n",
       "      <td>It has been a rough decade for Iceland . Betwe...</td>\n",
       "      <td>606</td>\n",
       "    </tr>\n",
       "    <tr>\n",
       "      <th>1</th>\n",
       "      <td>1206</td>\n",
       "      <td>0.997048</td>\n",
       "      <td>DARPA Wants to Give Radio Waves AI to Stretch ...</td>\n",
       "      <td>Image by elBidule The radio spectrum is a mess...</td>\n",
       "      <td>1206</td>\n",
       "    </tr>\n",
       "    <tr>\n",
       "      <th>2</th>\n",
       "      <td>15</td>\n",
       "      <td>0.990951</td>\n",
       "      <td>OpenBazaar is Open for Business</td>\n",
       "      <td>OpenBazaar is now released on the mainnet and ...</td>\n",
       "      <td>15</td>\n",
       "    </tr>\n",
       "    <tr>\n",
       "      <th>3</th>\n",
       "      <td>1376</td>\n",
       "      <td>0.984800</td>\n",
       "      <td>What Business Leaders Should Know About Swift</td>\n",
       "      <td>If you're interested in mobile, it's likely th...</td>\n",
       "      <td>1376</td>\n",
       "    </tr>\n",
       "    <tr>\n",
       "      <th>4</th>\n",
       "      <td>18</td>\n",
       "      <td>0.983704</td>\n",
       "      <td>Drupal How-To: Responsive or Adaptive Images? ...</td>\n",
       "      <td>In this 3-part Drupal How-To series, I'm going...</td>\n",
       "      <td>18</td>\n",
       "    </tr>\n",
       "  </tbody>\n",
       "</table>\n",
       "</div>"
      ],
      "text/plain": [
       "   item_id  als_score                                              title  \\\n",
       "0      606   1.023334   Could Iceland Embrace Crypto Before Anyone Else?   \n",
       "1     1206   0.997048  DARPA Wants to Give Radio Waves AI to Stretch ...   \n",
       "2       15   0.990951                    OpenBazaar is Open for Business   \n",
       "3     1376   0.984800      What Business Leaders Should Know About Swift   \n",
       "4       18   0.983704  Drupal How-To: Responsive or Adaptive Images? ...   \n",
       "\n",
       "                                    text_description  item_id_encoded  \n",
       "0  It has been a rough decade for Iceland . Betwe...              606  \n",
       "1  Image by elBidule The radio spectrum is a mess...             1206  \n",
       "2  OpenBazaar is now released on the mainnet and ...               15  \n",
       "3  If you're interested in mobile, it's likely th...             1376  \n",
       "4  In this 3-part Drupal How-To series, I'm going...               18  "
      ]
     },
     "execution_count": 138,
     "metadata": {},
     "output_type": "execute_result"
    }
   ],
   "source": [
    "merged_item = pd.merge(output_df, item_c, how='left', left_on='item_id', right_on='item_id_encoded')\n",
    "merged_item.head()"
   ]
  },
  {
   "cell_type": "code",
   "execution_count": null,
   "metadata": {},
   "outputs": [],
   "source": []
  },
  {
   "cell_type": "markdown",
   "metadata": {},
   "source": [
    "### Hybrid recommendation system\n",
    "- Normalise the scores for content and collaborative filtering and combine them with an appropriate weightage to build a hybrid model.\n",
    "- Try out hybrids of different types of models that can help recommend items similar to a particular item. For example, Content+Item-based collaborative model, ALS+Item-based collaborative model, ALS+Content-based model, etc."
   ]
  },
  {
   "cell_type": "code",
   "execution_count": 139,
   "metadata": {},
   "outputs": [],
   "source": [
    "CUSTOMER = 300\n",
    "ITEM = 2217"
   ]
  },
  {
   "cell_type": "markdown",
   "metadata": {},
   "source": [
    "#### Customer based recommendations"
   ]
  },
  {
   "cell_type": "code",
   "execution_count": 140,
   "metadata": {},
   "outputs": [
    {
     "data": {
      "text/html": [
       "<div>\n",
       "<style scoped>\n",
       "    .dataframe tbody tr th:only-of-type {\n",
       "        vertical-align: middle;\n",
       "    }\n",
       "\n",
       "    .dataframe tbody tr th {\n",
       "        vertical-align: top;\n",
       "    }\n",
       "\n",
       "    .dataframe thead th {\n",
       "        text-align: right;\n",
       "    }\n",
       "</style>\n",
       "<table border=\"1\" class=\"dataframe\">\n",
       "  <thead>\n",
       "    <tr style=\"text-align: right;\">\n",
       "      <th></th>\n",
       "      <th>user_id</th>\n",
       "      <th>item_id</th>\n",
       "      <th>user_collabrative_score</th>\n",
       "      <th>user_als_score</th>\n",
       "    </tr>\n",
       "  </thead>\n",
       "  <tbody>\n",
       "  </tbody>\n",
       "</table>\n",
       "</div>"
      ],
      "text/plain": [
       "Empty DataFrame\n",
       "Columns: [user_id, item_id, user_collabrative_score, user_als_score]\n",
       "Index: []"
      ]
     },
     "execution_count": 140,
     "metadata": {},
     "output_type": "execute_result"
    }
   ],
   "source": [
    "df_hybrid_user = pd.DataFrame(columns=['user_id', 'item_id', 'user_collabrative_score', 'user_als_score'])\n",
    "df_hybrid_user.head()"
   ]
  },
  {
   "cell_type": "code",
   "execution_count": 141,
   "metadata": {},
   "outputs": [
    {
     "name": "stderr",
     "output_type": "stream",
     "text": [
      "100%|██████████| 1644/1644 [01:24<00:00, 19.55it/s]\n"
     ]
    }
   ],
   "source": [
    "df_hybrid_user = pd.DataFrame()\n",
    "for user_index in tqdm(range(0, n_users)):\n",
    "    df_user_collabrative = get_user_based_collabarative_score(customer=user_index, records=n_items)\n",
    "    df_user_als = als_user_based_score(customer=user_index,records=n_items)\n",
    "    df = pd.merge(df_user_collabrative, df_user_als, on='item_id', how='left')\n",
    "    df['user_id'] = user_index\n",
    "    df_hybrid_user = df_hybrid_user.append(df)"
   ]
  },
  {
   "cell_type": "code",
   "execution_count": 142,
   "metadata": {},
   "outputs": [
    {
     "data": {
      "text/plain": [
       "(1644, 1644)"
      ]
     },
     "execution_count": 142,
     "metadata": {},
     "output_type": "execute_result"
    }
   ],
   "source": [
    "n_users, df_hybrid_user['user_id'].nunique()"
   ]
  },
  {
   "cell_type": "code",
   "execution_count": 143,
   "metadata": {},
   "outputs": [],
   "source": [
    "df_hybrid_user['hybrid_user_score'] = df_hybrid_user[['user_collabrative_score', 'user_als_score']].mean(axis=1)"
   ]
  },
  {
   "cell_type": "code",
   "execution_count": 144,
   "metadata": {},
   "outputs": [
    {
     "data": {
      "text/html": [
       "<div>\n",
       "<style scoped>\n",
       "    .dataframe tbody tr th:only-of-type {\n",
       "        vertical-align: middle;\n",
       "    }\n",
       "\n",
       "    .dataframe tbody tr th {\n",
       "        vertical-align: top;\n",
       "    }\n",
       "\n",
       "    .dataframe thead th {\n",
       "        text-align: right;\n",
       "    }\n",
       "</style>\n",
       "<table border=\"1\" class=\"dataframe\">\n",
       "  <thead>\n",
       "    <tr style=\"text-align: right;\">\n",
       "      <th></th>\n",
       "      <th>item_id</th>\n",
       "      <th>user_collabrative_score</th>\n",
       "      <th>user_als_score</th>\n",
       "      <th>user_id</th>\n",
       "      <th>hybrid_user_score</th>\n",
       "    </tr>\n",
       "  </thead>\n",
       "  <tbody>\n",
       "    <tr>\n",
       "      <th>0</th>\n",
       "      <td>634</td>\n",
       "      <td>6.940899</td>\n",
       "      <td>0.000000</td>\n",
       "      <td>0</td>\n",
       "      <td>3.470449</td>\n",
       "    </tr>\n",
       "    <tr>\n",
       "      <th>1</th>\n",
       "      <td>1945</td>\n",
       "      <td>4.886245</td>\n",
       "      <td>NaN</td>\n",
       "      <td>0</td>\n",
       "      <td>4.886245</td>\n",
       "    </tr>\n",
       "    <tr>\n",
       "      <th>2</th>\n",
       "      <td>1960</td>\n",
       "      <td>2.841096</td>\n",
       "      <td>NaN</td>\n",
       "      <td>0</td>\n",
       "      <td>2.841096</td>\n",
       "    </tr>\n",
       "    <tr>\n",
       "      <th>3</th>\n",
       "      <td>1915</td>\n",
       "      <td>2.787629</td>\n",
       "      <td>NaN</td>\n",
       "      <td>0</td>\n",
       "      <td>2.787629</td>\n",
       "    </tr>\n",
       "    <tr>\n",
       "      <th>4</th>\n",
       "      <td>327</td>\n",
       "      <td>2.756232</td>\n",
       "      <td>-0.052737</td>\n",
       "      <td>0</td>\n",
       "      <td>1.351748</td>\n",
       "    </tr>\n",
       "  </tbody>\n",
       "</table>\n",
       "</div>"
      ],
      "text/plain": [
       "   item_id  user_collabrative_score  user_als_score  user_id  \\\n",
       "0      634                 6.940899        0.000000        0   \n",
       "1     1945                 4.886245             NaN        0   \n",
       "2     1960                 2.841096             NaN        0   \n",
       "3     1915                 2.787629             NaN        0   \n",
       "4      327                 2.756232       -0.052737        0   \n",
       "\n",
       "   hybrid_user_score  \n",
       "0           3.470449  \n",
       "1           4.886245  \n",
       "2           2.841096  \n",
       "3           2.787629  \n",
       "4           1.351748  "
      ]
     },
     "execution_count": 144,
     "metadata": {},
     "output_type": "execute_result"
    }
   ],
   "source": [
    "df_hybrid_user.head()"
   ]
  },
  {
   "cell_type": "code",
   "execution_count": 159,
   "metadata": {},
   "outputs": [],
   "source": [
    "df_hybrid_items = pd.DataFrame(columns=['selected_item_id', 'item_id', 'item_collabrative_score', 'item_content_score',\n",
    "                                        'item_als_score'])"
   ]
  },
  {
   "cell_type": "code",
   "execution_count": 160,
   "metadata": {},
   "outputs": [
    {
     "name": "stderr",
     "output_type": "stream",
     "text": [
      "100%|██████████| 2154/2154 [03:35<00:00,  9.98it/s]\n"
     ]
    }
   ],
   "source": [
    "df_hybrid_items = pd.DataFrame()\n",
    "for item_index in tqdm(range(0, n_items)):\n",
    "    df_item_collabrative = get_item_based_collabarative_score(item=item_index, records=n_items)\n",
    "    df_item_content = get_content_based_score(item=item_index, records=n_items)\n",
    "    df_item_als = als_item_based_score(item=item_index, records=n_users)\n",
    "    \n",
    "    df_t = pd.merge(df_item_content, df_item_als, on='item_id', how='left')\n",
    "    df = pd.merge(df_t, df_item_collabrative, on='item_id', how='left')\n",
    "    df['selected_item_id'] = item_index\n",
    "    df_hybrid_items = df_hybrid_items.append(df)"
   ]
  },
  {
   "cell_type": "code",
   "execution_count": 162,
   "metadata": {},
   "outputs": [
    {
     "data": {
      "text/plain": [
       "(2154, 2218, 2154)"
      ]
     },
     "execution_count": 162,
     "metadata": {},
     "output_type": "execute_result"
    }
   ],
   "source": [
    "n_items, df_hybrid_items['item_id'].nunique(), df_hybrid_items['selected_item_id'].nunique()"
   ]
  },
  {
   "cell_type": "code",
   "execution_count": 163,
   "metadata": {},
   "outputs": [],
   "source": [
    "df_hybrid_items['hybrid_item_score'] = df_hybrid_items[['item_content_score', 'item_als_score',\n",
    "                                                     'item_collabrative_score']].mean(axis=1)"
   ]
  },
  {
   "cell_type": "code",
   "execution_count": 164,
   "metadata": {},
   "outputs": [
    {
     "data": {
      "text/html": [
       "<div>\n",
       "<style scoped>\n",
       "    .dataframe tbody tr th:only-of-type {\n",
       "        vertical-align: middle;\n",
       "    }\n",
       "\n",
       "    .dataframe tbody tr th {\n",
       "        vertical-align: top;\n",
       "    }\n",
       "\n",
       "    .dataframe thead th {\n",
       "        text-align: right;\n",
       "    }\n",
       "</style>\n",
       "<table border=\"1\" class=\"dataframe\">\n",
       "  <thead>\n",
       "    <tr style=\"text-align: right;\">\n",
       "      <th></th>\n",
       "      <th>item_id</th>\n",
       "      <th>item_content_score</th>\n",
       "      <th>item_als_score</th>\n",
       "      <th>item_collabrative_score</th>\n",
       "      <th>selected_item_id</th>\n",
       "      <th>hybrid_item_score</th>\n",
       "    </tr>\n",
       "  </thead>\n",
       "  <tbody>\n",
       "    <tr>\n",
       "      <th>0</th>\n",
       "      <td>1577</td>\n",
       "      <td>0.195474</td>\n",
       "      <td>NaN</td>\n",
       "      <td>0.488893</td>\n",
       "      <td>0</td>\n",
       "      <td>0.342183</td>\n",
       "    </tr>\n",
       "    <tr>\n",
       "      <th>1</th>\n",
       "      <td>2001</td>\n",
       "      <td>0.194582</td>\n",
       "      <td>NaN</td>\n",
       "      <td>NaN</td>\n",
       "      <td>0</td>\n",
       "      <td>0.194582</td>\n",
       "    </tr>\n",
       "    <tr>\n",
       "      <th>2</th>\n",
       "      <td>1019</td>\n",
       "      <td>0.190934</td>\n",
       "      <td>NaN</td>\n",
       "      <td>0.000000</td>\n",
       "      <td>0</td>\n",
       "      <td>0.095467</td>\n",
       "    </tr>\n",
       "    <tr>\n",
       "      <th>3</th>\n",
       "      <td>1290</td>\n",
       "      <td>0.179470</td>\n",
       "      <td>NaN</td>\n",
       "      <td>0.079057</td>\n",
       "      <td>0</td>\n",
       "      <td>0.129264</td>\n",
       "    </tr>\n",
       "    <tr>\n",
       "      <th>4</th>\n",
       "      <td>1416</td>\n",
       "      <td>0.164709</td>\n",
       "      <td>NaN</td>\n",
       "      <td>0.000000</td>\n",
       "      <td>0</td>\n",
       "      <td>0.082355</td>\n",
       "    </tr>\n",
       "  </tbody>\n",
       "</table>\n",
       "</div>"
      ],
      "text/plain": [
       "   item_id  item_content_score  item_als_score  item_collabrative_score  \\\n",
       "0     1577            0.195474             NaN                 0.488893   \n",
       "1     2001            0.194582             NaN                      NaN   \n",
       "2     1019            0.190934             NaN                 0.000000   \n",
       "3     1290            0.179470             NaN                 0.079057   \n",
       "4     1416            0.164709             NaN                 0.000000   \n",
       "\n",
       "   selected_item_id  hybrid_item_score  \n",
       "0                 0           0.342183  \n",
       "1                 0           0.194582  \n",
       "2                 0           0.095467  \n",
       "3                 0           0.129264  \n",
       "4                 0           0.082355  "
      ]
     },
     "execution_count": 164,
     "metadata": {},
     "output_type": "execute_result"
    }
   ],
   "source": [
    "df_hybrid_items.head()"
   ]
  },
  {
   "cell_type": "markdown",
   "metadata": {},
   "source": [
    "## Model evaluation\n",
    "- Use appropriate evaluation metrics, such as RMSE, MAE and precision@k\n",
    "- Use global precision@k to assess the overall performance of the recommendation system."
   ]
  },
  {
   "cell_type": "markdown",
   "metadata": {},
   "source": [
    "#### Global Average Precision@K"
   ]
  },
  {
   "cell_type": "code",
   "execution_count": 165,
   "metadata": {},
   "outputs": [
    {
     "data": {
      "text/html": [
       "<div>\n",
       "<style scoped>\n",
       "    .dataframe tbody tr th:only-of-type {\n",
       "        vertical-align: middle;\n",
       "    }\n",
       "\n",
       "    .dataframe tbody tr th {\n",
       "        vertical-align: top;\n",
       "    }\n",
       "\n",
       "    .dataframe thead th {\n",
       "        text-align: right;\n",
       "    }\n",
       "</style>\n",
       "<table border=\"1\" class=\"dataframe\">\n",
       "  <thead>\n",
       "    <tr style=\"text-align: right;\">\n",
       "      <th></th>\n",
       "      <th>item_id</th>\n",
       "      <th>user_collabrative_score</th>\n",
       "      <th>user_als_score</th>\n",
       "      <th>user_id</th>\n",
       "      <th>hybrid_user_score</th>\n",
       "    </tr>\n",
       "  </thead>\n",
       "  <tbody>\n",
       "    <tr>\n",
       "      <th>0</th>\n",
       "      <td>634</td>\n",
       "      <td>6.940899</td>\n",
       "      <td>0.000000</td>\n",
       "      <td>0</td>\n",
       "      <td>3.470449</td>\n",
       "    </tr>\n",
       "    <tr>\n",
       "      <th>1</th>\n",
       "      <td>1945</td>\n",
       "      <td>4.886245</td>\n",
       "      <td>NaN</td>\n",
       "      <td>0</td>\n",
       "      <td>4.886245</td>\n",
       "    </tr>\n",
       "    <tr>\n",
       "      <th>2</th>\n",
       "      <td>1960</td>\n",
       "      <td>2.841096</td>\n",
       "      <td>NaN</td>\n",
       "      <td>0</td>\n",
       "      <td>2.841096</td>\n",
       "    </tr>\n",
       "    <tr>\n",
       "      <th>3</th>\n",
       "      <td>1915</td>\n",
       "      <td>2.787629</td>\n",
       "      <td>NaN</td>\n",
       "      <td>0</td>\n",
       "      <td>2.787629</td>\n",
       "    </tr>\n",
       "    <tr>\n",
       "      <th>4</th>\n",
       "      <td>327</td>\n",
       "      <td>2.756232</td>\n",
       "      <td>-0.052737</td>\n",
       "      <td>0</td>\n",
       "      <td>1.351748</td>\n",
       "    </tr>\n",
       "  </tbody>\n",
       "</table>\n",
       "</div>"
      ],
      "text/plain": [
       "   item_id  user_collabrative_score  user_als_score  user_id  \\\n",
       "0      634                 6.940899        0.000000        0   \n",
       "1     1945                 4.886245             NaN        0   \n",
       "2     1960                 2.841096             NaN        0   \n",
       "3     1915                 2.787629             NaN        0   \n",
       "4      327                 2.756232       -0.052737        0   \n",
       "\n",
       "   hybrid_user_score  \n",
       "0           3.470449  \n",
       "1           4.886245  \n",
       "2           2.841096  \n",
       "3           2.787629  \n",
       "4           1.351748  "
      ]
     },
     "execution_count": 165,
     "metadata": {},
     "output_type": "execute_result"
    }
   ],
   "source": [
    "# Evaluationg hybrid user model\n",
    "df_hybrid_user.head()"
   ]
  },
  {
   "cell_type": "code",
   "execution_count": 166,
   "metadata": {},
   "outputs": [
    {
     "name": "stderr",
     "output_type": "stream",
     "text": [
      "100%|██████████| 1644/1644 [00:08<00:00, 200.56it/s]"
     ]
    },
    {
     "name": "stdout",
     "output_type": "stream",
     "text": [
      "0.9999999999999999\n"
     ]
    },
    {
     "name": "stderr",
     "output_type": "stream",
     "text": [
      "\n"
     ]
    }
   ],
   "source": [
    "global_percision = 0\n",
    "for user_index in tqdm(range(0, n_users)):\n",
    "    user_relevant_set = consumer_interactions[(consumer_interactions['consumer_id_encoded'] == user_index) &\n",
    "                (consumer_interactions['rating'] > 2)].sort_values('rating', ascending=False)['item_id_encoded'].tolist()\n",
    "    user_predicted_set = df_hybrid_user[df_hybrid_user['user_id'] == user_index\n",
    "                        ].sort_values('hybrid_user_score', ascending=False)[:10].index.tolist()\n",
    "    percision_at_10 = len(list(set(user_relevant_set) & set(user_predicted_set))) / 10\n",
    "#     print(percision_at_10)\n",
    "    global_percision = global_percision + percision_at_10\n",
    "print(global_percision)"
   ]
  },
  {
   "cell_type": "code",
   "execution_count": 167,
   "metadata": {},
   "outputs": [
    {
     "data": {
      "text/plain": [
       "0.000608272506082725"
      ]
     },
     "execution_count": 167,
     "metadata": {},
     "output_type": "execute_result"
    }
   ],
   "source": [
    "### Global Average Precision\n",
    "global_average_percision = global_percision / n_users\n",
    "global_average_percision"
   ]
  },
  {
   "cell_type": "markdown",
   "metadata": {},
   "source": [
    "#### Don't recommend items that user have already read"
   ]
  },
  {
   "cell_type": "code",
   "execution_count": 168,
   "metadata": {},
   "outputs": [
    {
     "data": {
      "text/html": [
       "<div>\n",
       "<style scoped>\n",
       "    .dataframe tbody tr th:only-of-type {\n",
       "        vertical-align: middle;\n",
       "    }\n",
       "\n",
       "    .dataframe tbody tr th {\n",
       "        vertical-align: top;\n",
       "    }\n",
       "\n",
       "    .dataframe thead th {\n",
       "        text-align: right;\n",
       "    }\n",
       "</style>\n",
       "<table border=\"1\" class=\"dataframe\">\n",
       "  <thead>\n",
       "    <tr style=\"text-align: right;\">\n",
       "      <th></th>\n",
       "      <th>item_id</th>\n",
       "      <th>rating</th>\n",
       "    </tr>\n",
       "  </thead>\n",
       "  <tbody>\n",
       "    <tr>\n",
       "      <th>0</th>\n",
       "      <td>0</td>\n",
       "      <td>0.0</td>\n",
       "    </tr>\n",
       "    <tr>\n",
       "      <th>1</th>\n",
       "      <td>1</td>\n",
       "      <td>0.0</td>\n",
       "    </tr>\n",
       "    <tr>\n",
       "      <th>2</th>\n",
       "      <td>2</td>\n",
       "      <td>0.0</td>\n",
       "    </tr>\n",
       "    <tr>\n",
       "      <th>3</th>\n",
       "      <td>3</td>\n",
       "      <td>0.0</td>\n",
       "    </tr>\n",
       "    <tr>\n",
       "      <th>4</th>\n",
       "      <td>4</td>\n",
       "      <td>0.0</td>\n",
       "    </tr>\n",
       "  </tbody>\n",
       "</table>\n",
       "</div>"
      ],
      "text/plain": [
       "   item_id  rating\n",
       "0        0     0.0\n",
       "1        1     0.0\n",
       "2        2     0.0\n",
       "3        3     0.0\n",
       "4        4     0.0"
      ]
     },
     "execution_count": 168,
     "metadata": {},
     "output_type": "execute_result"
    }
   ],
   "source": [
    "selected_customer = 410\n",
    "df_user = pd.DataFrame(data_matrix_full[selected_customer], columns=['rating'])\n",
    "df_user.reset_index(inplace=True)\n",
    "df_user.columns = ['item_id', 'rating']\n",
    "df_user.head()"
   ]
  },
  {
   "cell_type": "code",
   "execution_count": 169,
   "metadata": {
    "scrolled": true
   },
   "outputs": [
    {
     "data": {
      "text/plain": [
       "0.0    2217\n",
       "1.0       1\n",
       "Name: rating, dtype: int64"
      ]
     },
     "execution_count": 169,
     "metadata": {},
     "output_type": "execute_result"
    }
   ],
   "source": [
    "df_user['rating'].value_counts()"
   ]
  },
  {
   "cell_type": "code",
   "execution_count": 170,
   "metadata": {
    "scrolled": true
   },
   "outputs": [
    {
     "data": {
      "text/html": [
       "<div>\n",
       "<style scoped>\n",
       "    .dataframe tbody tr th:only-of-type {\n",
       "        vertical-align: middle;\n",
       "    }\n",
       "\n",
       "    .dataframe tbody tr th {\n",
       "        vertical-align: top;\n",
       "    }\n",
       "\n",
       "    .dataframe thead th {\n",
       "        text-align: right;\n",
       "    }\n",
       "</style>\n",
       "<table border=\"1\" class=\"dataframe\">\n",
       "  <thead>\n",
       "    <tr style=\"text-align: right;\">\n",
       "      <th></th>\n",
       "      <th>user_id</th>\n",
       "      <th>item_id</th>\n",
       "      <th>hybrid_user_score</th>\n",
       "      <th>rating</th>\n",
       "    </tr>\n",
       "  </thead>\n",
       "  <tbody>\n",
       "    <tr>\n",
       "      <th>0</th>\n",
       "      <td>410</td>\n",
       "      <td>634</td>\n",
       "      <td>3.470449</td>\n",
       "      <td>0.0</td>\n",
       "    </tr>\n",
       "    <tr>\n",
       "      <th>1</th>\n",
       "      <td>410</td>\n",
       "      <td>1945</td>\n",
       "      <td>4.886245</td>\n",
       "      <td>0.0</td>\n",
       "    </tr>\n",
       "    <tr>\n",
       "      <th>2</th>\n",
       "      <td>410</td>\n",
       "      <td>1960</td>\n",
       "      <td>2.841096</td>\n",
       "      <td>0.0</td>\n",
       "    </tr>\n",
       "    <tr>\n",
       "      <th>3</th>\n",
       "      <td>410</td>\n",
       "      <td>1915</td>\n",
       "      <td>2.787629</td>\n",
       "      <td>0.0</td>\n",
       "    </tr>\n",
       "    <tr>\n",
       "      <th>4</th>\n",
       "      <td>410</td>\n",
       "      <td>327</td>\n",
       "      <td>1.351748</td>\n",
       "      <td>0.0</td>\n",
       "    </tr>\n",
       "  </tbody>\n",
       "</table>\n",
       "</div>"
      ],
      "text/plain": [
       "   user_id  item_id  hybrid_user_score  rating\n",
       "0      410      634           3.470449     0.0\n",
       "1      410     1945           4.886245     0.0\n",
       "2      410     1960           2.841096     0.0\n",
       "3      410     1915           2.787629     0.0\n",
       "4      410      327           1.351748     0.0"
      ]
     },
     "execution_count": 170,
     "metadata": {},
     "output_type": "execute_result"
    }
   ],
   "source": [
    "cols = ['user_id', 'item_id', 'hybrid_user_score']\n",
    "merged_collab = pd.merge(df_hybrid_user[df_hybrid_user['user_id'] == selected_customer][cols], df_user, on='item_id', how='left')\n",
    "merged_collab.head()"
   ]
  },
  {
   "cell_type": "code",
   "execution_count": 171,
   "metadata": {
    "scrolled": true
   },
   "outputs": [
    {
     "data": {
      "text/html": [
       "<div>\n",
       "<style scoped>\n",
       "    .dataframe tbody tr th:only-of-type {\n",
       "        vertical-align: middle;\n",
       "    }\n",
       "\n",
       "    .dataframe tbody tr th {\n",
       "        vertical-align: top;\n",
       "    }\n",
       "\n",
       "    .dataframe thead th {\n",
       "        text-align: right;\n",
       "    }\n",
       "</style>\n",
       "<table border=\"1\" class=\"dataframe\">\n",
       "  <thead>\n",
       "    <tr style=\"text-align: right;\">\n",
       "      <th></th>\n",
       "      <th>user_id</th>\n",
       "      <th>item_id</th>\n",
       "      <th>hybrid_user_score</th>\n",
       "      <th>rating</th>\n",
       "    </tr>\n",
       "  </thead>\n",
       "  <tbody>\n",
       "    <tr>\n",
       "      <th>0</th>\n",
       "      <td>410</td>\n",
       "      <td>634</td>\n",
       "      <td>3.470449</td>\n",
       "      <td>0.0</td>\n",
       "    </tr>\n",
       "    <tr>\n",
       "      <th>1</th>\n",
       "      <td>410</td>\n",
       "      <td>1945</td>\n",
       "      <td>4.886245</td>\n",
       "      <td>0.0</td>\n",
       "    </tr>\n",
       "    <tr>\n",
       "      <th>2</th>\n",
       "      <td>410</td>\n",
       "      <td>1960</td>\n",
       "      <td>2.841096</td>\n",
       "      <td>0.0</td>\n",
       "    </tr>\n",
       "    <tr>\n",
       "      <th>3</th>\n",
       "      <td>410</td>\n",
       "      <td>1915</td>\n",
       "      <td>2.787629</td>\n",
       "      <td>0.0</td>\n",
       "    </tr>\n",
       "    <tr>\n",
       "      <th>4</th>\n",
       "      <td>410</td>\n",
       "      <td>327</td>\n",
       "      <td>1.351748</td>\n",
       "      <td>0.0</td>\n",
       "    </tr>\n",
       "  </tbody>\n",
       "</table>\n",
       "</div>"
      ],
      "text/plain": [
       "   user_id  item_id  hybrid_user_score  rating\n",
       "0      410      634           3.470449     0.0\n",
       "1      410     1945           4.886245     0.0\n",
       "2      410     1960           2.841096     0.0\n",
       "3      410     1915           2.787629     0.0\n",
       "4      410      327           1.351748     0.0"
      ]
     },
     "execution_count": 171,
     "metadata": {},
     "output_type": "execute_result"
    }
   ],
   "source": [
    "merged_collab = merged_collab.drop(merged_collab[merged_collab['rating'] > 0].index)\n",
    "merged_collab.head()"
   ]
  },
  {
   "cell_type": "code",
   "execution_count": 172,
   "metadata": {
    "scrolled": true
   },
   "outputs": [
    {
     "data": {
      "text/plain": [
       "(2153, 4)"
      ]
     },
     "execution_count": 172,
     "metadata": {},
     "output_type": "execute_result"
    }
   ],
   "source": [
    "merged_collab.shape"
   ]
  },
  {
   "cell_type": "code",
   "execution_count": 174,
   "metadata": {
    "scrolled": true
   },
   "outputs": [
    {
     "data": {
      "text/plain": [
       "[1945, 634, 1960, 1915, 2078, 2142, 134, 383, 2196, 1868]"
      ]
     },
     "execution_count": 174,
     "metadata": {},
     "output_type": "execute_result"
    }
   ],
   "source": [
    "merged_collab[merged_collab['rating'].notnull()].sort_values('hybrid_user_score', ascending=False)['item_id'][:10].to_list()"
   ]
  },
  {
   "cell_type": "markdown",
   "metadata": {},
   "source": [
    "`Inference: ` Recommended top 10 items for the ${selected_customer}"
   ]
  },
  {
   "cell_type": "code",
   "execution_count": null,
   "metadata": {},
   "outputs": [],
   "source": []
  }
 ],
 "metadata": {
  "kernelspec": {
   "display_name": "Python [default]",
   "language": "python",
   "name": "python3"
  },
  "language_info": {
   "codemirror_mode": {
    "name": "ipython",
    "version": 3
   },
   "file_extension": ".py",
   "mimetype": "text/x-python",
   "name": "python",
   "nbconvert_exporter": "python",
   "pygments_lexer": "ipython3",
   "version": "3.6.9"
  }
 },
 "nbformat": 4,
 "nbformat_minor": 2
}
